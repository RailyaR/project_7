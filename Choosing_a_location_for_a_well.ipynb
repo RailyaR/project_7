{
  "cells": [
    {
      "cell_type": "markdown",
      "metadata": {
        "id": "v9D9WRkhfjy_"
      },
      "source": [
        "# Выбор локации для скважины"
      ]
    },
    {
      "cell_type": "markdown",
      "metadata": {
        "id": "iMZUji7SfjzA"
      },
      "source": [
        "Допустим, вы работаете в добывающей компании «ГлавРосГосНефть». Нужно решить, где бурить новую скважину.\n",
        "\n",
        "Вам предоставлены пробы нефти в трёх регионах: в каждом 10 000 месторождений, где измерили качество нефти и объём её запасов. \n",
        "Шаги для выбора локации:\n",
        "\n",
        "- В избранном регионе ищут месторождения, для каждого определяют значения признаков;\n",
        "- Строят модель и оценивают объём запасов;\n",
        "- Выбирают месторождения с самым высокими оценками значений. Количество месторождений зависит от бюджета компании и стоимости разработки одной скважины;\n",
        "- Прибыль равна суммарной прибыли отобранных месторождений.\n",
        "\n"
      ]
    },
    {
      "cell_type": "markdown",
      "metadata": {
        "id": "WYQuHiD6fjzA"
      },
      "source": [
        "<b>Цель проекта:</b> \n",
        "- Построить модель для определения региона, где добыча принесёт наибольшую прибыль. \n",
        "\n",
        "<b>Задача проекта:</b> \n",
        "- Проанализировать возможную прибыль и риски.\n",
        "\n",
        "<b>Описание данных:</b>\n",
        "\n",
        "- id — уникальный идентификатор скважины;\n",
        "- f0, f1, f2 — три признака точек;"
      ]
    },
    {
      "cell_type": "markdown",
      "metadata": {
        "id": "a6uDln3tfjzB"
      },
      "source": [
        "<a id='Цель'></a>"
      ]
    },
    {
      "cell_type": "markdown",
      "metadata": {
        "id": "5CsLmfcqfjzC"
      },
      "source": [
        "## Загрузка и подготовка данных"
      ]
    },
    {
      "cell_type": "code",
      "execution_count": null,
      "metadata": {
        "id": "20sEASuofjzD"
      },
      "outputs": [],
      "source": [
        "import pandas as pd\n",
        "import seaborn as sns\n",
        "import  numpy as np\n",
        "from scipy import stats as st\n",
        "import matplotlib.pyplot as plt\n",
        "from sklearn.model_selection import train_test_split\n",
        "from sklearn.linear_model import LinearRegression\n",
        "from sklearn.metrics import mean_squared_error\n",
        "from sklearn.preprocessing import StandardScaler\n"
      ]
    },
    {
      "cell_type": "code",
      "execution_count": null,
      "metadata": {
        "id": "A36sDXZJfjzE"
      },
      "outputs": [],
      "source": [
        "RANDOM_STATE = 20052020\n",
        "BUDGET = 1e+07 #Мы расчитываем прибыль в тысячах рублей за тысячу барелей, поэтому 1 милиард сохранен таким образом\n",
        "CHOSEN_POINTS = 500\n",
        "BEST_POINTS = 200\n",
        "\n",
        "# цена за 1000 баррелей сырья\n",
        "PRICE_PER_BARREL = 450\n",
        "# доверительный интервал \n",
        "CONF_INTERVAL = 0.95\n",
        "# максимальная вероятность убытков\n",
        "MAX_LOSS = 0.025"
      ]
    },
    {
      "cell_type": "code",
      "execution_count": null,
      "metadata": {
        "id": "Hr8Vq321fjzE",
        "outputId": "6bab7332-5b3a-4500-c71d-e588c4de1415"
      },
      "outputs": [
        {
          "name": "stdout",
          "output_type": "stream",
          "text": [
            "          id        f0        f1        f2     product\n",
            "0      txEyH  0.705745 -0.497823  1.221170  105.280062\n",
            "1      2acmU  1.334711 -0.340164  4.365080   73.037750\n",
            "2      409Wp  1.022732  0.151990  1.419926   85.265647\n",
            "3      iJLyR -0.032172  0.139033  2.978566  168.620776\n",
            "4      Xdl7t  1.988431  0.155413  4.751769  154.036647\n",
            "...      ...       ...       ...       ...         ...\n",
            "99995  DLsed  0.971957  0.370953  6.075346  110.744026\n",
            "99996  QKivN  1.392429 -0.382606  1.273912  122.346843\n",
            "99997  3rnvd  1.029585  0.018787 -1.348308   64.375443\n",
            "99998  7kl59  0.998163 -0.528582  1.583869   74.040764\n",
            "99999  1CWhH  1.764754 -0.266417  5.722849  149.633246\n",
            "\n",
            "[100000 rows x 5 columns]\n",
            "<class 'pandas.core.frame.DataFrame'>\n",
            "RangeIndex: 100000 entries, 0 to 99999\n",
            "Data columns (total 5 columns):\n",
            " #   Column   Non-Null Count   Dtype  \n",
            "---  ------   --------------   -----  \n",
            " 0   id       100000 non-null  object \n",
            " 1   f0       100000 non-null  float64\n",
            " 2   f1       100000 non-null  float64\n",
            " 3   f2       100000 non-null  float64\n",
            " 4   product  100000 non-null  float64\n",
            "dtypes: float64(4), object(1)\n",
            "memory usage: 3.8+ MB\n"
          ]
        }
      ],
      "source": [
        "geo_data_0 = pd.read_csv('/datasets/geo_data_0.csv')\n",
        "print(geo_data_0)\n",
        "geo_data_0.info()"
      ]
    },
    {
      "cell_type": "code",
      "execution_count": null,
      "metadata": {
        "id": "nM103KjqfjzF",
        "outputId": "a87d1fcf-80d7-4cbd-a96b-2aa4fc3f2701"
      },
      "outputs": [
        {
          "name": "stdout",
          "output_type": "stream",
          "text": [
            "          id         f0         f1        f2     product\n",
            "0      kBEdx -15.001348  -8.276000 -0.005876    3.179103\n",
            "1      62mP7  14.272088  -3.475083  0.999183   26.953261\n",
            "2      vyE1P   6.263187  -5.948386  5.001160  134.766305\n",
            "3      KcrkZ -13.081196 -11.506057  4.999415  137.945408\n",
            "4      AHL4O  12.702195  -8.147433  5.004363  134.766305\n",
            "...      ...        ...        ...       ...         ...\n",
            "99995  QywKC   9.535637  -6.878139  1.998296   53.906522\n",
            "99996  ptvty -10.160631 -12.558096  5.005581  137.945408\n",
            "99997  09gWa  -7.378891  -3.084104  4.998651  137.945408\n",
            "99998  rqwUm   0.665714  -6.152593  1.000146   30.132364\n",
            "99999  relB0  -3.426139  -7.794274 -0.003299    3.179103\n",
            "\n",
            "[100000 rows x 5 columns]\n",
            "<class 'pandas.core.frame.DataFrame'>\n",
            "RangeIndex: 100000 entries, 0 to 99999\n",
            "Data columns (total 5 columns):\n",
            " #   Column   Non-Null Count   Dtype  \n",
            "---  ------   --------------   -----  \n",
            " 0   id       100000 non-null  object \n",
            " 1   f0       100000 non-null  float64\n",
            " 2   f1       100000 non-null  float64\n",
            " 3   f2       100000 non-null  float64\n",
            " 4   product  100000 non-null  float64\n",
            "dtypes: float64(4), object(1)\n",
            "memory usage: 3.8+ MB\n"
          ]
        }
      ],
      "source": [
        "geo_data_1 = pd.read_csv('/datasets/geo_data_1.csv')\n",
        "print(geo_data_1)\n",
        "geo_data_1.info()"
      ]
    },
    {
      "cell_type": "code",
      "execution_count": null,
      "metadata": {
        "scrolled": true,
        "id": "zHqLHBAffjzG",
        "outputId": "247dc2c4-d72f-4b4a-b899-00e2fa066efc"
      },
      "outputs": [
        {
          "name": "stdout",
          "output_type": "stream",
          "text": [
            "          id        f0        f1        f2     product\n",
            "0      fwXo0 -1.146987  0.963328 -0.828965   27.758673\n",
            "1      WJtFt  0.262778  0.269839 -2.530187   56.069697\n",
            "2      ovLUW  0.194587  0.289035 -5.586433   62.871910\n",
            "3      q6cA6  2.236060 -0.553760  0.930038  114.572842\n",
            "4      WPMUX -0.515993  1.716266  5.899011  149.600746\n",
            "...      ...       ...       ...       ...         ...\n",
            "99995  4GxBu -1.777037  1.125220  6.263374  172.327046\n",
            "99996  YKFjq -1.261523 -0.894828  2.524545  138.748846\n",
            "99997  tKPY3 -1.199934 -2.957637  5.219411  157.080080\n",
            "99998  nmxp2 -2.419896  2.417221 -5.548444   51.795253\n",
            "99999  V9kWn -2.551421 -2.025625  6.090891  102.775767\n",
            "\n",
            "[100000 rows x 5 columns]\n",
            "<class 'pandas.core.frame.DataFrame'>\n",
            "RangeIndex: 100000 entries, 0 to 99999\n",
            "Data columns (total 5 columns):\n",
            " #   Column   Non-Null Count   Dtype  \n",
            "---  ------   --------------   -----  \n",
            " 0   id       100000 non-null  object \n",
            " 1   f0       100000 non-null  float64\n",
            " 2   f1       100000 non-null  float64\n",
            " 3   f2       100000 non-null  float64\n",
            " 4   product  100000 non-null  float64\n",
            "dtypes: float64(4), object(1)\n",
            "memory usage: 3.8+ MB\n"
          ]
        }
      ],
      "source": [
        "geo_data_2 = pd.read_csv('/datasets/geo_data_2.csv')\n",
        "print(geo_data_2)\n",
        "geo_data_2.info()"
      ]
    },
    {
      "cell_type": "code",
      "execution_count": null,
      "metadata": {
        "id": "b8O2MXUAfjzH"
      },
      "outputs": [],
      "source": [
        "def all_columns(data):\n",
        "    for column in data.columns:\n",
        "        print('Значения столбца:',column)\n",
        "        print(data[column].value_counts(sort=False))\n",
        "        print(data[column].isna().sum())"
      ]
    },
    {
      "cell_type": "code",
      "execution_count": null,
      "metadata": {
        "scrolled": true,
        "id": "DYMdbR_IfjzH",
        "outputId": "50b9dddb-854b-4a1e-d519-c9d84b73cb73"
      },
      "outputs": [
        {
          "name": "stdout",
          "output_type": "stream",
          "text": [
            "Значения столбца: id\n",
            "fuRo2    1\n",
            "1XkJa    1\n",
            "uj5be    1\n",
            "xEbTI    1\n",
            "7ingc    1\n",
            "        ..\n",
            "lLaKD    1\n",
            "YLqs5    1\n",
            "x3h8H    1\n",
            "hmVVj    1\n",
            "CtNDK    1\n",
            "Name: id, Length: 99990, dtype: int64\n",
            "0\n",
            "Значения столбца: f0\n",
            "-1.218900    1\n",
            " 0.525548    1\n",
            " 0.866862    1\n",
            " 1.117919    1\n",
            " 0.095273    1\n",
            "            ..\n",
            "-1.103398    1\n",
            "-0.883459    1\n",
            " 0.026910    1\n",
            "-0.671293    1\n",
            " 1.751793    1\n",
            "Name: f0, Length: 100000, dtype: int64\n",
            "0\n",
            "Значения столбца: f1\n",
            " 0.296390    1\n",
            "-0.116367    1\n",
            " 0.883576    1\n",
            " 0.458262    1\n",
            "-0.373818    1\n",
            "            ..\n",
            " 0.037648    1\n",
            " 0.927519    1\n",
            "-0.421482    1\n",
            " 0.356963    1\n",
            " 1.010051    1\n",
            "Name: f1, Length: 100000, dtype: int64\n",
            "0\n",
            "Значения столбца: f2\n",
            " 4.623968    1\n",
            "-5.438327    1\n",
            "-2.367265    1\n",
            " 2.383399    1\n",
            " 3.722145    1\n",
            "            ..\n",
            " 7.784803    1\n",
            " 1.456061    1\n",
            " 5.500312    1\n",
            " 0.365033    1\n",
            " 4.001244    1\n",
            "Name: f2, Length: 100000, dtype: int64\n",
            "0\n",
            "Значения столбца: product\n",
            "0.000000      1\n",
            "133.723699    1\n",
            "129.517599    1\n",
            "24.992933     1\n",
            "136.765364    1\n",
            "             ..\n",
            "39.201231     1\n",
            "180.119488    1\n",
            "32.692937     1\n",
            "112.729314    1\n",
            "154.424007    1\n",
            "Name: product, Length: 100000, dtype: int64\n",
            "0\n"
          ]
        }
      ],
      "source": [
        "all_columns(geo_data_0)"
      ]
    },
    {
      "cell_type": "code",
      "execution_count": null,
      "metadata": {
        "scrolled": true,
        "id": "K0KuXrH3fjzI",
        "outputId": "3562d7ad-eb8e-401a-fbeb-855258bff442"
      },
      "outputs": [
        {
          "name": "stdout",
          "output_type": "stream",
          "text": [
            "Значения столбца: id\n",
            "548tX    1\n",
            "0oWtM    1\n",
            "s3yYQ    1\n",
            "FfCLe    1\n",
            "IwIp6    1\n",
            "        ..\n",
            "BUhlI    1\n",
            "9LaDf    1\n",
            "sdOAU    1\n",
            "pCTh8    1\n",
            "VEbg2    1\n",
            "Name: id, Length: 99996, dtype: int64\n",
            "0\n",
            "Значения столбца: f0\n",
            " 9.471578     1\n",
            "-8.395493     1\n",
            " 4.533891     1\n",
            "-4.839293     1\n",
            " 11.700646    1\n",
            "             ..\n",
            " 12.479367    1\n",
            " 15.524717    1\n",
            " 12.405683    1\n",
            "-7.530917     1\n",
            " 2.442558     1\n",
            "Name: f0, Length: 100000, dtype: int64\n",
            "0\n",
            "Значения столбца: f1\n",
            "-7.148426     1\n",
            "-6.666191     1\n",
            "-10.583532    1\n",
            "-3.942526     1\n",
            "-15.817087    1\n",
            "             ..\n",
            " 4.681453     1\n",
            "-7.187354     1\n",
            "-12.323437    1\n",
            " 1.040570     1\n",
            "-0.688613     1\n",
            "Name: f1, Length: 100000, dtype: int64\n",
            "0\n",
            "Значения столбца: f2\n",
            "3.996243    1\n",
            "2.005584    1\n",
            "0.999501    1\n",
            "1.002244    1\n",
            "1.999583    1\n",
            "           ..\n",
            "2.998464    1\n",
            "0.994707    1\n",
            "3.995093    1\n",
            "3.004506    1\n",
            "4.992682    1\n",
            "Name: f2, Length: 100000, dtype: int64\n",
            "0\n",
            "Значения столбца: product\n",
            "0.000000      8235\n",
            "53.906522     8472\n",
            "107.813044    8201\n",
            "110.992147    8303\n",
            "84.038886     8431\n",
            "80.859783     8320\n",
            "57.085625     8390\n",
            "137.945408    8233\n",
            "30.132364     8306\n",
            "26.953261     8468\n",
            "134.766305    8304\n",
            "3.179103      8337\n",
            "Name: product, dtype: int64\n",
            "0\n"
          ]
        }
      ],
      "source": [
        "all_columns(geo_data_1)"
      ]
    },
    {
      "cell_type": "code",
      "execution_count": null,
      "metadata": {
        "scrolled": true,
        "id": "r3K7NFOhfjzI",
        "outputId": "e8a21d75-53b3-4177-dfcf-dc8451125c3a"
      },
      "outputs": [
        {
          "name": "stdout",
          "output_type": "stream",
          "text": [
            "Значения столбца: id\n",
            "egEMm    1\n",
            "a8VaR    1\n",
            "g4wvt    1\n",
            "eeXop    1\n",
            "tWfU8    1\n",
            "        ..\n",
            "DRzUA    1\n",
            "HBzwX    1\n",
            "ShTCf    1\n",
            "wPMew    1\n",
            "Gogu2    1\n",
            "Name: id, Length: 99996, dtype: int64\n",
            "0\n",
            "Значения столбца: f0\n",
            " 1.936057    1\n",
            " 0.432748    1\n",
            "-1.746265    1\n",
            "-1.958230    1\n",
            "-1.414499    1\n",
            "            ..\n",
            " 0.264160    1\n",
            " 2.269780    1\n",
            " 0.090251    1\n",
            " 0.093830    1\n",
            "-0.107381    1\n",
            "Name: f0, Length: 100000, dtype: int64\n",
            "0\n",
            "Значения столбца: f1\n",
            "-0.424195    1\n",
            " 0.846164    1\n",
            "-2.271138    1\n",
            " 2.347509    1\n",
            "-0.124269    1\n",
            "            ..\n",
            " 2.502378    1\n",
            "-0.178990    1\n",
            " 0.474891    1\n",
            " 1.341191    1\n",
            " 1.717903    1\n",
            "Name: f1, Length: 100000, dtype: int64\n",
            "0\n",
            "Значения столбца: f2\n",
            " 1.553554    1\n",
            "-2.331369    1\n",
            " 1.519549    1\n",
            " 5.327140    1\n",
            " 7.258969    1\n",
            "            ..\n",
            " 5.130376    1\n",
            " 8.128532    1\n",
            " 6.997860    1\n",
            " 5.795279    1\n",
            " 0.206914    1\n",
            "Name: f2, Length: 100000, dtype: int64\n",
            "0\n",
            "Значения столбца: product\n",
            "0.000000      1\n",
            "152.975437    1\n",
            "8.738391      1\n",
            "97.388861     1\n",
            "28.528816     1\n",
            "             ..\n",
            "127.745337    1\n",
            "140.071508    1\n",
            "49.526812     1\n",
            "7.017207      1\n",
            "49.640390     1\n",
            "Name: product, Length: 100000, dtype: int64\n",
            "0\n"
          ]
        }
      ],
      "source": [
        "all_columns(geo_data_2)"
      ]
    },
    {
      "cell_type": "markdown",
      "metadata": {
        "id": "XgLjODfQfjzJ"
      },
      "source": [
        "<div class=\"alert alert-info\">\n",
        "<b>👆 О таблицах : </b> \n",
        "<br> * Пропусков не было выявлено.\n",
        "<br>  * Удалим столбец id, для реализации поставленной задачи он не понадобится.\n",
        "\n",
        "    \n",
        "</div>"
      ]
    },
    {
      "cell_type": "code",
      "execution_count": null,
      "metadata": {
        "id": "u0OfKA_ifjzK"
      },
      "outputs": [],
      "source": [
        "def columns(data):\n",
        "    for column in data.columns:\n",
        "        print('Значения столбца:',column)\n",
        "        print(data[column].duplicated().sum())"
      ]
    },
    {
      "cell_type": "code",
      "execution_count": null,
      "metadata": {
        "id": "pOVyWaRxfjzK",
        "outputId": "576186a5-f9ed-44ec-eb5c-b4bb6cc7ee37"
      },
      "outputs": [
        {
          "name": "stdout",
          "output_type": "stream",
          "text": [
            "Значения столбца: id\n",
            "10\n",
            "Значения столбца: f0\n",
            "0\n",
            "Значения столбца: f1\n",
            "0\n",
            "Значения столбца: f2\n",
            "0\n",
            "Значения столбца: product\n",
            "0\n"
          ]
        }
      ],
      "source": [
        "columns(geo_data_0)"
      ]
    },
    {
      "cell_type": "code",
      "execution_count": null,
      "metadata": {
        "id": "R5x0142TfjzK",
        "outputId": "54493c21-84b7-4cc9-ef3d-0991f8d7a053"
      },
      "outputs": [
        {
          "name": "stdout",
          "output_type": "stream",
          "text": [
            "Значения столбца: id\n",
            "4\n",
            "Значения столбца: f0\n",
            "0\n",
            "Значения столбца: f1\n",
            "0\n",
            "Значения столбца: f2\n",
            "0\n",
            "Значения столбца: product\n",
            "99988\n"
          ]
        }
      ],
      "source": [
        "columns(geo_data_1)"
      ]
    },
    {
      "cell_type": "code",
      "execution_count": null,
      "metadata": {
        "id": "OoEJnhzofjzK",
        "outputId": "8e617959-9c27-495c-bcc3-32bdf7095b1d"
      },
      "outputs": [
        {
          "name": "stdout",
          "output_type": "stream",
          "text": [
            "Значения столбца: id\n",
            "4\n",
            "Значения столбца: f0\n",
            "0\n",
            "Значения столбца: f1\n",
            "0\n",
            "Значения столбца: f2\n",
            "0\n",
            "Значения столбца: product\n",
            "0\n"
          ]
        }
      ],
      "source": [
        "columns(geo_data_2)"
      ]
    },
    {
      "cell_type": "code",
      "execution_count": null,
      "metadata": {
        "id": "rpLOb4-sfjzL"
      },
      "outputs": [],
      "source": [
        "def col(data):\n",
        "    for column in data.columns:\n",
        "        print('Значения столбца:',column)\n",
        "        print(data[column].drop_duplicates().reset_index(drop=True))\n",
        "        print(data[column].duplicated().sum())"
      ]
    },
    {
      "cell_type": "code",
      "execution_count": null,
      "metadata": {
        "scrolled": true,
        "id": "C7DrG7K8fjzL",
        "outputId": "9d4958e8-47e9-4941-8e53-0cb81f01e6a8"
      },
      "outputs": [
        {
          "name": "stdout",
          "output_type": "stream",
          "text": [
            "Значения столбца: id\n",
            "0        txEyH\n",
            "1        2acmU\n",
            "2        409Wp\n",
            "3        iJLyR\n",
            "4        Xdl7t\n",
            "         ...  \n",
            "99985    DLsed\n",
            "99986    QKivN\n",
            "99987    3rnvd\n",
            "99988    7kl59\n",
            "99989    1CWhH\n",
            "Name: id, Length: 99990, dtype: object\n",
            "10\n",
            "Значения столбца: f0\n",
            "0        0.705745\n",
            "1        1.334711\n",
            "2        1.022732\n",
            "3       -0.032172\n",
            "4        1.988431\n",
            "           ...   \n",
            "99995    0.971957\n",
            "99996    1.392429\n",
            "99997    1.029585\n",
            "99998    0.998163\n",
            "99999    1.764754\n",
            "Name: f0, Length: 100000, dtype: float64\n",
            "0\n",
            "Значения столбца: f1\n",
            "0       -0.497823\n",
            "1       -0.340164\n",
            "2        0.151990\n",
            "3        0.139033\n",
            "4        0.155413\n",
            "           ...   \n",
            "99995    0.370953\n",
            "99996   -0.382606\n",
            "99997    0.018787\n",
            "99998   -0.528582\n",
            "99999   -0.266417\n",
            "Name: f1, Length: 100000, dtype: float64\n",
            "0\n",
            "Значения столбца: f2\n",
            "0        1.221170\n",
            "1        4.365080\n",
            "2        1.419926\n",
            "3        2.978566\n",
            "4        4.751769\n",
            "           ...   \n",
            "99995    6.075346\n",
            "99996    1.273912\n",
            "99997   -1.348308\n",
            "99998    1.583869\n",
            "99999    5.722849\n",
            "Name: f2, Length: 100000, dtype: float64\n",
            "0\n",
            "Значения столбца: product\n",
            "0        105.280062\n",
            "1         73.037750\n",
            "2         85.265647\n",
            "3        168.620776\n",
            "4        154.036647\n",
            "            ...    \n",
            "99995    110.744026\n",
            "99996    122.346843\n",
            "99997     64.375443\n",
            "99998     74.040764\n",
            "99999    149.633246\n",
            "Name: product, Length: 100000, dtype: float64\n",
            "0\n"
          ]
        }
      ],
      "source": [
        "col(geo_data_0)"
      ]
    },
    {
      "cell_type": "code",
      "execution_count": null,
      "metadata": {
        "scrolled": true,
        "id": "YYIN3nxYfjzL",
        "outputId": "e159b428-6aa3-4c2f-9cce-dfb237225ab4"
      },
      "outputs": [
        {
          "name": "stdout",
          "output_type": "stream",
          "text": [
            "Значения столбца: id\n",
            "0        kBEdx\n",
            "1        62mP7\n",
            "2        vyE1P\n",
            "3        KcrkZ\n",
            "4        AHL4O\n",
            "         ...  \n",
            "99991    QywKC\n",
            "99992    ptvty\n",
            "99993    09gWa\n",
            "99994    rqwUm\n",
            "99995    relB0\n",
            "Name: id, Length: 99996, dtype: object\n",
            "4\n",
            "Значения столбца: f0\n",
            "0       -15.001348\n",
            "1        14.272088\n",
            "2         6.263187\n",
            "3       -13.081196\n",
            "4        12.702195\n",
            "           ...    \n",
            "99995     9.535637\n",
            "99996   -10.160631\n",
            "99997    -7.378891\n",
            "99998     0.665714\n",
            "99999    -3.426139\n",
            "Name: f0, Length: 100000, dtype: float64\n",
            "0\n",
            "Значения столбца: f1\n",
            "0        -8.276000\n",
            "1        -3.475083\n",
            "2        -5.948386\n",
            "3       -11.506057\n",
            "4        -8.147433\n",
            "           ...    \n",
            "99995    -6.878139\n",
            "99996   -12.558096\n",
            "99997    -3.084104\n",
            "99998    -6.152593\n",
            "99999    -7.794274\n",
            "Name: f1, Length: 100000, dtype: float64\n",
            "0\n",
            "Значения столбца: f2\n",
            "0       -0.005876\n",
            "1        0.999183\n",
            "2        5.001160\n",
            "3        4.999415\n",
            "4        5.004363\n",
            "           ...   \n",
            "99995    1.998296\n",
            "99996    5.005581\n",
            "99997    4.998651\n",
            "99998    1.000146\n",
            "99999   -0.003299\n",
            "Name: f2, Length: 100000, dtype: float64\n",
            "0\n",
            "Значения столбца: product\n",
            "0       3.179103\n",
            "1      26.953261\n",
            "2     134.766305\n",
            "3     137.945408\n",
            "4      84.038886\n",
            "5     110.992147\n",
            "6      53.906522\n",
            "7       0.000000\n",
            "8     107.813044\n",
            "9      57.085625\n",
            "10     30.132364\n",
            "11     80.859783\n",
            "Name: product, dtype: float64\n",
            "99988\n"
          ]
        }
      ],
      "source": [
        "col(geo_data_1)"
      ]
    },
    {
      "cell_type": "code",
      "execution_count": null,
      "metadata": {
        "scrolled": true,
        "id": "EF0GpLLSfjzL",
        "outputId": "9ec91f3c-07a1-4a19-8883-3a10c418eee5"
      },
      "outputs": [
        {
          "name": "stdout",
          "output_type": "stream",
          "text": [
            "Значения столбца: id\n",
            "0        fwXo0\n",
            "1        WJtFt\n",
            "2        ovLUW\n",
            "3        q6cA6\n",
            "4        WPMUX\n",
            "         ...  \n",
            "99991    4GxBu\n",
            "99992    YKFjq\n",
            "99993    tKPY3\n",
            "99994    nmxp2\n",
            "99995    V9kWn\n",
            "Name: id, Length: 99996, dtype: object\n",
            "4\n",
            "Значения столбца: f0\n",
            "0       -1.146987\n",
            "1        0.262778\n",
            "2        0.194587\n",
            "3        2.236060\n",
            "4       -0.515993\n",
            "           ...   \n",
            "99995   -1.777037\n",
            "99996   -1.261523\n",
            "99997   -1.199934\n",
            "99998   -2.419896\n",
            "99999   -2.551421\n",
            "Name: f0, Length: 100000, dtype: float64\n",
            "0\n",
            "Значения столбца: f1\n",
            "0        0.963328\n",
            "1        0.269839\n",
            "2        0.289035\n",
            "3       -0.553760\n",
            "4        1.716266\n",
            "           ...   \n",
            "99995    1.125220\n",
            "99996   -0.894828\n",
            "99997   -2.957637\n",
            "99998    2.417221\n",
            "99999   -2.025625\n",
            "Name: f1, Length: 100000, dtype: float64\n",
            "0\n",
            "Значения столбца: f2\n",
            "0       -0.828965\n",
            "1       -2.530187\n",
            "2       -5.586433\n",
            "3        0.930038\n",
            "4        5.899011\n",
            "           ...   \n",
            "99995    6.263374\n",
            "99996    2.524545\n",
            "99997    5.219411\n",
            "99998   -5.548444\n",
            "99999    6.090891\n",
            "Name: f2, Length: 100000, dtype: float64\n",
            "0\n",
            "Значения столбца: product\n",
            "0         27.758673\n",
            "1         56.069697\n",
            "2         62.871910\n",
            "3        114.572842\n",
            "4        149.600746\n",
            "            ...    \n",
            "99995    172.327046\n",
            "99996    138.748846\n",
            "99997    157.080080\n",
            "99998     51.795253\n",
            "99999    102.775767\n",
            "Name: product, Length: 100000, dtype: float64\n",
            "0\n"
          ]
        }
      ],
      "source": [
        "col(geo_data_2)"
      ]
    },
    {
      "cell_type": "code",
      "execution_count": null,
      "metadata": {
        "id": "Z0ly48rafjzM",
        "outputId": "4ec2527e-d67c-4356-af46-450c3e7d37e7"
      },
      "outputs": [
        {
          "name": "stdout",
          "output_type": "stream",
          "text": [
            "Количество дубликатов: 0\n",
            "Количество дубликатов: 0\n",
            "Количество дубликатов: 0\n"
          ]
        }
      ],
      "source": [
        "print('Количество дубликатов:',geo_data_0.duplicated().sum())\n",
        "print('Количество дубликатов:',geo_data_1.duplicated().sum())\n",
        "print('Количество дубликатов:',geo_data_2.duplicated().sum())\n"
      ]
    },
    {
      "cell_type": "code",
      "execution_count": null,
      "metadata": {
        "id": "oGEAXw3IfjzM",
        "outputId": "d2443526-ed07-4a3c-83e6-d56361a55571"
      },
      "outputs": [
        {
          "name": "stdout",
          "output_type": "stream",
          "text": [
            "Количество уникальных значений df0: False\n",
            "Количество уникальных значений df1: False\n",
            "Количество уникальных значений df2: False\n"
          ]
        }
      ],
      "source": [
        "print('Количество уникальных значений df0:',geo_data_0['id'].unique().shape[0] == geo_data_0.shape[0])\n",
        "print('Количество уникальных значений df1:',geo_data_1['id'].unique().shape[0] == geo_data_1.shape[0])\n",
        "print('Количество уникальных значений df2:',geo_data_2['id'].unique().shape[0] == geo_data_2.shape[0])"
      ]
    },
    {
      "cell_type": "code",
      "execution_count": null,
      "metadata": {
        "id": "NQ09NDHXfjzM"
      },
      "outputs": [],
      "source": [
        "def hmap(data):\n",
        "    sns.heatmap(data.corr(), annot = True,fmt='.2g')"
      ]
    },
    {
      "cell_type": "code",
      "execution_count": null,
      "metadata": {
        "id": "blEGmIjcfjzM",
        "outputId": "f8bafa47-b623-4839-ccf0-82a7001413f0"
      },
      "outputs": [
        {
          "data": {
            "image/png": "[encoded data removed]",
            "text/plain": [
              "<Figure size 432x288 with 2 Axes>"
            ]
          },
          "metadata": {
            "needs_background": "light"
          },
          "output_type": "display_data"
        }
      ],
      "source": [
        "hmap(geo_data_0)"
      ]
    },
    {
      "cell_type": "code",
      "execution_count": null,
      "metadata": {
        "id": "IpwexPRMfjzM",
        "outputId": "3b7e89c5-1d80-430c-ef85-b4eb085fae1b"
      },
      "outputs": [
        {
          "data": {
            "image/png": "[encoded data removed]",
            "text/plain": [
              "<Figure size 432x288 with 2 Axes>"
            ]
          },
          "metadata": {
            "needs_background": "light"
          },
          "output_type": "display_data"
        }
      ],
      "source": [
        "hmap(geo_data_1)"
      ]
    },
    {
      "cell_type": "code",
      "execution_count": null,
      "metadata": {
        "id": "Pf9qcCilfjzM",
        "outputId": "ca405989-ed6e-4c63-e69a-9048c36f8a0a"
      },
      "outputs": [
        {
          "data": {
            "image/png": "[encoded data removed]",
            "text/plain": [
              "<Figure size 432x288 with 2 Axes>"
            ]
          },
          "metadata": {
            "needs_background": "light"
          },
          "output_type": "display_data"
        }
      ],
      "source": [
        "hmap(geo_data_2)"
      ]
    },
    {
      "cell_type": "code",
      "execution_count": null,
      "metadata": {
        "id": "e4job5smfjzN"
      },
      "outputs": [],
      "source": [
        "geo_data_0 = geo_data_0.drop(['id'], axis = 1)\n",
        "geo_data_1 = geo_data_1.drop(['id'], axis = 1)\n",
        "geo_data_2 = geo_data_2.drop(['id'], axis = 1)"
      ]
    },
    {
      "cell_type": "code",
      "execution_count": null,
      "metadata": {
        "id": "rieLVFtlfjzO"
      },
      "outputs": [],
      "source": [
        "def oil_hist(data,bins,xlim_max, ylim_max):\n",
        "    plt.figure(figsize = [12,9])\n",
        "    \n",
        "    plt.hist(data, bins = bins)\n",
        "    \n",
        "    plt.xlim([0,xlim_max])\n",
        "    plt.ylim([0,ylim_max])\n",
        "    \n",
        "    plt.xlabel('объём запасов в скважине (тыс. баррелей)')\n",
        "    plt.ylabel('количество скважин')\n",
        "    \n",
        "    plt.title('Гистограмма распределения  по объему скважин')\n",
        "    \n",
        "    plt.show()"
      ]
    },
    {
      "cell_type": "code",
      "execution_count": null,
      "metadata": {
        "id": "90ZBCcVQfjzO",
        "outputId": "bc93bde9-a492-40f7-83cf-4ba820135bb0"
      },
      "outputs": [
        {
          "data": {
            "image/png": "[encoded data removed]",
            "text/plain": [
              "<Figure size 864x648 with 1 Axes>"
            ]
          },
          "metadata": {
            "needs_background": "light"
          },
          "output_type": "display_data"
        }
      ],
      "source": [
        "oil_hist(geo_data_0['product'],200, 190,900)"
      ]
    },
    {
      "cell_type": "code",
      "execution_count": null,
      "metadata": {
        "id": "G0PixCQWfjzP",
        "outputId": "00c11c16-be98-4ade-cd5f-8670e1a6645f"
      },
      "outputs": [
        {
          "data": {
            "image/png": "[encoded data removed]",
            "text/plain": [
              "<Figure size 864x648 with 1 Axes>"
            ]
          },
          "metadata": {
            "needs_background": "light"
          },
          "output_type": "display_data"
        }
      ],
      "source": [
        "oil_hist(geo_data_1['product'],50, 140,9000)"
      ]
    },
    {
      "cell_type": "code",
      "execution_count": null,
      "metadata": {
        "id": "ndXUEyVgfjzP",
        "outputId": "65885d0b-4d27-4a40-8c63-167e6010d246"
      },
      "outputs": [
        {
          "data": {
            "image/png": "[encoded data removed]",
            "text/plain": [
              "<Figure size 864x648 with 1 Axes>"
            ]
          },
          "metadata": {
            "needs_background": "light"
          },
          "output_type": "display_data"
        }
      ],
      "source": [
        "oil_hist(geo_data_2['product'],120, 190,1400)"
      ]
    },
    {
      "cell_type": "code",
      "execution_count": null,
      "metadata": {
        "id": "houezCt7fjzP",
        "outputId": "6a5959a3-afab-41f9-ca40-0afad109b752"
      },
      "outputs": [
        {
          "name": "stdout",
          "output_type": "stream",
          "text": [
            "Количество нулевых значений - 8235\n",
            "Процент нулевых значений - 0.08235\n"
          ]
        }
      ],
      "source": [
        "zeros = geo_data_1[geo_data_1['product'] == 0]['product'].count()\n",
        "percent = zeros / geo_data_1.shape[0]\n",
        "print('Количество нулевых значений -', zeros)\n",
        "print('Процент нулевых значений -', percent)\n",
        "    "
      ]
    },
    {
      "cell_type": "code",
      "execution_count": null,
      "metadata": {
        "id": "Pg34vPqHfjzP",
        "outputId": "f4aecddf-b908-4687-e9aa-5d082635788d"
      },
      "outputs": [
        {
          "data": {
            "text/html": [
              "<div>\n",
              "<style scoped>\n",
              "    .dataframe tbody tr th:only-of-type {\n",
              "        vertical-align: middle;\n",
              "    }\n",
              "\n",
              "    .dataframe tbody tr th {\n",
              "        vertical-align: top;\n",
              "    }\n",
              "\n",
              "    .dataframe thead th {\n",
              "        text-align: right;\n",
              "    }\n",
              "</style>\n",
              "<table border=\"1\" class=\"dataframe\">\n",
              "  <thead>\n",
              "    <tr style=\"text-align: right;\">\n",
              "      <th></th>\n",
              "      <th>f0</th>\n",
              "      <th>f1</th>\n",
              "      <th>f2</th>\n",
              "      <th>product</th>\n",
              "    </tr>\n",
              "  </thead>\n",
              "  <tbody>\n",
              "    <tr>\n",
              "      <th>11</th>\n",
              "      <td>16.320755</td>\n",
              "      <td>-0.562946</td>\n",
              "      <td>-0.001783</td>\n",
              "      <td>0.0</td>\n",
              "    </tr>\n",
              "    <tr>\n",
              "      <th>13</th>\n",
              "      <td>6.695604</td>\n",
              "      <td>-0.749449</td>\n",
              "      <td>-0.007630</td>\n",
              "      <td>0.0</td>\n",
              "    </tr>\n",
              "    <tr>\n",
              "      <th>62</th>\n",
              "      <td>21.418478</td>\n",
              "      <td>-5.134490</td>\n",
              "      <td>-0.002836</td>\n",
              "      <td>0.0</td>\n",
              "    </tr>\n",
              "    <tr>\n",
              "      <th>63</th>\n",
              "      <td>6.822701</td>\n",
              "      <td>3.104979</td>\n",
              "      <td>-0.000723</td>\n",
              "      <td>0.0</td>\n",
              "    </tr>\n",
              "    <tr>\n",
              "      <th>77</th>\n",
              "      <td>6.750150</td>\n",
              "      <td>-11.893512</td>\n",
              "      <td>-0.001601</td>\n",
              "      <td>0.0</td>\n",
              "    </tr>\n",
              "    <tr>\n",
              "      <th>...</th>\n",
              "      <td>...</td>\n",
              "      <td>...</td>\n",
              "      <td>...</td>\n",
              "      <td>...</td>\n",
              "    </tr>\n",
              "    <tr>\n",
              "      <th>99936</th>\n",
              "      <td>5.085749</td>\n",
              "      <td>-3.980305</td>\n",
              "      <td>0.005063</td>\n",
              "      <td>0.0</td>\n",
              "    </tr>\n",
              "    <tr>\n",
              "      <th>99948</th>\n",
              "      <td>8.277805</td>\n",
              "      <td>-9.178818</td>\n",
              "      <td>0.003275</td>\n",
              "      <td>0.0</td>\n",
              "    </tr>\n",
              "    <tr>\n",
              "      <th>99956</th>\n",
              "      <td>13.343983</td>\n",
              "      <td>-1.290200</td>\n",
              "      <td>0.005980</td>\n",
              "      <td>0.0</td>\n",
              "    </tr>\n",
              "    <tr>\n",
              "      <th>99961</th>\n",
              "      <td>13.854163</td>\n",
              "      <td>-11.528089</td>\n",
              "      <td>-0.005556</td>\n",
              "      <td>0.0</td>\n",
              "    </tr>\n",
              "    <tr>\n",
              "      <th>99973</th>\n",
              "      <td>12.698645</td>\n",
              "      <td>-4.384673</td>\n",
              "      <td>-0.002600</td>\n",
              "      <td>0.0</td>\n",
              "    </tr>\n",
              "  </tbody>\n",
              "</table>\n",
              "<p>8235 rows × 4 columns</p>\n",
              "</div>"
            ],
            "text/plain": [
              "              f0         f1        f2  product\n",
              "11     16.320755  -0.562946 -0.001783      0.0\n",
              "13      6.695604  -0.749449 -0.007630      0.0\n",
              "62     21.418478  -5.134490 -0.002836      0.0\n",
              "63      6.822701   3.104979 -0.000723      0.0\n",
              "77      6.750150 -11.893512 -0.001601      0.0\n",
              "...          ...        ...       ...      ...\n",
              "99936   5.085749  -3.980305  0.005063      0.0\n",
              "99948   8.277805  -9.178818  0.003275      0.0\n",
              "99956  13.343983  -1.290200  0.005980      0.0\n",
              "99961  13.854163 -11.528089 -0.005556      0.0\n",
              "99973  12.698645  -4.384673 -0.002600      0.0\n",
              "\n",
              "[8235 rows x 4 columns]"
            ]
          },
          "execution_count": 30,
          "metadata": {},
          "output_type": "execute_result"
        }
      ],
      "source": [
        "geo_data_1[geo_data_1['product'] == 0]"
      ]
    },
    {
      "cell_type": "markdown",
      "metadata": {
        "id": "Hk5XCETgfjzQ"
      },
      "source": [
        "<div class=\"alert alert-info\">\n",
        "<b> Комментарий : </b> \n",
        "<br> *  Данные геологоразведки 2 региона, а имеено geo_data_1, выглядят очень странно, это доказывает и гистограмма.Данная гистограмма далека от нормального распределения. Очень много нулевых значений, а имеено 8.2%. Данные либо были утеряны, либо ввыведены искуственно.\n",
        "\n",
        "\n",
        "    \n",
        "</div>"
      ]
    },
    {
      "cell_type": "markdown",
      "metadata": {
        "id": "J1NnDN9afjzQ"
      },
      "source": [
        "<div class=\"alert alert-info\">\n",
        "<b> Комментарий : </b> \n",
        "<br> *  Проверила Корреляцию, что можно увидеть, что в geo_data_1 между столбцами f2 и product существует очень сильная зависимость.  Количество уникальных значений id, которые встречаются в датафрейме тоже отсутствуют, дубликатов тоже нет.Поэтому действительно, можно спокойно удалять столбец id\n",
        "\n",
        "\n",
        "    \n",
        "</div>"
      ]
    },
    {
      "cell_type": "markdown",
      "metadata": {
        "id": "2xtlbF_BfjzR"
      },
      "source": [
        "### Признаки для модели:\n",
        "\n",
        "* f0;\n",
        "* f1;\n",
        "* f2.\n",
        "### Целевой признак:\n",
        "\n",
        "* product."
      ]
    },
    {
      "cell_type": "markdown",
      "metadata": {
        "id": "dqPfyLbAfjzS"
      },
      "source": [
        " *Вывод:*\n",
        "\n",
        "Результаты первичного анализа:\n",
        "\n",
        " - Пропуски - отсутствуют\n",
        " - Типы столбцов - корректны\n",
        " - Названия столбцов - корректны\n",
        " - Дубликаты - отсутствуют\n",
        " - Коррелирующие признаки - учтены\n",
        " - Найден целевой признак для обучения и проверки модели"
      ]
    },
    {
      "cell_type": "markdown",
      "metadata": {
        "id": "qxHcqm36fjzS"
      },
      "source": [
        "## Обучение и проверка модели"
      ]
    },
    {
      "cell_type": "code",
      "execution_count": null,
      "metadata": {
        "id": "vWfvv8TLfjzS"
      },
      "outputs": [],
      "source": [
        "def drill(data,column):\n",
        "\n",
        "    target = data[column]\n",
        "    features = data.drop([column] , axis=1)\n",
        "\n",
        "    features_train,features_valid,target_train,target_valid =  train_test_split(features,target, test_size=0.25, random_state=RANDOM_STATE)\n",
        "    return features_train, features_valid, target_train, target_valid"
      ]
    },
    {
      "cell_type": "code",
      "execution_count": null,
      "metadata": {
        "id": "Rvpt5NvQfjzT",
        "outputId": "20407bb3-93b6-4a83-d7e3-c5827bf3e043"
      },
      "outputs": [
        {
          "data": {
            "text/html": [
              "<div>\n",
              "<style scoped>\n",
              "    .dataframe tbody tr th:only-of-type {\n",
              "        vertical-align: middle;\n",
              "    }\n",
              "\n",
              "    .dataframe tbody tr th {\n",
              "        vertical-align: top;\n",
              "    }\n",
              "\n",
              "    .dataframe thead th {\n",
              "        text-align: right;\n",
              "    }\n",
              "</style>\n",
              "<table border=\"1\" class=\"dataframe\">\n",
              "  <thead>\n",
              "    <tr style=\"text-align: right;\">\n",
              "      <th></th>\n",
              "      <th>f0</th>\n",
              "      <th>f1</th>\n",
              "      <th>f2</th>\n",
              "    </tr>\n",
              "  </thead>\n",
              "  <tbody>\n",
              "    <tr>\n",
              "      <th>76104</th>\n",
              "      <td>0.271389</td>\n",
              "      <td>-0.317743</td>\n",
              "      <td>1.050558</td>\n",
              "    </tr>\n",
              "    <tr>\n",
              "      <th>96018</th>\n",
              "      <td>0.261918</td>\n",
              "      <td>-0.268957</td>\n",
              "      <td>3.887995</td>\n",
              "    </tr>\n",
              "    <tr>\n",
              "      <th>220</th>\n",
              "      <td>0.965644</td>\n",
              "      <td>0.755683</td>\n",
              "      <td>3.145287</td>\n",
              "    </tr>\n",
              "    <tr>\n",
              "      <th>55455</th>\n",
              "      <td>1.082415</td>\n",
              "      <td>0.097592</td>\n",
              "      <td>2.026243</td>\n",
              "    </tr>\n",
              "    <tr>\n",
              "      <th>28548</th>\n",
              "      <td>0.774934</td>\n",
              "      <td>0.589147</td>\n",
              "      <td>2.181892</td>\n",
              "    </tr>\n",
              "  </tbody>\n",
              "</table>\n",
              "</div>"
            ],
            "text/plain": [
              "             f0        f1        f2\n",
              "76104  0.271389 -0.317743  1.050558\n",
              "96018  0.261918 -0.268957  3.887995\n",
              "220    0.965644  0.755683  3.145287\n",
              "55455  1.082415  0.097592  2.026243\n",
              "28548  0.774934  0.589147  2.181892"
            ]
          },
          "execution_count": 32,
          "metadata": {},
          "output_type": "execute_result"
        }
      ],
      "source": [
        "features_train_0, features_valid_0, target_train_0, target_valid_0 = drill(geo_data_0, 'product')\n",
        "\n",
        "features_train_0.head()"
      ]
    },
    {
      "cell_type": "code",
      "execution_count": null,
      "metadata": {
        "id": "FCtsuReOfjzT",
        "outputId": "65c4127e-ff89-4b9e-a7c5-74691c4e8041"
      },
      "outputs": [
        {
          "data": {
            "text/html": [
              "<div>\n",
              "<style scoped>\n",
              "    .dataframe tbody tr th:only-of-type {\n",
              "        vertical-align: middle;\n",
              "    }\n",
              "\n",
              "    .dataframe tbody tr th {\n",
              "        vertical-align: top;\n",
              "    }\n",
              "\n",
              "    .dataframe thead th {\n",
              "        text-align: right;\n",
              "    }\n",
              "</style>\n",
              "<table border=\"1\" class=\"dataframe\">\n",
              "  <thead>\n",
              "    <tr style=\"text-align: right;\">\n",
              "      <th></th>\n",
              "      <th>f0</th>\n",
              "      <th>f1</th>\n",
              "      <th>f2</th>\n",
              "    </tr>\n",
              "  </thead>\n",
              "  <tbody>\n",
              "    <tr>\n",
              "      <th>76104</th>\n",
              "      <td>-13.498372</td>\n",
              "      <td>-8.410282</td>\n",
              "      <td>1.005981</td>\n",
              "    </tr>\n",
              "    <tr>\n",
              "      <th>96018</th>\n",
              "      <td>11.300167</td>\n",
              "      <td>-12.647812</td>\n",
              "      <td>0.003215</td>\n",
              "    </tr>\n",
              "    <tr>\n",
              "      <th>220</th>\n",
              "      <td>-6.410753</td>\n",
              "      <td>-16.398200</td>\n",
              "      <td>3.002505</td>\n",
              "    </tr>\n",
              "    <tr>\n",
              "      <th>55455</th>\n",
              "      <td>1.047155</td>\n",
              "      <td>-5.572016</td>\n",
              "      <td>3.001012</td>\n",
              "    </tr>\n",
              "    <tr>\n",
              "      <th>28548</th>\n",
              "      <td>1.767578</td>\n",
              "      <td>-4.295641</td>\n",
              "      <td>3.002204</td>\n",
              "    </tr>\n",
              "  </tbody>\n",
              "</table>\n",
              "</div>"
            ],
            "text/plain": [
              "              f0         f1        f2\n",
              "76104 -13.498372  -8.410282  1.005981\n",
              "96018  11.300167 -12.647812  0.003215\n",
              "220    -6.410753 -16.398200  3.002505\n",
              "55455   1.047155  -5.572016  3.001012\n",
              "28548   1.767578  -4.295641  3.002204"
            ]
          },
          "execution_count": 33,
          "metadata": {},
          "output_type": "execute_result"
        }
      ],
      "source": [
        "features_train_1, features_valid_1, target_train_1, target_valid_1 = drill(geo_data_1, 'product')\n",
        "\n",
        "features_train_1.head()"
      ]
    },
    {
      "cell_type": "code",
      "execution_count": null,
      "metadata": {
        "scrolled": true,
        "id": "eriB8WnUfjzT",
        "outputId": "7ad85d38-9bfe-4a3e-854a-bc5aa4b6735b"
      },
      "outputs": [
        {
          "data": {
            "text/html": [
              "<div>\n",
              "<style scoped>\n",
              "    .dataframe tbody tr th:only-of-type {\n",
              "        vertical-align: middle;\n",
              "    }\n",
              "\n",
              "    .dataframe tbody tr th {\n",
              "        vertical-align: top;\n",
              "    }\n",
              "\n",
              "    .dataframe thead th {\n",
              "        text-align: right;\n",
              "    }\n",
              "</style>\n",
              "<table border=\"1\" class=\"dataframe\">\n",
              "  <thead>\n",
              "    <tr style=\"text-align: right;\">\n",
              "      <th></th>\n",
              "      <th>f0</th>\n",
              "      <th>f1</th>\n",
              "      <th>f2</th>\n",
              "    </tr>\n",
              "  </thead>\n",
              "  <tbody>\n",
              "    <tr>\n",
              "      <th>76104</th>\n",
              "      <td>-1.279358</td>\n",
              "      <td>-2.143930</td>\n",
              "      <td>0.430187</td>\n",
              "    </tr>\n",
              "    <tr>\n",
              "      <th>96018</th>\n",
              "      <td>-0.615558</td>\n",
              "      <td>1.369586</td>\n",
              "      <td>-2.378751</td>\n",
              "    </tr>\n",
              "    <tr>\n",
              "      <th>220</th>\n",
              "      <td>-0.686993</td>\n",
              "      <td>1.992999</td>\n",
              "      <td>-1.927723</td>\n",
              "    </tr>\n",
              "    <tr>\n",
              "      <th>55455</th>\n",
              "      <td>0.330036</td>\n",
              "      <td>-0.371076</td>\n",
              "      <td>-2.030473</td>\n",
              "    </tr>\n",
              "    <tr>\n",
              "      <th>28548</th>\n",
              "      <td>-0.630284</td>\n",
              "      <td>-0.440661</td>\n",
              "      <td>-1.129910</td>\n",
              "    </tr>\n",
              "  </tbody>\n",
              "</table>\n",
              "</div>"
            ],
            "text/plain": [
              "             f0        f1        f2\n",
              "76104 -1.279358 -2.143930  0.430187\n",
              "96018 -0.615558  1.369586 -2.378751\n",
              "220   -0.686993  1.992999 -1.927723\n",
              "55455  0.330036 -0.371076 -2.030473\n",
              "28548 -0.630284 -0.440661 -1.129910"
            ]
          },
          "execution_count": 34,
          "metadata": {},
          "output_type": "execute_result"
        }
      ],
      "source": [
        "features_train_2, features_valid_2, target_train_2, target_valid_2 = drill(geo_data_2, 'product')\n",
        "\n",
        "features_train_2.head()"
      ]
    },
    {
      "cell_type": "code",
      "execution_count": null,
      "metadata": {
        "id": "ITbX2nI4fjzU"
      },
      "outputs": [],
      "source": [
        "model = LinearRegression()\n",
        "\n",
        "def oil_predict(df, target_name):\n",
        "    \n",
        "    features_train, features_valid, target_train, target_valid = drill(df, 'product')\n",
        "    \n",
        "    model.fit(features_train, target_train)\n",
        "    predicted_target = model.predict(features_valid)\n",
        "    predicted_target_Sr = pd.Series(predicted_target, index = target_valid.index)\n",
        "    data = {'real_product' : target_valid,\n",
        "            'predicted_product' : predicted_target_Sr         \n",
        "    }\n",
        "    data_frame = pd.DataFrame(data, columns = ['real_product', 'predicted_product'])\n",
        "    rmse = mean_squared_error(target_valid, predicted_target_Sr)**0.5\n",
        "    mean = data_frame['predicted_product'].mean()\n",
        "    oil_sum = data_frame['predicted_product'].sum()\n",
        "    return data_frame, rmse, mean, oil_sum"
      ]
    },
    {
      "cell_type": "code",
      "execution_count": null,
      "metadata": {
        "id": "_4I5vggmfjzW",
        "outputId": "20509a74-168c-4076-e152-720512603fc6"
      },
      "outputs": [
        {
          "name": "stdout",
          "output_type": "stream",
          "text": [
            "       real_product  predicted_product\n",
            "60272    102.375318          92.203588\n",
            "90447     48.209353          73.495529\n",
            "42584     36.238214          50.083488\n",
            "60773     69.927328         103.372955\n",
            "67155     57.716082          66.395704\n",
            "RMSE - 37.458478918291874\n",
            "Средний запас запасанного сырья - 92.47873235986079\n"
          ]
        }
      ],
      "source": [
        "geo_data_0_predicted, geo_data_0_rmse, geo_data_0_predicted_mean, geo_data_0_predicted_sum = oil_predict(geo_data_0, 'product')\n",
        "print(geo_data_0_predicted.head())\n",
        "print('RMSE -', geo_data_0_rmse)\n",
        "print('Средний запас запасанного сырья -', geo_data_0_predicted_mean)"
      ]
    },
    {
      "cell_type": "code",
      "execution_count": null,
      "metadata": {
        "id": "YK-aJtCmfjzW",
        "outputId": "7caa3c70-84ab-4071-b6f7-449870b4a31d"
      },
      "outputs": [
        {
          "name": "stdout",
          "output_type": "stream",
          "text": [
            "       real_product  predicted_product\n",
            "60272    137.945408         139.093234\n",
            "90447     80.859783          81.099907\n",
            "42584     84.038886          84.700393\n",
            "60773     26.953261          28.137619\n",
            "67155     84.038886          83.375666\n",
            "RMSE - 0.8863941388242229\n",
            "Средний запас запасанного сырья - 68.84292971740028\n"
          ]
        }
      ],
      "source": [
        "geo_data_1_predicted, geo_data_1_rmse, geo_data_1_predicted_mean, geo_data_1_predicted_sum = oil_predict(geo_data_1, 'product')\n",
        "print(geo_data_1_predicted.head())\n",
        "print('RMSE -', geo_data_1_rmse)\n",
        "print('Средний запас запасанного сырья -', geo_data_1_predicted_mean)"
      ]
    },
    {
      "cell_type": "code",
      "execution_count": null,
      "metadata": {
        "id": "JhFgRAnVfjzW",
        "outputId": "a37b7107-6162-436c-e813-69e997c75b03"
      },
      "outputs": [
        {
          "name": "stdout",
          "output_type": "stream",
          "text": [
            "       real_product  predicted_product\n",
            "60272     99.171150          86.774363\n",
            "90447    141.060606          80.915801\n",
            "42584    132.033756         110.912166\n",
            "60773     40.007790          74.090783\n",
            "67155    109.800631          90.744154\n",
            "RMSE - 40.06449385905336\n",
            "Средний запас запасанного сырья - 95.24523861299608\n"
          ]
        }
      ],
      "source": [
        "geo_data_2_predicted, geo_data_2_rmse, geo_data_2_predicted_mean, geo_data_2_predicted_sum = oil_predict(geo_data_2, 'product')\n",
        "print(geo_data_2_predicted.head())\n",
        "print('RMSE -', geo_data_2_rmse)\n",
        "print('Средний запас запасанного сырья -', geo_data_2_predicted_mean)"
      ]
    },
    {
      "cell_type": "markdown",
      "metadata": {
        "id": "1EodXQ6VfjzW"
      },
      "source": [
        "<div class=\"alert alert-info\">\n",
        "<b> Вывод  : </b> \n",
        "<br>\n",
        "    \n",
        "-  Данные предсказаний о количестве нефти по сумме примерно совпадают по сумме с предсказанными значениями. Лучше всего модель предсказала запасы во втором регионе (RMSE - 0.88), далее в первом и третьем соотвественно.\n",
        "\n",
        "- Возможно утеряные данные из второго региона сказались на модели и она достаточно сильно переобучилась.\n",
        "\n",
        "- Но из-за утери данных и малого запаса в среднем на меторождение не имеет смысла рассматривать второе месторождение как прибыльное.\n",
        "\n",
        "- Изучим все регионы на риски и прибыль, но в конечном итоге будем выбирать между 1 и 3 регионом.\n",
        "- Средний запас варируется:\n",
        "    - Средний запас  сырья - 92.47873235986079 (первый регион)\n",
        "    - Средний запас  сырья - 68.84292971740028 ( второй регион)\n",
        "    - Средний запас  сырья - 95.24523861299608 (третий регион)\n",
        "    \n",
        "    \n",
        "\n",
        "\n",
        "    \n",
        "</div>"
      ]
    },
    {
      "cell_type": "markdown",
      "metadata": {
        "id": "hZxB8MosfjzX"
      },
      "source": [
        "## Подготовка к расчёту прибыли"
      ]
    },
    {
      "cell_type": "markdown",
      "metadata": {
        "id": "rZZu0t2EfjzX"
      },
      "source": [
        "Условия задачи:\n",
        "\n",
        "При разведке региона исследуют 500 точек, из которых с помощью машинного обучения выбирают 200 лучших для разработки.\n",
        "Бюджет на разработку скважин в регионе — 10 млрд рублей.\n",
        "При нынешних ценах один баррель сырья приносит 450 рублей дохода. Доход с каждой единицы продукта составляет 450 тыс. рублей, поскольку объём указан в тысячах баррелей.\n",
        "После оценки рисков нужно оставить лишь те регионы, в которых вероятность убытков меньше 2.5%. Среди них выбирают регион с наибольшей средней прибылью.\n",
        "Данные синтетические: детали контрактов и характеристики месторождений не разглашаются."
      ]
    },
    {
      "cell_type": "markdown",
      "metadata": {
        "id": "037baNRofjzY"
      },
      "source": [
        "Расчитаем безубыточную разработку сырья на 200 месторождениях. И найдем среднее количество продукта в месторождениях необходимое для этого."
      ]
    },
    {
      "cell_type": "code",
      "execution_count": null,
      "metadata": {
        "scrolled": true,
        "id": "qzOcOS49fjzY",
        "outputId": "009fef58-3965-4ee1-97a0-cfba48795c46"
      },
      "outputs": [
        {
          "name": "stdout",
          "output_type": "stream",
          "text": [
            "Средние затраты  на лучшую точку - 50000.00 тыс.руб.\n",
            "Средний запас нефти на точку - 111.11 тыс. барелей\n",
            "Средний безубыточный сбор нефти на регион  - 22222.22 тыс. барелей\n"
          ]
        }
      ],
      "source": [
        "average_cost_per_point = BUDGET/BEST_POINTS\n",
        "print('Средние затраты  на лучшую точку - {:.2f}'.format(average_cost_per_point), 'тыс.руб.')\n",
        "\n",
        "average_reserve_per_point = average_cost_per_point / PRICE_PER_BARREL\n",
        "print('Средний запас нефти на точку - {:.2f}'.format(average_reserve_per_point), 'тыс. барелей')\n",
        "\n",
        "average_fee_barrels = BUDGET/ PRICE_PER_BARREL\n",
        "print('Средний безубыточный сбор нефти на регион  - {:.2f}'.format(average_fee_barrels ), 'тыс. барелей')"
      ]
    },
    {
      "cell_type": "markdown",
      "metadata": {
        "id": "FuzQX1zZfjzY"
      },
      "source": [
        "<div class=\"alert alert-info\">\n",
        "<b> Вывод  : </b> \n",
        "<br>\n",
        "    \n",
        "Полученное знгачение Средний запас нефти на точку выше, чем среднее запасы предсказанные моедлями.\n",
        "    \n",
        "\n",
        "\n",
        "    \n",
        "</div>"
      ]
    },
    {
      "cell_type": "markdown",
      "metadata": {
        "id": "xnobG9CWfjza"
      },
      "source": [
        "## Расчёт прибыли и рисков "
      ]
    },
    {
      "cell_type": "code",
      "execution_count": null,
      "metadata": {
        "id": "d7aJHWYqfjzc"
      },
      "outputs": [],
      "source": [
        "def profit(target, predictions, count):\n",
        "    predictions_sorted = predictions.sort_values(ascending=False)\n",
        "    selected = target[predictions_sorted.index][:count]\n",
        "    return (selected.sum()*PRICE_PER_BARREL) - BUDGET\n",
        "\n",
        "\n",
        "def calculate_profit_bootstrap( target,predictions):\n",
        "    state = np.random.RandomState(12345)    \n",
        "    values = []\n",
        "\n",
        "    for i in range(1000):\n",
        "        target_subsample = target.sample(CHOSEN_POINTS, replace=True, random_state=state)\n",
        "        pred_subsample = predictions[target_subsample.index]      \n",
        "\n",
        "        profit_and_volume = profit(target_subsample, pred_subsample,BEST_POINTS)     \n",
        "        values.append(profit_and_volume)\n",
        "\n",
        "\n",
        "\n",
        "    values = pd.Series(values)\n",
        "\n",
        "\n",
        "    lower = values.quantile((1 - CONF_INTERVAL) / 2)\n",
        "    upper = values.quantile((1 + CONF_INTERVAL) / 2) \n",
        "    risk  = (values < 0).sum() / 1000\n",
        "    average = values.mean()\n",
        "\n",
        "    return  average, lower, upper, risk "
      ]
    },
    {
      "cell_type": "code",
      "execution_count": null,
      "metadata": {
        "id": "k9szZWMRfjzd",
        "outputId": "cacbd8df-8b66-47ea-ef0e-1cee05bc5b02"
      },
      "outputs": [
        {
          "name": "stdout",
          "output_type": "stream",
          "text": [
            "Данные по первому региону.\n",
            "Средняя прибыль по региону = 497019.73 тыс.руб.\n",
            "95% доверительный интервал от -42849.53 до 1037079.85 тыс.руб.\n",
            "Процент риска 3.10%\n"
          ]
        }
      ],
      "source": [
        "average_0, lower_0, upper_0, risk_0 = calculate_profit_bootstrap(geo_data_0_predicted['real_product'], \n",
        "                                                     geo_data_0_predicted['predicted_product'])\n",
        "print('Данные по первому региону.')\n",
        "print('Средняя прибыль по региону = {:.2f} тыс.руб.'.format(average_0))\n",
        "print('95% доверительный интервал от {:.2f} до {:.2f} тыс.руб.'.format(lower_0, upper_0))\n",
        "print('Процент риска {:.2%}'.format(risk_0))"
      ]
    },
    {
      "cell_type": "code",
      "execution_count": null,
      "metadata": {
        "id": "-6XcY5v3fjzd",
        "outputId": "2eacd0bf-e032-48a2-d765-8a430d73df22"
      },
      "outputs": [
        {
          "name": "stdout",
          "output_type": "stream",
          "text": [
            "Данные по первому региону.\n",
            "Средняя прибыль по региону = 528459.96 тыс.руб.\n",
            "95% доверительный интервал от 94543.10 до 970699.28 тыс.руб.\n",
            "Процент риска 0.90%\n"
          ]
        }
      ],
      "source": [
        "average_1, lower_1, upper_1, risk_1 = calculate_profit_bootstrap(geo_data_1_predicted['real_product'], \n",
        "                                                     geo_data_1_predicted['predicted_product'])\n",
        "print('Данные по первому региону.')\n",
        "print('Средняя прибыль по региону = {:.2f} тыс.руб.'.format(average_1))\n",
        "print('95% доверительный интервал от {:.2f} до {:.2f} тыс.руб.'.format(lower_1, upper_1))\n",
        "print('Процент риска {:.2%}'.format(risk_1))"
      ]
    },
    {
      "cell_type": "code",
      "execution_count": null,
      "metadata": {
        "id": "qq6GDtnOfjzd",
        "outputId": "c262c96a-8c11-411f-81f9-a9ec74eaf76a"
      },
      "outputs": [
        {
          "name": "stdout",
          "output_type": "stream",
          "text": [
            "Данные по первому региону.\n",
            "Средняя прибыль по региону = 381437.47 тыс.руб.\n",
            "95% доверительный интервал от -212591.15 до 912443.14 тыс.руб.\n",
            "Процент риска 8.70%\n"
          ]
        }
      ],
      "source": [
        "average_2, lower_2, upper_2, risk_2 = calculate_profit_bootstrap(geo_data_2_predicted['real_product'], \n",
        "                                                     geo_data_2_predicted['predicted_product'])\n",
        "print('Данные по первому региону.')\n",
        "print('Средняя прибыль по региону = {:.2f} тыс.руб.'.format(average_2))\n",
        "print('95% доверительный интервал от {:.2f} до {:.2f} тыс.руб.'.format(lower_2, upper_2))\n",
        "print('Процент риска {:.2%}'.format(risk_2))"
      ]
    },
    {
      "cell_type": "markdown",
      "metadata": {
        "id": "vx0GyUR_fjzf"
      },
      "source": [
        " *Вывод*\n",
        " - Нулевой регион:\n",
        "   - Доверительный интервал: от -42849.53 до 1037079.85 тыс.руб.\n",
        "   - Точка безубыточности: 111.(1)\n",
        "   - Средняя прибыль в нулевом регионе:497019.73 тыс.руб.\n",
        "   - Риски:3.10%\n",
        " - Первый регион:\n",
        "   - Доверительный интервал: от 94543.10 до 970699.28 тыс.руб.\n",
        "   - Точка безубыточности: 111.(1)\n",
        "   - Средняя прибыль в первом регионе:528459.96 тыс.руб.\n",
        "   - Риски: 0.90%\n",
        " - Второй регион:\n",
        "   - Доверительный интервал: от -212591.15 до 912443.14 тыс.руб.\n",
        "   - Точка безубыточности: 111.(1)\n",
        "   - Средняя прибыль с одной скважины во втором регионе: 381437.47 тыс.руб.\n",
        "   - Риски:  8.70%\n",
        "   \n",
        "   \n",
        "По условию рисков наиболее подходящим будет первый регион. также можно заметить, что средняя прибыль с одной скважины в первом  регионе: 528459.96 тыс.руб."
      ]
    },
    {
      "cell_type": "markdown",
      "metadata": {
        "id": "Yzd7Jc4Nfjzg"
      },
      "source": [
        "## Чек-лист готовности проекта"
      ]
    },
    {
      "cell_type": "markdown",
      "metadata": {
        "id": "BWUNBe_Sfjzg"
      },
      "source": [
        "Поставьте 'x' в выполненных пунктах. Далее нажмите Shift+Enter."
      ]
    },
    {
      "cell_type": "markdown",
      "metadata": {
        "id": "ldJxS-qJfjzg"
      },
      "source": [
        "- [x]  Jupyter Notebook открыт\n",
        "- [ ]  Весь код выполняется без ошибок\n",
        "- [ ]  Ячейки с кодом расположены в порядке исполнения\n",
        "- [ ]  Выполнен шаг 1: данные подготовлены\n",
        "- [ ]  Выполнен шаг 2: модели обучены и проверены\n",
        "    - [ ]  Данные корректно разбиты на обучающую и валидационную выборки\n",
        "    - [ ]  Модели обучены, предсказания сделаны\n",
        "    - [ ]  Предсказания и правильные ответы на валидационной выборке сохранены\n",
        "    - [ ]  На экране напечатаны результаты\n",
        "    - [ ]  Сделаны выводы\n",
        "- [ ]  Выполнен шаг 3: проведена подготовка к расчёту прибыли\n",
        "    - [ ]  Для всех ключевых значений созданы константы Python\n",
        "    - [ ]  Посчитано минимальное среднее количество продукта в месторождениях региона, достаточное для разработки\n",
        "    - [ ]  По предыдущему пункту сделаны выводы\n",
        "    - [ ]  Написана функция расчёта прибыли\n",
        "- [ ]  Выполнен шаг 4: посчитаны риски и прибыль\n",
        "    - [ ]  Проведена процедура *Bootstrap*\n",
        "    - [ ]  Все параметры бутстрепа соответствуют условию\n",
        "    - [ ]  Найдены все нужные величины\n",
        "    - [ ]  Предложен регион для разработки месторождения\n",
        "    - [ ]  Выбор региона обоснован"
      ]
    }
  ],
  "metadata": {
    "ExecuteTimeLog": [
      {
        "duration": 1653,
        "start_time": "2022-08-16T12:52:33.776Z"
      },
      {
        "duration": 441,
        "start_time": "2022-08-16T12:52:35.431Z"
      },
      {
        "duration": 244,
        "start_time": "2022-08-16T12:52:35.874Z"
      },
      {
        "duration": 221,
        "start_time": "2022-08-16T12:52:36.121Z"
      },
      {
        "duration": 4,
        "start_time": "2022-08-16T13:02:38.943Z"
      },
      {
        "duration": 122,
        "start_time": "2022-08-16T13:02:59.943Z"
      },
      {
        "duration": 2,
        "start_time": "2022-08-16T13:03:35.787Z"
      },
      {
        "duration": 93,
        "start_time": "2022-08-16T13:03:37.072Z"
      },
      {
        "duration": 86,
        "start_time": "2022-08-16T13:04:27.886Z"
      },
      {
        "duration": 75,
        "start_time": "2022-08-16T13:04:34.327Z"
      },
      {
        "duration": 196,
        "start_time": "2022-08-16T13:10:59.093Z"
      },
      {
        "duration": 15,
        "start_time": "2022-08-16T13:13:57.371Z"
      },
      {
        "duration": 6,
        "start_time": "2022-08-16T13:28:18.610Z"
      },
      {
        "duration": 1587,
        "start_time": "2022-08-16T13:31:25.968Z"
      },
      {
        "duration": 180,
        "start_time": "2022-08-16T13:31:27.557Z"
      },
      {
        "duration": 142,
        "start_time": "2022-08-16T13:31:27.739Z"
      },
      {
        "duration": 157,
        "start_time": "2022-08-16T13:31:27.883Z"
      },
      {
        "duration": 4,
        "start_time": "2022-08-16T13:31:28.042Z"
      },
      {
        "duration": 119,
        "start_time": "2022-08-16T13:31:28.049Z"
      },
      {
        "duration": 94,
        "start_time": "2022-08-16T13:31:28.170Z"
      },
      {
        "duration": 122,
        "start_time": "2022-08-16T13:31:28.266Z"
      },
      {
        "duration": 36,
        "start_time": "2022-08-16T13:31:28.390Z"
      },
      {
        "duration": 6,
        "start_time": "2022-08-16T13:31:28.430Z"
      },
      {
        "duration": 1207,
        "start_time": "2022-08-16T13:31:28.438Z"
      },
      {
        "duration": 0,
        "start_time": "2022-08-16T13:31:29.647Z"
      },
      {
        "duration": 0,
        "start_time": "2022-08-16T13:31:29.651Z"
      },
      {
        "duration": 378,
        "start_time": "2022-08-16T13:31:38.968Z"
      },
      {
        "duration": 410,
        "start_time": "2022-08-16T13:31:44.710Z"
      },
      {
        "duration": 478,
        "start_time": "2022-08-16T13:31:54.440Z"
      },
      {
        "duration": 595,
        "start_time": "2022-08-16T13:32:09.859Z"
      },
      {
        "duration": 491,
        "start_time": "2022-08-16T13:32:24.764Z"
      },
      {
        "duration": 556,
        "start_time": "2022-08-16T13:32:38.751Z"
      },
      {
        "duration": 650,
        "start_time": "2022-08-16T13:33:03.026Z"
      },
      {
        "duration": 464,
        "start_time": "2022-08-16T13:33:41.285Z"
      },
      {
        "duration": 490,
        "start_time": "2022-08-16T13:33:52.840Z"
      },
      {
        "duration": 311,
        "start_time": "2022-08-16T13:34:08.130Z"
      },
      {
        "duration": 674,
        "start_time": "2022-08-16T13:34:16.575Z"
      },
      {
        "duration": 476,
        "start_time": "2022-08-16T13:34:30.063Z"
      },
      {
        "duration": 286,
        "start_time": "2022-08-16T13:35:24.859Z"
      },
      {
        "duration": 290,
        "start_time": "2022-08-16T13:35:53.941Z"
      },
      {
        "duration": 308,
        "start_time": "2022-08-16T13:36:18.770Z"
      },
      {
        "duration": 498,
        "start_time": "2022-08-16T13:36:28.871Z"
      },
      {
        "duration": 276,
        "start_time": "2022-08-16T13:36:42.166Z"
      },
      {
        "duration": 263,
        "start_time": "2022-08-16T13:36:53.646Z"
      },
      {
        "duration": 320,
        "start_time": "2022-08-16T13:37:46.543Z"
      },
      {
        "duration": 297,
        "start_time": "2022-08-16T13:37:57.630Z"
      },
      {
        "duration": 378,
        "start_time": "2022-08-16T13:38:08.673Z"
      },
      {
        "duration": 356,
        "start_time": "2022-08-16T13:38:16.543Z"
      },
      {
        "duration": 349,
        "start_time": "2022-08-16T13:38:30.167Z"
      },
      {
        "duration": 473,
        "start_time": "2022-08-16T13:38:37.640Z"
      },
      {
        "duration": 365,
        "start_time": "2022-08-16T13:38:43.934Z"
      },
      {
        "duration": 363,
        "start_time": "2022-08-16T13:38:53.645Z"
      },
      {
        "duration": 374,
        "start_time": "2022-08-16T13:39:05.456Z"
      },
      {
        "duration": 386,
        "start_time": "2022-08-16T13:39:14.746Z"
      },
      {
        "duration": 9,
        "start_time": "2022-08-16T14:09:41.898Z"
      },
      {
        "duration": 24,
        "start_time": "2022-08-16T14:11:53.994Z"
      },
      {
        "duration": 1361,
        "start_time": "2022-08-16T14:41:50.123Z"
      },
      {
        "duration": 161,
        "start_time": "2022-08-16T14:41:51.486Z"
      },
      {
        "duration": 154,
        "start_time": "2022-08-16T14:41:51.649Z"
      },
      {
        "duration": 170,
        "start_time": "2022-08-16T14:41:51.806Z"
      },
      {
        "duration": 4,
        "start_time": "2022-08-16T14:41:51.977Z"
      },
      {
        "duration": 109,
        "start_time": "2022-08-16T14:41:51.982Z"
      },
      {
        "duration": 110,
        "start_time": "2022-08-16T14:41:52.093Z"
      },
      {
        "duration": 124,
        "start_time": "2022-08-16T14:41:52.205Z"
      },
      {
        "duration": 17,
        "start_time": "2022-08-16T14:41:52.331Z"
      },
      {
        "duration": 11,
        "start_time": "2022-08-16T14:41:52.351Z"
      },
      {
        "duration": 533,
        "start_time": "2022-08-16T14:41:52.364Z"
      },
      {
        "duration": 282,
        "start_time": "2022-08-16T14:41:52.899Z"
      },
      {
        "duration": 379,
        "start_time": "2022-08-16T14:41:53.183Z"
      },
      {
        "duration": 8,
        "start_time": "2022-08-16T14:41:53.563Z"
      },
      {
        "duration": 37,
        "start_time": "2022-08-16T14:41:53.573Z"
      },
      {
        "duration": 27,
        "start_time": "2022-08-16T14:41:53.612Z"
      },
      {
        "duration": 40,
        "start_time": "2022-08-16T14:41:53.641Z"
      },
      {
        "duration": 28,
        "start_time": "2022-08-16T14:41:53.684Z"
      },
      {
        "duration": 31,
        "start_time": "2022-08-16T14:41:53.714Z"
      },
      {
        "duration": 126,
        "start_time": "2022-08-16T14:42:50.098Z"
      },
      {
        "duration": 23,
        "start_time": "2022-08-16T14:43:17.301Z"
      },
      {
        "duration": 1430,
        "start_time": "2022-08-16T14:44:47.587Z"
      },
      {
        "duration": 156,
        "start_time": "2022-08-16T14:44:49.020Z"
      },
      {
        "duration": 166,
        "start_time": "2022-08-16T14:44:49.179Z"
      },
      {
        "duration": 180,
        "start_time": "2022-08-16T14:44:49.347Z"
      },
      {
        "duration": 5,
        "start_time": "2022-08-16T14:44:49.530Z"
      },
      {
        "duration": 128,
        "start_time": "2022-08-16T14:44:49.538Z"
      },
      {
        "duration": 89,
        "start_time": "2022-08-16T14:44:49.667Z"
      },
      {
        "duration": 106,
        "start_time": "2022-08-16T14:44:49.757Z"
      },
      {
        "duration": 16,
        "start_time": "2022-08-16T14:44:49.865Z"
      },
      {
        "duration": 22,
        "start_time": "2022-08-16T14:44:49.884Z"
      },
      {
        "duration": 493,
        "start_time": "2022-08-16T14:44:49.908Z"
      },
      {
        "duration": 293,
        "start_time": "2022-08-16T14:44:50.403Z"
      },
      {
        "duration": 364,
        "start_time": "2022-08-16T14:44:50.704Z"
      },
      {
        "duration": 9,
        "start_time": "2022-08-16T14:44:51.070Z"
      },
      {
        "duration": 37,
        "start_time": "2022-08-16T14:44:51.081Z"
      },
      {
        "duration": 5,
        "start_time": "2022-08-16T14:44:51.120Z"
      },
      {
        "duration": 31,
        "start_time": "2022-08-16T14:44:51.127Z"
      },
      {
        "duration": 20,
        "start_time": "2022-08-16T14:44:51.160Z"
      },
      {
        "duration": 43,
        "start_time": "2022-08-16T14:44:51.182Z"
      },
      {
        "duration": 123,
        "start_time": "2022-08-16T14:45:58.641Z"
      },
      {
        "duration": 1450,
        "start_time": "2022-08-16T14:47:56.411Z"
      },
      {
        "duration": 164,
        "start_time": "2022-08-16T14:47:57.863Z"
      },
      {
        "duration": 148,
        "start_time": "2022-08-16T14:47:58.029Z"
      },
      {
        "duration": 154,
        "start_time": "2022-08-16T14:47:58.179Z"
      },
      {
        "duration": 3,
        "start_time": "2022-08-16T14:47:58.335Z"
      },
      {
        "duration": 102,
        "start_time": "2022-08-16T14:47:58.340Z"
      },
      {
        "duration": 105,
        "start_time": "2022-08-16T14:47:58.444Z"
      },
      {
        "duration": 93,
        "start_time": "2022-08-16T14:47:58.552Z"
      },
      {
        "duration": 18,
        "start_time": "2022-08-16T14:47:58.647Z"
      },
      {
        "duration": 6,
        "start_time": "2022-08-16T14:47:58.667Z"
      },
      {
        "duration": 668,
        "start_time": "2022-08-16T14:47:58.675Z"
      },
      {
        "duration": 323,
        "start_time": "2022-08-16T14:47:59.346Z"
      },
      {
        "duration": 389,
        "start_time": "2022-08-16T14:47:59.672Z"
      },
      {
        "duration": 8,
        "start_time": "2022-08-16T14:48:00.063Z"
      },
      {
        "duration": 41,
        "start_time": "2022-08-16T14:48:00.073Z"
      },
      {
        "duration": 5,
        "start_time": "2022-08-16T14:48:00.116Z"
      },
      {
        "duration": 40,
        "start_time": "2022-08-16T14:48:00.123Z"
      },
      {
        "duration": 112,
        "start_time": "2022-08-16T14:48:00.164Z"
      },
      {
        "duration": 0,
        "start_time": "2022-08-16T14:48:00.277Z"
      },
      {
        "duration": 28,
        "start_time": "2022-08-16T14:48:29.153Z"
      },
      {
        "duration": 21,
        "start_time": "2022-08-16T14:48:36.863Z"
      },
      {
        "duration": 1420,
        "start_time": "2022-08-16T19:17:28.574Z"
      },
      {
        "duration": 381,
        "start_time": "2022-08-16T19:17:29.996Z"
      },
      {
        "duration": 203,
        "start_time": "2022-08-16T19:17:30.379Z"
      },
      {
        "duration": 210,
        "start_time": "2022-08-16T19:17:30.584Z"
      },
      {
        "duration": 4,
        "start_time": "2022-08-16T19:17:30.795Z"
      },
      {
        "duration": 73,
        "start_time": "2022-08-16T19:17:30.800Z"
      },
      {
        "duration": 61,
        "start_time": "2022-08-16T19:17:30.875Z"
      },
      {
        "duration": 70,
        "start_time": "2022-08-16T19:17:30.937Z"
      },
      {
        "duration": 15,
        "start_time": "2022-08-16T19:17:31.009Z"
      },
      {
        "duration": 13,
        "start_time": "2022-08-16T19:17:31.026Z"
      },
      {
        "duration": 419,
        "start_time": "2022-08-16T19:17:31.040Z"
      },
      {
        "duration": 224,
        "start_time": "2022-08-16T19:17:31.460Z"
      },
      {
        "duration": 303,
        "start_time": "2022-08-16T19:17:31.686Z"
      },
      {
        "duration": 7,
        "start_time": "2022-08-16T19:17:31.991Z"
      },
      {
        "duration": 15,
        "start_time": "2022-08-16T19:17:32.000Z"
      },
      {
        "duration": 4,
        "start_time": "2022-08-16T19:17:32.016Z"
      },
      {
        "duration": 38,
        "start_time": "2022-08-16T19:17:32.022Z"
      },
      {
        "duration": 19,
        "start_time": "2022-08-16T19:17:32.062Z"
      },
      {
        "duration": 19,
        "start_time": "2022-08-16T19:17:32.083Z"
      },
      {
        "duration": 155,
        "start_time": "2022-08-16T19:17:32.103Z"
      },
      {
        "duration": 14,
        "start_time": "2022-08-16T19:18:50.569Z"
      },
      {
        "duration": 14,
        "start_time": "2022-08-16T19:18:52.025Z"
      },
      {
        "duration": 5,
        "start_time": "2022-08-16T19:23:52.940Z"
      },
      {
        "duration": 30,
        "start_time": "2022-08-16T19:25:06.429Z"
      },
      {
        "duration": 7,
        "start_time": "2022-08-16T19:25:46.156Z"
      },
      {
        "duration": 313,
        "start_time": "2022-08-16T19:26:32.453Z"
      },
      {
        "duration": 5,
        "start_time": "2022-08-16T19:26:41.653Z"
      },
      {
        "duration": 110,
        "start_time": "2022-08-16T19:26:42.853Z"
      },
      {
        "duration": 59,
        "start_time": "2022-08-16T19:27:17.100Z"
      },
      {
        "duration": 77,
        "start_time": "2022-08-16T19:27:38.485Z"
      },
      {
        "duration": 70,
        "start_time": "2022-08-16T19:27:45.890Z"
      },
      {
        "duration": 97,
        "start_time": "2022-08-16T19:27:58.471Z"
      },
      {
        "duration": 26,
        "start_time": "2022-08-16T19:28:30.339Z"
      },
      {
        "duration": 4,
        "start_time": "2022-08-16T19:34:22.999Z"
      },
      {
        "duration": 12,
        "start_time": "2022-08-16T19:36:19.678Z"
      },
      {
        "duration": 4,
        "start_time": "2022-08-16T19:36:45.134Z"
      },
      {
        "duration": 29,
        "start_time": "2022-08-16T19:36:45.932Z"
      },
      {
        "duration": 84,
        "start_time": "2022-08-16T19:37:53.679Z"
      },
      {
        "duration": 51,
        "start_time": "2022-08-16T19:38:50.210Z"
      },
      {
        "duration": 3,
        "start_time": "2022-08-16T19:38:57.645Z"
      },
      {
        "duration": 27,
        "start_time": "2022-08-16T19:38:58.532Z"
      },
      {
        "duration": 28,
        "start_time": "2022-08-16T19:39:55.337Z"
      },
      {
        "duration": 29,
        "start_time": "2022-08-16T19:40:05.308Z"
      },
      {
        "duration": 26,
        "start_time": "2022-08-16T19:40:27.083Z"
      },
      {
        "duration": 1363,
        "start_time": "2022-08-16T19:40:44.377Z"
      },
      {
        "duration": 136,
        "start_time": "2022-08-16T19:40:45.742Z"
      },
      {
        "duration": 120,
        "start_time": "2022-08-16T19:40:45.879Z"
      },
      {
        "duration": 123,
        "start_time": "2022-08-16T19:40:46.002Z"
      },
      {
        "duration": 3,
        "start_time": "2022-08-16T19:40:46.126Z"
      },
      {
        "duration": 74,
        "start_time": "2022-08-16T19:40:46.130Z"
      },
      {
        "duration": 90,
        "start_time": "2022-08-16T19:40:46.205Z"
      },
      {
        "duration": 86,
        "start_time": "2022-08-16T19:40:46.297Z"
      },
      {
        "duration": 17,
        "start_time": "2022-08-16T19:40:46.385Z"
      },
      {
        "duration": 5,
        "start_time": "2022-08-16T19:40:46.406Z"
      },
      {
        "duration": 439,
        "start_time": "2022-08-16T19:40:46.413Z"
      },
      {
        "duration": 243,
        "start_time": "2022-08-16T19:40:46.856Z"
      },
      {
        "duration": 296,
        "start_time": "2022-08-16T19:40:47.101Z"
      },
      {
        "duration": 7,
        "start_time": "2022-08-16T19:40:47.399Z"
      },
      {
        "duration": 15,
        "start_time": "2022-08-16T19:40:47.407Z"
      },
      {
        "duration": 3,
        "start_time": "2022-08-16T19:40:47.423Z"
      },
      {
        "duration": 39,
        "start_time": "2022-08-16T19:40:47.427Z"
      },
      {
        "duration": 18,
        "start_time": "2022-08-16T19:40:47.468Z"
      },
      {
        "duration": 17,
        "start_time": "2022-08-16T19:40:47.487Z"
      },
      {
        "duration": 3,
        "start_time": "2022-08-16T19:40:47.506Z"
      },
      {
        "duration": 48,
        "start_time": "2022-08-16T19:40:47.511Z"
      },
      {
        "duration": 198,
        "start_time": "2022-08-16T19:40:47.560Z"
      },
      {
        "duration": 121,
        "start_time": "2022-08-16T19:40:47.760Z"
      },
      {
        "duration": 6,
        "start_time": "2022-08-16T19:40:47.883Z"
      },
      {
        "duration": 115,
        "start_time": "2022-08-16T19:40:47.958Z"
      },
      {
        "duration": 191,
        "start_time": "2022-08-16T19:40:48.075Z"
      },
      {
        "duration": 206,
        "start_time": "2022-08-16T19:40:48.268Z"
      },
      {
        "duration": 1592,
        "start_time": "2022-08-23T10:23:29.153Z"
      },
      {
        "duration": 549,
        "start_time": "2022-08-23T10:23:30.747Z"
      },
      {
        "duration": 646,
        "start_time": "2022-08-23T10:23:31.297Z"
      },
      {
        "duration": 607,
        "start_time": "2022-08-23T10:23:31.946Z"
      },
      {
        "duration": 3,
        "start_time": "2022-08-23T10:23:32.554Z"
      },
      {
        "duration": 74,
        "start_time": "2022-08-23T10:23:32.559Z"
      },
      {
        "duration": 71,
        "start_time": "2022-08-23T10:23:32.634Z"
      },
      {
        "duration": 88,
        "start_time": "2022-08-23T10:23:32.707Z"
      },
      {
        "duration": 18,
        "start_time": "2022-08-23T10:23:32.796Z"
      },
      {
        "duration": 5,
        "start_time": "2022-08-23T10:23:32.816Z"
      },
      {
        "duration": 473,
        "start_time": "2022-08-23T10:23:32.823Z"
      },
      {
        "duration": 245,
        "start_time": "2022-08-23T10:23:33.298Z"
      },
      {
        "duration": 320,
        "start_time": "2022-08-23T10:23:33.544Z"
      },
      {
        "duration": 8,
        "start_time": "2022-08-23T10:23:33.865Z"
      },
      {
        "duration": 28,
        "start_time": "2022-08-23T10:23:33.874Z"
      },
      {
        "duration": 3,
        "start_time": "2022-08-23T10:23:33.904Z"
      },
      {
        "duration": 25,
        "start_time": "2022-08-23T10:23:33.908Z"
      },
      {
        "duration": 18,
        "start_time": "2022-08-23T10:23:33.934Z"
      },
      {
        "duration": 40,
        "start_time": "2022-08-23T10:23:33.954Z"
      },
      {
        "duration": 5,
        "start_time": "2022-08-23T10:23:33.996Z"
      },
      {
        "duration": 189,
        "start_time": "2022-08-23T10:23:34.003Z"
      },
      {
        "duration": 121,
        "start_time": "2022-08-23T10:23:34.195Z"
      },
      {
        "duration": 187,
        "start_time": "2022-08-23T10:23:34.318Z"
      },
      {
        "duration": 87,
        "start_time": "2022-08-23T10:23:34.507Z"
      },
      {
        "duration": 200,
        "start_time": "2022-08-23T10:23:34.597Z"
      },
      {
        "duration": 197,
        "start_time": "2022-08-23T10:23:34.800Z"
      },
      {
        "duration": 104,
        "start_time": "2022-08-23T10:23:35.092Z"
      },
      {
        "duration": 2,
        "start_time": "2022-08-23T10:26:03.060Z"
      },
      {
        "duration": 116,
        "start_time": "2022-08-23T10:43:08.542Z"
      },
      {
        "duration": 3,
        "start_time": "2022-08-23T10:43:12.039Z"
      },
      {
        "duration": 4,
        "start_time": "2022-08-23T10:43:14.678Z"
      },
      {
        "duration": 3,
        "start_time": "2022-08-23T11:05:30.771Z"
      },
      {
        "duration": 12,
        "start_time": "2022-08-23T11:05:32.772Z"
      },
      {
        "duration": 5,
        "start_time": "2022-08-23T11:05:49.450Z"
      },
      {
        "duration": 6,
        "start_time": "2022-08-23T11:08:04.357Z"
      },
      {
        "duration": 4,
        "start_time": "2022-08-23T11:09:44.115Z"
      },
      {
        "duration": 1502,
        "start_time": "2022-08-23T11:12:05.358Z"
      },
      {
        "duration": 179,
        "start_time": "2022-08-23T11:12:06.862Z"
      },
      {
        "duration": 142,
        "start_time": "2022-08-23T11:12:07.043Z"
      },
      {
        "duration": 146,
        "start_time": "2022-08-23T11:12:07.187Z"
      },
      {
        "duration": 4,
        "start_time": "2022-08-23T11:12:07.335Z"
      },
      {
        "duration": 101,
        "start_time": "2022-08-23T11:12:07.341Z"
      },
      {
        "duration": 100,
        "start_time": "2022-08-23T11:12:07.444Z"
      },
      {
        "duration": 90,
        "start_time": "2022-08-23T11:12:07.545Z"
      },
      {
        "duration": 21,
        "start_time": "2022-08-23T11:12:07.638Z"
      },
      {
        "duration": 29,
        "start_time": "2022-08-23T11:12:07.663Z"
      },
      {
        "duration": 523,
        "start_time": "2022-08-23T11:12:07.694Z"
      },
      {
        "duration": 330,
        "start_time": "2022-08-23T11:12:08.219Z"
      },
      {
        "duration": 359,
        "start_time": "2022-08-23T11:12:08.551Z"
      },
      {
        "duration": 9,
        "start_time": "2022-08-23T11:12:08.912Z"
      },
      {
        "duration": 21,
        "start_time": "2022-08-23T11:12:08.923Z"
      },
      {
        "duration": 4,
        "start_time": "2022-08-23T11:12:08.947Z"
      },
      {
        "duration": 48,
        "start_time": "2022-08-23T11:12:08.953Z"
      },
      {
        "duration": 24,
        "start_time": "2022-08-23T11:12:09.003Z"
      },
      {
        "duration": 29,
        "start_time": "2022-08-23T11:12:09.030Z"
      },
      {
        "duration": 32,
        "start_time": "2022-08-23T11:12:09.061Z"
      },
      {
        "duration": 100,
        "start_time": "2022-08-23T11:12:09.095Z"
      },
      {
        "duration": 112,
        "start_time": "2022-08-23T11:12:09.198Z"
      },
      {
        "duration": 205,
        "start_time": "2022-08-23T11:12:09.312Z"
      },
      {
        "duration": 102,
        "start_time": "2022-08-23T11:12:09.594Z"
      },
      {
        "duration": 197,
        "start_time": "2022-08-23T11:12:09.697Z"
      },
      {
        "duration": 99,
        "start_time": "2022-08-23T11:12:09.897Z"
      },
      {
        "duration": 205,
        "start_time": "2022-08-23T11:12:09.998Z"
      },
      {
        "duration": 86,
        "start_time": "2022-08-23T11:12:10.208Z"
      },
      {
        "duration": 178,
        "start_time": "2022-08-23T11:12:10.296Z"
      },
      {
        "duration": 0,
        "start_time": "2022-08-23T11:12:10.476Z"
      },
      {
        "duration": 0,
        "start_time": "2022-08-23T11:12:10.478Z"
      },
      {
        "duration": 4,
        "start_time": "2022-08-23T11:12:35.981Z"
      },
      {
        "duration": 6,
        "start_time": "2022-08-23T11:12:39.150Z"
      },
      {
        "duration": 4,
        "start_time": "2022-08-23T11:12:40.095Z"
      },
      {
        "duration": 4,
        "start_time": "2022-08-23T11:26:41.796Z"
      },
      {
        "duration": 4,
        "start_time": "2022-08-23T11:27:48.498Z"
      },
      {
        "duration": 9,
        "start_time": "2022-08-23T11:28:42.178Z"
      },
      {
        "duration": 3,
        "start_time": "2022-08-23T11:32:33.767Z"
      },
      {
        "duration": 496,
        "start_time": "2022-08-23T11:32:46.893Z"
      },
      {
        "duration": 1442,
        "start_time": "2022-08-24T17:55:13.923Z"
      },
      {
        "duration": 439,
        "start_time": "2022-08-24T17:55:15.367Z"
      },
      {
        "duration": 207,
        "start_time": "2022-08-24T17:55:15.807Z"
      },
      {
        "duration": 243,
        "start_time": "2022-08-24T17:55:16.017Z"
      },
      {
        "duration": 4,
        "start_time": "2022-08-24T17:55:16.262Z"
      },
      {
        "duration": 80,
        "start_time": "2022-08-24T17:55:16.268Z"
      },
      {
        "duration": 83,
        "start_time": "2022-08-24T17:55:16.350Z"
      },
      {
        "duration": 104,
        "start_time": "2022-08-24T17:55:16.435Z"
      },
      {
        "duration": 16,
        "start_time": "2022-08-24T17:55:16.540Z"
      },
      {
        "duration": 8,
        "start_time": "2022-08-24T17:55:16.560Z"
      },
      {
        "duration": 465,
        "start_time": "2022-08-24T17:55:16.571Z"
      },
      {
        "duration": 273,
        "start_time": "2022-08-24T17:55:17.038Z"
      },
      {
        "duration": 342,
        "start_time": "2022-08-24T17:55:17.314Z"
      },
      {
        "duration": 8,
        "start_time": "2022-08-24T17:55:17.658Z"
      },
      {
        "duration": 31,
        "start_time": "2022-08-24T17:55:17.668Z"
      },
      {
        "duration": 4,
        "start_time": "2022-08-24T17:55:17.701Z"
      },
      {
        "duration": 27,
        "start_time": "2022-08-24T17:55:17.707Z"
      },
      {
        "duration": 21,
        "start_time": "2022-08-24T17:55:17.735Z"
      },
      {
        "duration": 20,
        "start_time": "2022-08-24T17:55:17.784Z"
      },
      {
        "duration": 5,
        "start_time": "2022-08-24T17:55:17.805Z"
      },
      {
        "duration": 174,
        "start_time": "2022-08-24T17:55:17.812Z"
      },
      {
        "duration": 105,
        "start_time": "2022-08-24T17:55:17.988Z"
      },
      {
        "duration": 194,
        "start_time": "2022-08-24T17:55:18.095Z"
      },
      {
        "duration": 100,
        "start_time": "2022-08-24T17:55:18.291Z"
      },
      {
        "duration": 200,
        "start_time": "2022-08-24T17:55:18.393Z"
      },
      {
        "duration": 198,
        "start_time": "2022-08-24T17:55:18.595Z"
      },
      {
        "duration": 195,
        "start_time": "2022-08-24T17:55:18.795Z"
      },
      {
        "duration": 3,
        "start_time": "2022-08-24T17:55:18.994Z"
      },
      {
        "duration": 94,
        "start_time": "2022-08-24T17:55:18.999Z"
      },
      {
        "duration": 11,
        "start_time": "2022-08-24T17:55:19.095Z"
      },
      {
        "duration": 4,
        "start_time": "2022-08-24T18:13:31.017Z"
      },
      {
        "duration": 96,
        "start_time": "2022-08-24T18:14:14.646Z"
      },
      {
        "duration": 3,
        "start_time": "2022-08-24T18:43:31.644Z"
      },
      {
        "duration": 1479,
        "start_time": "2022-08-24T18:43:41.267Z"
      },
      {
        "duration": 159,
        "start_time": "2022-08-24T18:43:42.748Z"
      },
      {
        "duration": 133,
        "start_time": "2022-08-24T18:43:42.909Z"
      },
      {
        "duration": 119,
        "start_time": "2022-08-24T18:43:43.044Z"
      },
      {
        "duration": 3,
        "start_time": "2022-08-24T18:43:43.165Z"
      },
      {
        "duration": 74,
        "start_time": "2022-08-24T18:43:43.169Z"
      },
      {
        "duration": 66,
        "start_time": "2022-08-24T18:43:43.245Z"
      },
      {
        "duration": 81,
        "start_time": "2022-08-24T18:43:43.312Z"
      },
      {
        "duration": 15,
        "start_time": "2022-08-24T18:43:43.394Z"
      },
      {
        "duration": 6,
        "start_time": "2022-08-24T18:43:43.412Z"
      },
      {
        "duration": 417,
        "start_time": "2022-08-24T18:43:43.419Z"
      },
      {
        "duration": 220,
        "start_time": "2022-08-24T18:43:43.838Z"
      },
      {
        "duration": 324,
        "start_time": "2022-08-24T18:43:44.059Z"
      },
      {
        "duration": 9,
        "start_time": "2022-08-24T18:43:44.385Z"
      },
      {
        "duration": 26,
        "start_time": "2022-08-24T18:43:44.396Z"
      },
      {
        "duration": 5,
        "start_time": "2022-08-24T18:43:44.424Z"
      },
      {
        "duration": 46,
        "start_time": "2022-08-24T18:43:44.430Z"
      },
      {
        "duration": 28,
        "start_time": "2022-08-24T18:43:44.481Z"
      },
      {
        "duration": 26,
        "start_time": "2022-08-24T18:43:44.511Z"
      },
      {
        "duration": 8,
        "start_time": "2022-08-24T18:43:44.539Z"
      },
      {
        "duration": 60,
        "start_time": "2022-08-24T18:43:44.549Z"
      },
      {
        "duration": 185,
        "start_time": "2022-08-24T18:43:44.611Z"
      },
      {
        "duration": 196,
        "start_time": "2022-08-24T18:43:44.798Z"
      },
      {
        "duration": 6,
        "start_time": "2022-08-24T18:43:44.996Z"
      },
      {
        "duration": 138,
        "start_time": "2022-08-24T18:43:45.086Z"
      },
      {
        "duration": 116,
        "start_time": "2022-08-24T18:43:45.285Z"
      },
      {
        "duration": 115,
        "start_time": "2022-08-24T18:43:45.486Z"
      },
      {
        "duration": 180,
        "start_time": "2022-08-24T18:43:45.606Z"
      },
      {
        "duration": 16,
        "start_time": "2022-08-24T18:43:45.788Z"
      },
      {
        "duration": 10,
        "start_time": "2022-08-24T18:43:45.806Z"
      },
      {
        "duration": 4,
        "start_time": "2022-08-24T18:43:45.817Z"
      },
      {
        "duration": 4,
        "start_time": "2022-08-24T18:56:30.537Z"
      },
      {
        "duration": 1264,
        "start_time": "2022-08-24T19:05:40.380Z"
      },
      {
        "duration": 137,
        "start_time": "2022-08-24T19:05:41.646Z"
      },
      {
        "duration": 115,
        "start_time": "2022-08-24T19:05:41.785Z"
      },
      {
        "duration": 117,
        "start_time": "2022-08-24T19:05:41.902Z"
      },
      {
        "duration": 3,
        "start_time": "2022-08-24T19:05:42.020Z"
      },
      {
        "duration": 66,
        "start_time": "2022-08-24T19:05:42.024Z"
      },
      {
        "duration": 64,
        "start_time": "2022-08-24T19:05:42.093Z"
      },
      {
        "duration": 77,
        "start_time": "2022-08-24T19:05:42.160Z"
      },
      {
        "duration": 14,
        "start_time": "2022-08-24T19:05:42.239Z"
      },
      {
        "duration": 5,
        "start_time": "2022-08-24T19:05:42.255Z"
      },
      {
        "duration": 464,
        "start_time": "2022-08-24T19:05:42.261Z"
      },
      {
        "duration": 287,
        "start_time": "2022-08-24T19:05:42.727Z"
      },
      {
        "duration": 307,
        "start_time": "2022-08-24T19:05:43.015Z"
      },
      {
        "duration": 7,
        "start_time": "2022-08-24T19:05:43.324Z"
      },
      {
        "duration": 18,
        "start_time": "2022-08-24T19:05:43.334Z"
      },
      {
        "duration": 4,
        "start_time": "2022-08-24T19:05:43.354Z"
      },
      {
        "duration": 41,
        "start_time": "2022-08-24T19:05:43.360Z"
      },
      {
        "duration": 17,
        "start_time": "2022-08-24T19:05:43.402Z"
      },
      {
        "duration": 17,
        "start_time": "2022-08-24T19:05:43.420Z"
      },
      {
        "duration": 4,
        "start_time": "2022-08-24T19:05:43.438Z"
      },
      {
        "duration": 141,
        "start_time": "2022-08-24T19:05:43.443Z"
      },
      {
        "duration": 116,
        "start_time": "2022-08-24T19:05:43.586Z"
      },
      {
        "duration": 186,
        "start_time": "2022-08-24T19:05:43.703Z"
      },
      {
        "duration": 6,
        "start_time": "2022-08-24T19:05:43.890Z"
      },
      {
        "duration": 212,
        "start_time": "2022-08-24T19:05:43.897Z"
      },
      {
        "duration": 185,
        "start_time": "2022-08-24T19:05:44.110Z"
      },
      {
        "duration": 195,
        "start_time": "2022-08-24T19:05:44.299Z"
      },
      {
        "duration": 3,
        "start_time": "2022-08-24T19:05:44.497Z"
      },
      {
        "duration": 115,
        "start_time": "2022-08-24T19:05:44.586Z"
      },
      {
        "duration": 15,
        "start_time": "2022-08-24T19:05:44.704Z"
      },
      {
        "duration": 57,
        "start_time": "2022-08-24T19:13:48.021Z"
      },
      {
        "duration": 0,
        "start_time": "2022-08-24T19:13:48.081Z"
      },
      {
        "duration": 0,
        "start_time": "2022-08-24T19:13:48.083Z"
      },
      {
        "duration": 1,
        "start_time": "2022-08-24T19:13:48.083Z"
      },
      {
        "duration": 0,
        "start_time": "2022-08-24T19:13:48.085Z"
      },
      {
        "duration": 0,
        "start_time": "2022-08-24T19:13:48.086Z"
      },
      {
        "duration": 0,
        "start_time": "2022-08-24T19:13:48.088Z"
      },
      {
        "duration": 0,
        "start_time": "2022-08-24T19:13:48.089Z"
      },
      {
        "duration": 0,
        "start_time": "2022-08-24T19:13:48.090Z"
      },
      {
        "duration": 0,
        "start_time": "2022-08-24T19:13:48.092Z"
      },
      {
        "duration": 0,
        "start_time": "2022-08-24T19:13:48.093Z"
      },
      {
        "duration": 0,
        "start_time": "2022-08-24T19:13:48.095Z"
      },
      {
        "duration": 0,
        "start_time": "2022-08-24T19:13:48.096Z"
      },
      {
        "duration": 0,
        "start_time": "2022-08-24T19:13:48.097Z"
      },
      {
        "duration": 0,
        "start_time": "2022-08-24T19:13:48.098Z"
      },
      {
        "duration": 0,
        "start_time": "2022-08-24T19:13:48.099Z"
      },
      {
        "duration": 0,
        "start_time": "2022-08-24T19:13:48.101Z"
      },
      {
        "duration": 0,
        "start_time": "2022-08-24T19:13:48.102Z"
      },
      {
        "duration": 0,
        "start_time": "2022-08-24T19:13:48.104Z"
      },
      {
        "duration": 0,
        "start_time": "2022-08-24T19:13:48.105Z"
      },
      {
        "duration": 0,
        "start_time": "2022-08-24T19:13:48.107Z"
      },
      {
        "duration": 0,
        "start_time": "2022-08-24T19:13:48.108Z"
      },
      {
        "duration": 0,
        "start_time": "2022-08-24T19:13:48.109Z"
      },
      {
        "duration": 110,
        "start_time": "2022-08-24T19:13:48.114Z"
      },
      {
        "duration": 0,
        "start_time": "2022-08-24T19:13:48.226Z"
      },
      {
        "duration": 0,
        "start_time": "2022-08-24T19:13:48.228Z"
      },
      {
        "duration": 0,
        "start_time": "2022-08-24T19:13:48.229Z"
      },
      {
        "duration": 0,
        "start_time": "2022-08-24T19:13:48.231Z"
      },
      {
        "duration": 0,
        "start_time": "2022-08-24T19:13:48.232Z"
      },
      {
        "duration": 0,
        "start_time": "2022-08-24T19:13:48.233Z"
      },
      {
        "duration": 0,
        "start_time": "2022-08-24T19:13:48.234Z"
      },
      {
        "duration": 77,
        "start_time": "2022-08-24T19:14:30.677Z"
      },
      {
        "duration": 0,
        "start_time": "2022-08-24T19:14:30.757Z"
      },
      {
        "duration": 0,
        "start_time": "2022-08-24T19:14:30.758Z"
      },
      {
        "duration": 0,
        "start_time": "2022-08-24T19:14:30.760Z"
      },
      {
        "duration": 0,
        "start_time": "2022-08-24T19:14:30.760Z"
      },
      {
        "duration": 0,
        "start_time": "2022-08-24T19:14:30.762Z"
      },
      {
        "duration": 0,
        "start_time": "2022-08-24T19:14:30.763Z"
      },
      {
        "duration": 0,
        "start_time": "2022-08-24T19:14:30.764Z"
      },
      {
        "duration": 0,
        "start_time": "2022-08-24T19:14:30.765Z"
      },
      {
        "duration": 0,
        "start_time": "2022-08-24T19:14:30.767Z"
      },
      {
        "duration": 0,
        "start_time": "2022-08-24T19:14:30.768Z"
      },
      {
        "duration": 0,
        "start_time": "2022-08-24T19:14:30.768Z"
      },
      {
        "duration": 0,
        "start_time": "2022-08-24T19:14:30.769Z"
      },
      {
        "duration": 0,
        "start_time": "2022-08-24T19:14:30.771Z"
      },
      {
        "duration": 0,
        "start_time": "2022-08-24T19:14:30.772Z"
      },
      {
        "duration": 0,
        "start_time": "2022-08-24T19:14:30.773Z"
      },
      {
        "duration": 0,
        "start_time": "2022-08-24T19:14:30.774Z"
      },
      {
        "duration": 0,
        "start_time": "2022-08-24T19:14:30.775Z"
      },
      {
        "duration": 0,
        "start_time": "2022-08-24T19:14:30.776Z"
      },
      {
        "duration": 0,
        "start_time": "2022-08-24T19:14:30.777Z"
      },
      {
        "duration": 0,
        "start_time": "2022-08-24T19:14:30.778Z"
      },
      {
        "duration": 0,
        "start_time": "2022-08-24T19:14:30.780Z"
      },
      {
        "duration": 0,
        "start_time": "2022-08-24T19:14:30.781Z"
      },
      {
        "duration": 0,
        "start_time": "2022-08-24T19:14:30.782Z"
      },
      {
        "duration": 0,
        "start_time": "2022-08-24T19:14:30.783Z"
      },
      {
        "duration": 0,
        "start_time": "2022-08-24T19:14:30.784Z"
      },
      {
        "duration": 0,
        "start_time": "2022-08-24T19:14:30.785Z"
      },
      {
        "duration": 0,
        "start_time": "2022-08-24T19:14:30.786Z"
      },
      {
        "duration": 5,
        "start_time": "2022-08-24T19:14:30.788Z"
      },
      {
        "duration": 20,
        "start_time": "2022-08-24T19:14:30.794Z"
      },
      {
        "duration": 73,
        "start_time": "2022-08-24T19:14:30.816Z"
      },
      {
        "duration": 56,
        "start_time": "2022-08-24T19:15:08.681Z"
      },
      {
        "duration": 2,
        "start_time": "2022-08-24T19:15:27.598Z"
      },
      {
        "duration": 5,
        "start_time": "2022-08-24T19:15:30.035Z"
      },
      {
        "duration": 3,
        "start_time": "2022-08-24T19:15:41.736Z"
      },
      {
        "duration": 4,
        "start_time": "2022-08-24T19:15:43.442Z"
      },
      {
        "duration": 7,
        "start_time": "2022-08-24T19:15:46.083Z"
      },
      {
        "duration": 61,
        "start_time": "2022-08-24T19:15:58.229Z"
      },
      {
        "duration": 0,
        "start_time": "2022-08-24T19:15:58.292Z"
      },
      {
        "duration": 0,
        "start_time": "2022-08-24T19:15:58.293Z"
      },
      {
        "duration": 0,
        "start_time": "2022-08-24T19:15:58.295Z"
      },
      {
        "duration": 0,
        "start_time": "2022-08-24T19:15:58.296Z"
      },
      {
        "duration": 0,
        "start_time": "2022-08-24T19:15:58.297Z"
      },
      {
        "duration": 0,
        "start_time": "2022-08-24T19:15:58.298Z"
      },
      {
        "duration": 0,
        "start_time": "2022-08-24T19:15:58.299Z"
      },
      {
        "duration": 0,
        "start_time": "2022-08-24T19:15:58.300Z"
      },
      {
        "duration": 0,
        "start_time": "2022-08-24T19:15:58.301Z"
      },
      {
        "duration": 0,
        "start_time": "2022-08-24T19:15:58.302Z"
      },
      {
        "duration": 0,
        "start_time": "2022-08-24T19:15:58.304Z"
      },
      {
        "duration": 0,
        "start_time": "2022-08-24T19:15:58.305Z"
      },
      {
        "duration": 0,
        "start_time": "2022-08-24T19:15:58.306Z"
      },
      {
        "duration": 0,
        "start_time": "2022-08-24T19:15:58.307Z"
      },
      {
        "duration": 0,
        "start_time": "2022-08-24T19:15:58.308Z"
      },
      {
        "duration": 0,
        "start_time": "2022-08-24T19:15:58.309Z"
      },
      {
        "duration": 0,
        "start_time": "2022-08-24T19:15:58.310Z"
      },
      {
        "duration": 0,
        "start_time": "2022-08-24T19:15:58.311Z"
      },
      {
        "duration": 0,
        "start_time": "2022-08-24T19:15:58.312Z"
      },
      {
        "duration": 0,
        "start_time": "2022-08-24T19:15:58.313Z"
      },
      {
        "duration": 0,
        "start_time": "2022-08-24T19:15:58.314Z"
      },
      {
        "duration": 0,
        "start_time": "2022-08-24T19:15:58.315Z"
      },
      {
        "duration": 0,
        "start_time": "2022-08-24T19:15:58.316Z"
      },
      {
        "duration": 0,
        "start_time": "2022-08-24T19:15:58.317Z"
      },
      {
        "duration": 0,
        "start_time": "2022-08-24T19:15:58.318Z"
      },
      {
        "duration": 0,
        "start_time": "2022-08-24T19:15:58.319Z"
      },
      {
        "duration": 0,
        "start_time": "2022-08-24T19:15:58.320Z"
      },
      {
        "duration": 3,
        "start_time": "2022-08-24T19:15:58.328Z"
      },
      {
        "duration": 5,
        "start_time": "2022-08-24T19:15:58.388Z"
      },
      {
        "duration": 42,
        "start_time": "2022-08-24T19:15:58.395Z"
      },
      {
        "duration": 1279,
        "start_time": "2022-08-24T19:17:17.591Z"
      },
      {
        "duration": 127,
        "start_time": "2022-08-24T19:17:18.872Z"
      },
      {
        "duration": 111,
        "start_time": "2022-08-24T19:17:19.001Z"
      },
      {
        "duration": 129,
        "start_time": "2022-08-24T19:17:19.115Z"
      },
      {
        "duration": 3,
        "start_time": "2022-08-24T19:17:19.245Z"
      },
      {
        "duration": 67,
        "start_time": "2022-08-24T19:17:19.249Z"
      },
      {
        "duration": 70,
        "start_time": "2022-08-24T19:17:19.318Z"
      },
      {
        "duration": 67,
        "start_time": "2022-08-24T19:17:19.390Z"
      },
      {
        "duration": 33,
        "start_time": "2022-08-24T19:17:19.459Z"
      },
      {
        "duration": 4,
        "start_time": "2022-08-24T19:17:19.495Z"
      },
      {
        "duration": 441,
        "start_time": "2022-08-24T19:17:19.500Z"
      },
      {
        "duration": 253,
        "start_time": "2022-08-24T19:17:19.942Z"
      },
      {
        "duration": 302,
        "start_time": "2022-08-24T19:17:20.196Z"
      },
      {
        "duration": 7,
        "start_time": "2022-08-24T19:17:20.500Z"
      },
      {
        "duration": 19,
        "start_time": "2022-08-24T19:17:20.508Z"
      },
      {
        "duration": 3,
        "start_time": "2022-08-24T19:17:20.528Z"
      },
      {
        "duration": 22,
        "start_time": "2022-08-24T19:17:20.533Z"
      },
      {
        "duration": 35,
        "start_time": "2022-08-24T19:17:20.557Z"
      },
      {
        "duration": 18,
        "start_time": "2022-08-24T19:17:20.594Z"
      },
      {
        "duration": 4,
        "start_time": "2022-08-24T19:17:20.613Z"
      },
      {
        "duration": 70,
        "start_time": "2022-08-24T19:17:20.618Z"
      },
      {
        "duration": 115,
        "start_time": "2022-08-24T19:17:20.689Z"
      },
      {
        "duration": 187,
        "start_time": "2022-08-24T19:17:20.808Z"
      },
      {
        "duration": 89,
        "start_time": "2022-08-24T19:17:21.001Z"
      },
      {
        "duration": 192,
        "start_time": "2022-08-24T19:17:21.094Z"
      },
      {
        "duration": 109,
        "start_time": "2022-08-24T19:17:21.288Z"
      },
      {
        "duration": 195,
        "start_time": "2022-08-24T19:17:21.398Z"
      },
      {
        "duration": 4,
        "start_time": "2022-08-24T19:17:21.686Z"
      },
      {
        "duration": 8,
        "start_time": "2022-08-24T19:17:21.691Z"
      },
      {
        "duration": 10,
        "start_time": "2022-08-24T19:17:21.786Z"
      },
      {
        "duration": 8,
        "start_time": "2022-08-25T16:32:08.167Z"
      },
      {
        "duration": 9,
        "start_time": "2022-08-25T16:32:11.222Z"
      },
      {
        "duration": 88,
        "start_time": "2022-08-25T18:30:38.765Z"
      },
      {
        "duration": 67,
        "start_time": "2022-08-25T18:31:09.449Z"
      },
      {
        "duration": 3,
        "start_time": "2022-08-25T18:32:20.643Z"
      },
      {
        "duration": 41,
        "start_time": "2022-08-25T18:32:21.628Z"
      },
      {
        "duration": 5,
        "start_time": "2022-08-25T18:32:38.959Z"
      },
      {
        "duration": 1360,
        "start_time": "2022-08-25T18:37:34.417Z"
      },
      {
        "duration": 3,
        "start_time": "2022-08-25T18:37:35.779Z"
      },
      {
        "duration": 390,
        "start_time": "2022-08-25T18:37:35.783Z"
      },
      {
        "duration": 245,
        "start_time": "2022-08-25T18:37:36.175Z"
      },
      {
        "duration": 213,
        "start_time": "2022-08-25T18:37:36.423Z"
      },
      {
        "duration": 3,
        "start_time": "2022-08-25T18:37:36.637Z"
      },
      {
        "duration": 79,
        "start_time": "2022-08-25T18:37:36.642Z"
      },
      {
        "duration": 77,
        "start_time": "2022-08-25T18:37:36.722Z"
      },
      {
        "duration": 69,
        "start_time": "2022-08-25T18:37:36.801Z"
      },
      {
        "duration": 29,
        "start_time": "2022-08-25T18:37:36.871Z"
      },
      {
        "duration": 6,
        "start_time": "2022-08-25T18:37:36.901Z"
      },
      {
        "duration": 406,
        "start_time": "2022-08-25T18:37:36.909Z"
      },
      {
        "duration": 218,
        "start_time": "2022-08-25T18:37:37.317Z"
      },
      {
        "duration": 300,
        "start_time": "2022-08-25T18:37:37.539Z"
      },
      {
        "duration": 7,
        "start_time": "2022-08-25T18:37:37.841Z"
      },
      {
        "duration": 12,
        "start_time": "2022-08-25T18:37:37.850Z"
      },
      {
        "duration": 3,
        "start_time": "2022-08-25T18:37:37.863Z"
      },
      {
        "duration": 30,
        "start_time": "2022-08-25T18:37:37.868Z"
      },
      {
        "duration": 16,
        "start_time": "2022-08-25T18:37:37.899Z"
      },
      {
        "duration": 17,
        "start_time": "2022-08-25T18:37:37.916Z"
      },
      {
        "duration": 67,
        "start_time": "2022-08-25T18:37:37.934Z"
      },
      {
        "duration": 0,
        "start_time": "2022-08-25T18:37:38.003Z"
      },
      {
        "duration": 0,
        "start_time": "2022-08-25T18:37:38.005Z"
      },
      {
        "duration": 0,
        "start_time": "2022-08-25T18:37:38.006Z"
      },
      {
        "duration": 0,
        "start_time": "2022-08-25T18:37:38.007Z"
      },
      {
        "duration": 0,
        "start_time": "2022-08-25T18:37:38.008Z"
      },
      {
        "duration": 0,
        "start_time": "2022-08-25T18:37:38.009Z"
      },
      {
        "duration": 0,
        "start_time": "2022-08-25T18:37:38.010Z"
      },
      {
        "duration": 0,
        "start_time": "2022-08-25T18:37:38.011Z"
      },
      {
        "duration": 0,
        "start_time": "2022-08-25T18:37:38.012Z"
      },
      {
        "duration": 0,
        "start_time": "2022-08-25T18:37:38.013Z"
      },
      {
        "duration": 1363,
        "start_time": "2022-08-25T18:39:17.162Z"
      },
      {
        "duration": 4,
        "start_time": "2022-08-25T18:39:18.527Z"
      },
      {
        "duration": 158,
        "start_time": "2022-08-25T18:39:18.532Z"
      },
      {
        "duration": 134,
        "start_time": "2022-08-25T18:39:18.692Z"
      },
      {
        "duration": 144,
        "start_time": "2022-08-25T18:39:18.828Z"
      },
      {
        "duration": 4,
        "start_time": "2022-08-25T18:39:18.973Z"
      },
      {
        "duration": 79,
        "start_time": "2022-08-25T18:39:18.978Z"
      },
      {
        "duration": 82,
        "start_time": "2022-08-25T18:39:19.059Z"
      },
      {
        "duration": 88,
        "start_time": "2022-08-25T18:39:19.142Z"
      },
      {
        "duration": 15,
        "start_time": "2022-08-25T18:39:19.232Z"
      },
      {
        "duration": 6,
        "start_time": "2022-08-25T18:39:19.248Z"
      },
      {
        "duration": 425,
        "start_time": "2022-08-25T18:39:19.255Z"
      },
      {
        "duration": 237,
        "start_time": "2022-08-25T18:39:19.687Z"
      },
      {
        "duration": 321,
        "start_time": "2022-08-25T18:39:19.926Z"
      },
      {
        "duration": 7,
        "start_time": "2022-08-25T18:39:20.249Z"
      },
      {
        "duration": 15,
        "start_time": "2022-08-25T18:39:20.258Z"
      },
      {
        "duration": 2,
        "start_time": "2022-08-25T18:39:20.287Z"
      },
      {
        "duration": 100,
        "start_time": "2022-08-25T18:39:20.291Z"
      },
      {
        "duration": 15,
        "start_time": "2022-08-25T18:39:20.392Z"
      },
      {
        "duration": 16,
        "start_time": "2022-08-25T18:39:20.408Z"
      },
      {
        "duration": 4,
        "start_time": "2022-08-25T18:39:20.426Z"
      },
      {
        "duration": 59,
        "start_time": "2022-08-25T18:39:20.431Z"
      },
      {
        "duration": 194,
        "start_time": "2022-08-25T18:39:20.492Z"
      },
      {
        "duration": 122,
        "start_time": "2022-08-25T18:39:20.688Z"
      },
      {
        "duration": 79,
        "start_time": "2022-08-25T18:39:20.812Z"
      },
      {
        "duration": 190,
        "start_time": "2022-08-25T18:39:20.897Z"
      },
      {
        "duration": 198,
        "start_time": "2022-08-25T18:39:21.089Z"
      },
      {
        "duration": 195,
        "start_time": "2022-08-25T18:39:21.292Z"
      },
      {
        "duration": 4,
        "start_time": "2022-08-25T18:39:21.490Z"
      },
      {
        "duration": 99,
        "start_time": "2022-08-25T18:39:21.496Z"
      },
      {
        "duration": 7,
        "start_time": "2022-08-25T18:39:21.596Z"
      },
      {
        "duration": 52,
        "start_time": "2022-08-26T18:36:08.524Z"
      },
      {
        "duration": 44,
        "start_time": "2022-08-26T18:36:09.116Z"
      },
      {
        "duration": 1495,
        "start_time": "2022-08-26T18:36:25.664Z"
      },
      {
        "duration": 3,
        "start_time": "2022-08-26T18:36:27.161Z"
      },
      {
        "duration": 410,
        "start_time": "2022-08-26T18:36:27.166Z"
      },
      {
        "duration": 221,
        "start_time": "2022-08-26T18:36:27.579Z"
      },
      {
        "duration": 228,
        "start_time": "2022-08-26T18:36:27.802Z"
      },
      {
        "duration": 4,
        "start_time": "2022-08-26T18:36:28.031Z"
      },
      {
        "duration": 105,
        "start_time": "2022-08-26T18:36:28.036Z"
      },
      {
        "duration": 90,
        "start_time": "2022-08-26T18:36:28.143Z"
      },
      {
        "duration": 97,
        "start_time": "2022-08-26T18:36:28.235Z"
      },
      {
        "duration": 16,
        "start_time": "2022-08-26T18:36:28.336Z"
      },
      {
        "duration": 6,
        "start_time": "2022-08-26T18:36:28.354Z"
      },
      {
        "duration": 439,
        "start_time": "2022-08-26T18:36:28.362Z"
      },
      {
        "duration": 246,
        "start_time": "2022-08-26T18:36:28.803Z"
      },
      {
        "duration": 320,
        "start_time": "2022-08-26T18:36:29.051Z"
      },
      {
        "duration": 8,
        "start_time": "2022-08-26T18:36:29.373Z"
      },
      {
        "duration": 28,
        "start_time": "2022-08-26T18:36:29.382Z"
      },
      {
        "duration": 3,
        "start_time": "2022-08-26T18:36:29.412Z"
      },
      {
        "duration": 22,
        "start_time": "2022-08-26T18:36:29.417Z"
      },
      {
        "duration": 22,
        "start_time": "2022-08-26T18:36:29.440Z"
      },
      {
        "duration": 19,
        "start_time": "2022-08-26T18:36:29.463Z"
      },
      {
        "duration": 4,
        "start_time": "2022-08-26T18:36:29.510Z"
      },
      {
        "duration": 110,
        "start_time": "2022-08-26T18:36:29.516Z"
      },
      {
        "duration": 182,
        "start_time": "2022-08-26T18:36:29.628Z"
      },
      {
        "duration": 110,
        "start_time": "2022-08-26T18:36:29.813Z"
      },
      {
        "duration": 85,
        "start_time": "2022-08-26T18:36:29.925Z"
      },
      {
        "duration": 192,
        "start_time": "2022-08-26T18:36:30.017Z"
      },
      {
        "duration": 124,
        "start_time": "2022-08-26T18:36:30.211Z"
      },
      {
        "duration": 126,
        "start_time": "2022-08-26T18:36:30.411Z"
      },
      {
        "duration": 5,
        "start_time": "2022-08-26T18:36:30.610Z"
      },
      {
        "duration": 169,
        "start_time": "2022-08-26T18:36:30.617Z"
      },
      {
        "duration": 56,
        "start_time": "2022-08-26T18:36:30.788Z"
      },
      {
        "duration": 5,
        "start_time": "2022-08-26T18:51:59.253Z"
      },
      {
        "duration": 31,
        "start_time": "2022-08-26T18:52:02.576Z"
      },
      {
        "duration": 63,
        "start_time": "2022-08-26T18:52:06.246Z"
      },
      {
        "duration": 28,
        "start_time": "2022-08-26T18:52:08.923Z"
      },
      {
        "duration": 1234,
        "start_time": "2022-08-26T18:54:54.348Z"
      },
      {
        "duration": 4,
        "start_time": "2022-08-26T18:54:55.584Z"
      },
      {
        "duration": 175,
        "start_time": "2022-08-26T18:54:55.590Z"
      },
      {
        "duration": 148,
        "start_time": "2022-08-26T18:54:55.768Z"
      },
      {
        "duration": 154,
        "start_time": "2022-08-26T18:54:55.918Z"
      },
      {
        "duration": 3,
        "start_time": "2022-08-26T18:54:56.075Z"
      },
      {
        "duration": 102,
        "start_time": "2022-08-26T18:54:56.080Z"
      },
      {
        "duration": 90,
        "start_time": "2022-08-26T18:54:56.184Z"
      },
      {
        "duration": 98,
        "start_time": "2022-08-26T18:54:56.275Z"
      },
      {
        "duration": 36,
        "start_time": "2022-08-26T18:54:56.377Z"
      },
      {
        "duration": 8,
        "start_time": "2022-08-26T18:54:56.415Z"
      },
      {
        "duration": 437,
        "start_time": "2022-08-26T18:54:56.425Z"
      },
      {
        "duration": 247,
        "start_time": "2022-08-26T18:54:56.864Z"
      },
      {
        "duration": 405,
        "start_time": "2022-08-26T18:54:57.113Z"
      },
      {
        "duration": 8,
        "start_time": "2022-08-26T18:54:57.520Z"
      },
      {
        "duration": 22,
        "start_time": "2022-08-26T18:54:57.530Z"
      },
      {
        "duration": 3,
        "start_time": "2022-08-26T18:54:57.554Z"
      },
      {
        "duration": 34,
        "start_time": "2022-08-26T18:54:57.559Z"
      },
      {
        "duration": 27,
        "start_time": "2022-08-26T18:54:57.595Z"
      },
      {
        "duration": 21,
        "start_time": "2022-08-26T18:54:57.624Z"
      },
      {
        "duration": 4,
        "start_time": "2022-08-26T18:54:57.646Z"
      },
      {
        "duration": 64,
        "start_time": "2022-08-26T18:54:57.652Z"
      },
      {
        "duration": 290,
        "start_time": "2022-08-26T18:54:57.719Z"
      },
      {
        "duration": 197,
        "start_time": "2022-08-26T18:54:58.012Z"
      },
      {
        "duration": 5,
        "start_time": "2022-08-26T18:54:58.211Z"
      },
      {
        "duration": 198,
        "start_time": "2022-08-26T18:54:58.217Z"
      },
      {
        "duration": 96,
        "start_time": "2022-08-26T18:54:58.417Z"
      },
      {
        "duration": 190,
        "start_time": "2022-08-26T18:54:58.520Z"
      },
      {
        "duration": 5,
        "start_time": "2022-08-26T18:54:58.713Z"
      },
      {
        "duration": 94,
        "start_time": "2022-08-26T18:54:58.725Z"
      },
      {
        "duration": 11,
        "start_time": "2022-08-26T18:54:58.821Z"
      },
      {
        "duration": 1271,
        "start_time": "2022-08-26T19:50:23.717Z"
      },
      {
        "duration": 3,
        "start_time": "2022-08-26T19:50:24.990Z"
      },
      {
        "duration": 167,
        "start_time": "2022-08-26T19:50:24.995Z"
      },
      {
        "duration": 139,
        "start_time": "2022-08-26T19:50:25.164Z"
      },
      {
        "duration": 135,
        "start_time": "2022-08-26T19:50:25.308Z"
      },
      {
        "duration": 3,
        "start_time": "2022-08-26T19:50:25.445Z"
      },
      {
        "duration": 91,
        "start_time": "2022-08-26T19:50:25.450Z"
      },
      {
        "duration": 87,
        "start_time": "2022-08-26T19:50:25.542Z"
      },
      {
        "duration": 103,
        "start_time": "2022-08-26T19:50:25.631Z"
      },
      {
        "duration": 16,
        "start_time": "2022-08-26T19:50:25.736Z"
      },
      {
        "duration": 26,
        "start_time": "2022-08-26T19:50:25.753Z"
      },
      {
        "duration": 478,
        "start_time": "2022-08-26T19:50:25.781Z"
      },
      {
        "duration": 235,
        "start_time": "2022-08-26T19:50:26.260Z"
      },
      {
        "duration": 315,
        "start_time": "2022-08-26T19:50:26.497Z"
      },
      {
        "duration": 8,
        "start_time": "2022-08-26T19:50:26.814Z"
      },
      {
        "duration": 25,
        "start_time": "2022-08-26T19:50:26.824Z"
      },
      {
        "duration": 12,
        "start_time": "2022-08-26T19:50:26.850Z"
      },
      {
        "duration": 33,
        "start_time": "2022-08-26T19:50:26.864Z"
      },
      {
        "duration": 19,
        "start_time": "2022-08-26T19:50:26.899Z"
      },
      {
        "duration": 28,
        "start_time": "2022-08-26T19:50:26.919Z"
      },
      {
        "duration": 4,
        "start_time": "2022-08-26T19:50:26.948Z"
      },
      {
        "duration": 155,
        "start_time": "2022-08-26T19:50:26.954Z"
      },
      {
        "duration": 121,
        "start_time": "2022-08-26T19:50:27.111Z"
      },
      {
        "duration": 192,
        "start_time": "2022-08-26T19:50:27.235Z"
      },
      {
        "duration": 82,
        "start_time": "2022-08-26T19:50:27.431Z"
      },
      {
        "duration": 293,
        "start_time": "2022-08-26T19:50:27.516Z"
      },
      {
        "duration": 100,
        "start_time": "2022-08-26T19:50:27.811Z"
      },
      {
        "duration": 204,
        "start_time": "2022-08-26T19:50:27.916Z"
      },
      {
        "duration": 87,
        "start_time": "2022-08-26T19:50:28.123Z"
      },
      {
        "duration": 147,
        "start_time": "2022-08-26T19:50:28.212Z"
      },
      {
        "duration": 0,
        "start_time": "2022-08-26T19:50:28.361Z"
      },
      {
        "duration": 5,
        "start_time": "2022-08-26T19:50:53.443Z"
      },
      {
        "duration": 3,
        "start_time": "2022-08-26T19:52:49.841Z"
      },
      {
        "duration": 1476,
        "start_time": "2022-08-26T19:52:56.750Z"
      },
      {
        "duration": 3,
        "start_time": "2022-08-26T19:52:58.228Z"
      },
      {
        "duration": 170,
        "start_time": "2022-08-26T19:52:58.233Z"
      },
      {
        "duration": 141,
        "start_time": "2022-08-26T19:52:58.406Z"
      },
      {
        "duration": 134,
        "start_time": "2022-08-26T19:52:58.549Z"
      },
      {
        "duration": 3,
        "start_time": "2022-08-26T19:52:58.685Z"
      },
      {
        "duration": 91,
        "start_time": "2022-08-26T19:52:58.690Z"
      },
      {
        "duration": 90,
        "start_time": "2022-08-26T19:52:58.782Z"
      },
      {
        "duration": 119,
        "start_time": "2022-08-26T19:52:58.874Z"
      },
      {
        "duration": 17,
        "start_time": "2022-08-26T19:52:59.011Z"
      },
      {
        "duration": 11,
        "start_time": "2022-08-26T19:52:59.030Z"
      },
      {
        "duration": 456,
        "start_time": "2022-08-26T19:52:59.043Z"
      },
      {
        "duration": 243,
        "start_time": "2022-08-26T19:52:59.509Z"
      },
      {
        "duration": 313,
        "start_time": "2022-08-26T19:52:59.754Z"
      },
      {
        "duration": 7,
        "start_time": "2022-08-26T19:53:00.069Z"
      },
      {
        "duration": 21,
        "start_time": "2022-08-26T19:53:00.078Z"
      },
      {
        "duration": 3,
        "start_time": "2022-08-26T19:53:00.109Z"
      },
      {
        "duration": 120,
        "start_time": "2022-08-26T19:53:00.114Z"
      },
      {
        "duration": 17,
        "start_time": "2022-08-26T19:53:00.236Z"
      },
      {
        "duration": 36,
        "start_time": "2022-08-26T19:53:00.255Z"
      },
      {
        "duration": 5,
        "start_time": "2022-08-26T19:53:00.293Z"
      },
      {
        "duration": 29,
        "start_time": "2022-08-26T19:53:00.309Z"
      },
      {
        "duration": 195,
        "start_time": "2022-08-26T19:53:00.340Z"
      },
      {
        "duration": 273,
        "start_time": "2022-08-26T19:53:00.538Z"
      },
      {
        "duration": 106,
        "start_time": "2022-08-26T19:53:00.814Z"
      },
      {
        "duration": 188,
        "start_time": "2022-08-26T19:53:00.922Z"
      },
      {
        "duration": 98,
        "start_time": "2022-08-26T19:53:01.112Z"
      },
      {
        "duration": 122,
        "start_time": "2022-08-26T19:53:01.215Z"
      },
      {
        "duration": 4,
        "start_time": "2022-08-26T19:53:01.412Z"
      },
      {
        "duration": 112,
        "start_time": "2022-08-26T19:53:01.418Z"
      },
      {
        "duration": 33,
        "start_time": "2022-08-26T19:53:01.532Z"
      },
      {
        "duration": 1483,
        "start_time": "2022-08-27T18:49:05.428Z"
      },
      {
        "duration": 4,
        "start_time": "2022-08-27T18:49:06.913Z"
      },
      {
        "duration": 574,
        "start_time": "2022-08-27T18:49:06.918Z"
      },
      {
        "duration": 219,
        "start_time": "2022-08-27T18:49:07.494Z"
      },
      {
        "duration": 219,
        "start_time": "2022-08-27T18:49:07.715Z"
      },
      {
        "duration": 4,
        "start_time": "2022-08-27T18:49:07.936Z"
      },
      {
        "duration": 86,
        "start_time": "2022-08-27T18:49:07.941Z"
      },
      {
        "duration": 95,
        "start_time": "2022-08-27T18:49:08.029Z"
      },
      {
        "duration": 96,
        "start_time": "2022-08-27T18:49:08.126Z"
      },
      {
        "duration": 18,
        "start_time": "2022-08-27T18:49:08.224Z"
      },
      {
        "duration": 5,
        "start_time": "2022-08-27T18:49:08.244Z"
      },
      {
        "duration": 454,
        "start_time": "2022-08-27T18:49:08.251Z"
      },
      {
        "duration": 248,
        "start_time": "2022-08-27T18:49:08.707Z"
      },
      {
        "duration": 312,
        "start_time": "2022-08-27T18:49:08.959Z"
      },
      {
        "duration": 7,
        "start_time": "2022-08-27T18:49:09.272Z"
      },
      {
        "duration": 29,
        "start_time": "2022-08-27T18:49:09.280Z"
      },
      {
        "duration": 4,
        "start_time": "2022-08-27T18:49:09.310Z"
      },
      {
        "duration": 24,
        "start_time": "2022-08-27T18:49:09.315Z"
      },
      {
        "duration": 19,
        "start_time": "2022-08-27T18:49:09.341Z"
      },
      {
        "duration": 19,
        "start_time": "2022-08-27T18:49:09.362Z"
      },
      {
        "duration": 29,
        "start_time": "2022-08-27T18:49:09.382Z"
      },
      {
        "duration": 105,
        "start_time": "2022-08-27T18:49:09.413Z"
      },
      {
        "duration": 112,
        "start_time": "2022-08-27T18:49:09.610Z"
      },
      {
        "duration": 199,
        "start_time": "2022-08-27T18:49:09.724Z"
      },
      {
        "duration": 99,
        "start_time": "2022-08-27T18:49:09.925Z"
      },
      {
        "duration": 201,
        "start_time": "2022-08-27T18:49:10.110Z"
      },
      {
        "duration": 197,
        "start_time": "2022-08-27T18:49:10.313Z"
      },
      {
        "duration": 98,
        "start_time": "2022-08-27T18:49:10.513Z"
      },
      {
        "duration": 94,
        "start_time": "2022-08-27T18:49:10.614Z"
      },
      {
        "duration": 9,
        "start_time": "2022-08-27T18:49:10.710Z"
      },
      {
        "duration": 5,
        "start_time": "2022-08-27T18:49:10.722Z"
      },
      {
        "duration": 6,
        "start_time": "2022-08-27T18:49:10.728Z"
      },
      {
        "duration": 8,
        "start_time": "2022-08-27T18:49:10.735Z"
      },
      {
        "duration": 115,
        "start_time": "2022-08-27T18:49:10.744Z"
      },
      {
        "duration": 115,
        "start_time": "2022-08-27T18:50:18.996Z"
      },
      {
        "duration": 165,
        "start_time": "2022-08-27T18:50:38.645Z"
      },
      {
        "duration": 6,
        "start_time": "2022-08-27T18:50:47.682Z"
      },
      {
        "duration": 135,
        "start_time": "2022-08-27T18:50:52.777Z"
      },
      {
        "duration": 145,
        "start_time": "2022-08-27T18:51:50.666Z"
      },
      {
        "duration": 70,
        "start_time": "2022-08-27T18:51:54.341Z"
      },
      {
        "duration": 1267,
        "start_time": "2022-08-27T18:52:14.520Z"
      },
      {
        "duration": 4,
        "start_time": "2022-08-27T18:52:15.789Z"
      },
      {
        "duration": 169,
        "start_time": "2022-08-27T18:52:15.794Z"
      },
      {
        "duration": 154,
        "start_time": "2022-08-27T18:52:15.966Z"
      },
      {
        "duration": 136,
        "start_time": "2022-08-27T18:52:16.122Z"
      },
      {
        "duration": 3,
        "start_time": "2022-08-27T18:52:16.260Z"
      },
      {
        "duration": 94,
        "start_time": "2022-08-27T18:52:16.264Z"
      },
      {
        "duration": 89,
        "start_time": "2022-08-27T18:52:16.359Z"
      },
      {
        "duration": 90,
        "start_time": "2022-08-27T18:52:16.449Z"
      },
      {
        "duration": 16,
        "start_time": "2022-08-27T18:52:16.542Z"
      },
      {
        "duration": 10,
        "start_time": "2022-08-27T18:52:16.560Z"
      },
      {
        "duration": 436,
        "start_time": "2022-08-27T18:52:16.571Z"
      },
      {
        "duration": 234,
        "start_time": "2022-08-27T18:52:17.009Z"
      },
      {
        "duration": 358,
        "start_time": "2022-08-27T18:52:17.244Z"
      },
      {
        "duration": 7,
        "start_time": "2022-08-27T18:52:17.609Z"
      },
      {
        "duration": 22,
        "start_time": "2022-08-27T18:52:17.617Z"
      },
      {
        "duration": 3,
        "start_time": "2022-08-27T18:52:17.641Z"
      },
      {
        "duration": 120,
        "start_time": "2022-08-27T18:52:17.645Z"
      },
      {
        "duration": 16,
        "start_time": "2022-08-27T18:52:17.767Z"
      },
      {
        "duration": 30,
        "start_time": "2022-08-27T18:52:17.785Z"
      },
      {
        "duration": 4,
        "start_time": "2022-08-27T18:52:17.816Z"
      },
      {
        "duration": 87,
        "start_time": "2022-08-27T18:52:17.821Z"
      },
      {
        "duration": 121,
        "start_time": "2022-08-27T18:52:17.911Z"
      },
      {
        "duration": 121,
        "start_time": "2022-08-27T18:52:18.110Z"
      },
      {
        "duration": 8,
        "start_time": "2022-08-27T18:52:18.310Z"
      },
      {
        "duration": 281,
        "start_time": "2022-08-27T18:52:18.410Z"
      },
      {
        "duration": 0,
        "start_time": "2022-08-27T18:52:18.693Z"
      },
      {
        "duration": 0,
        "start_time": "2022-08-27T18:52:18.694Z"
      },
      {
        "duration": 0,
        "start_time": "2022-08-27T18:52:18.695Z"
      },
      {
        "duration": 0,
        "start_time": "2022-08-27T18:52:18.708Z"
      },
      {
        "duration": 0,
        "start_time": "2022-08-27T18:52:18.710Z"
      },
      {
        "duration": 0,
        "start_time": "2022-08-27T18:52:18.711Z"
      },
      {
        "duration": 0,
        "start_time": "2022-08-27T18:52:18.712Z"
      },
      {
        "duration": 1,
        "start_time": "2022-08-27T18:52:18.713Z"
      },
      {
        "duration": 88,
        "start_time": "2022-08-27T18:53:16.730Z"
      },
      {
        "duration": 120,
        "start_time": "2022-08-27T18:53:49.191Z"
      },
      {
        "duration": 4,
        "start_time": "2022-08-27T18:56:16.908Z"
      },
      {
        "duration": 112,
        "start_time": "2022-08-27T18:56:20.299Z"
      },
      {
        "duration": 1319,
        "start_time": "2022-08-27T18:56:46.964Z"
      },
      {
        "duration": 3,
        "start_time": "2022-08-27T18:56:48.284Z"
      },
      {
        "duration": 154,
        "start_time": "2022-08-27T18:56:48.289Z"
      },
      {
        "duration": 131,
        "start_time": "2022-08-27T18:56:48.445Z"
      },
      {
        "duration": 133,
        "start_time": "2022-08-27T18:56:48.577Z"
      },
      {
        "duration": 4,
        "start_time": "2022-08-27T18:56:48.711Z"
      },
      {
        "duration": 79,
        "start_time": "2022-08-27T18:56:48.716Z"
      },
      {
        "duration": 82,
        "start_time": "2022-08-27T18:56:48.796Z"
      },
      {
        "duration": 95,
        "start_time": "2022-08-27T18:56:48.880Z"
      },
      {
        "duration": 32,
        "start_time": "2022-08-27T18:56:48.978Z"
      },
      {
        "duration": 6,
        "start_time": "2022-08-27T18:56:49.011Z"
      },
      {
        "duration": 436,
        "start_time": "2022-08-27T18:56:49.019Z"
      },
      {
        "duration": 230,
        "start_time": "2022-08-27T18:56:49.457Z"
      },
      {
        "duration": 306,
        "start_time": "2022-08-27T18:56:49.688Z"
      },
      {
        "duration": 16,
        "start_time": "2022-08-27T18:56:49.996Z"
      },
      {
        "duration": 15,
        "start_time": "2022-08-27T18:56:50.014Z"
      },
      {
        "duration": 4,
        "start_time": "2022-08-27T18:56:50.031Z"
      },
      {
        "duration": 27,
        "start_time": "2022-08-27T18:56:50.036Z"
      },
      {
        "duration": 49,
        "start_time": "2022-08-27T18:56:50.065Z"
      },
      {
        "duration": 21,
        "start_time": "2022-08-27T18:56:50.116Z"
      },
      {
        "duration": 4,
        "start_time": "2022-08-27T18:56:50.139Z"
      },
      {
        "duration": 69,
        "start_time": "2022-08-27T18:56:50.145Z"
      },
      {
        "duration": 28,
        "start_time": "2022-08-27T18:56:50.308Z"
      },
      {
        "duration": 120,
        "start_time": "2022-08-27T18:56:50.410Z"
      },
      {
        "duration": 80,
        "start_time": "2022-08-27T18:56:50.533Z"
      },
      {
        "duration": 370,
        "start_time": "2022-08-27T18:56:50.618Z"
      },
      {
        "duration": 0,
        "start_time": "2022-08-27T18:56:50.990Z"
      },
      {
        "duration": 0,
        "start_time": "2022-08-27T18:56:50.991Z"
      },
      {
        "duration": 0,
        "start_time": "2022-08-27T18:56:50.992Z"
      },
      {
        "duration": 0,
        "start_time": "2022-08-27T18:56:51.009Z"
      },
      {
        "duration": 0,
        "start_time": "2022-08-27T18:56:51.010Z"
      },
      {
        "duration": 0,
        "start_time": "2022-08-27T18:56:51.011Z"
      },
      {
        "duration": 0,
        "start_time": "2022-08-27T18:56:51.012Z"
      },
      {
        "duration": 0,
        "start_time": "2022-08-27T18:56:51.012Z"
      },
      {
        "duration": 178,
        "start_time": "2022-08-27T18:58:13.331Z"
      },
      {
        "duration": 152,
        "start_time": "2022-08-27T18:58:32.858Z"
      },
      {
        "duration": 9,
        "start_time": "2022-08-27T19:00:04.781Z"
      },
      {
        "duration": 155,
        "start_time": "2022-08-27T19:00:39.054Z"
      },
      {
        "duration": 4,
        "start_time": "2022-08-27T19:03:52.986Z"
      },
      {
        "duration": 34,
        "start_time": "2022-08-27T19:03:56.075Z"
      },
      {
        "duration": 28,
        "start_time": "2022-08-27T19:05:05.461Z"
      },
      {
        "duration": 26,
        "start_time": "2022-08-27T19:05:08.727Z"
      },
      {
        "duration": 21,
        "start_time": "2022-08-27T19:05:41.241Z"
      },
      {
        "duration": 19,
        "start_time": "2022-08-27T19:05:43.853Z"
      },
      {
        "duration": 24,
        "start_time": "2022-08-27T19:06:50.531Z"
      },
      {
        "duration": 5,
        "start_time": "2022-08-27T19:08:50.254Z"
      },
      {
        "duration": 136,
        "start_time": "2022-08-27T19:11:18.475Z"
      },
      {
        "duration": 5,
        "start_time": "2022-08-27T19:13:43.852Z"
      },
      {
        "duration": 33,
        "start_time": "2022-08-27T19:13:48.577Z"
      },
      {
        "duration": 122,
        "start_time": "2022-08-27T19:14:03.291Z"
      },
      {
        "duration": 88,
        "start_time": "2022-08-27T19:14:33.122Z"
      },
      {
        "duration": 96,
        "start_time": "2022-08-27T19:14:35.514Z"
      },
      {
        "duration": 1346,
        "start_time": "2022-08-27T19:15:38.431Z"
      },
      {
        "duration": 3,
        "start_time": "2022-08-27T19:15:39.779Z"
      },
      {
        "duration": 158,
        "start_time": "2022-08-27T19:15:39.784Z"
      },
      {
        "duration": 142,
        "start_time": "2022-08-27T19:15:39.944Z"
      },
      {
        "duration": 149,
        "start_time": "2022-08-27T19:15:40.087Z"
      },
      {
        "duration": 4,
        "start_time": "2022-08-27T19:15:40.238Z"
      },
      {
        "duration": 100,
        "start_time": "2022-08-27T19:15:40.244Z"
      },
      {
        "duration": 89,
        "start_time": "2022-08-27T19:15:40.346Z"
      },
      {
        "duration": 100,
        "start_time": "2022-08-27T19:15:40.436Z"
      },
      {
        "duration": 16,
        "start_time": "2022-08-27T19:15:40.539Z"
      },
      {
        "duration": 9,
        "start_time": "2022-08-27T19:15:40.557Z"
      },
      {
        "duration": 463,
        "start_time": "2022-08-27T19:15:40.568Z"
      },
      {
        "duration": 252,
        "start_time": "2022-08-27T19:15:41.033Z"
      },
      {
        "duration": 356,
        "start_time": "2022-08-27T19:15:41.287Z"
      },
      {
        "duration": 7,
        "start_time": "2022-08-27T19:15:41.645Z"
      },
      {
        "duration": 15,
        "start_time": "2022-08-27T19:15:41.654Z"
      },
      {
        "duration": 5,
        "start_time": "2022-08-27T19:15:41.670Z"
      },
      {
        "duration": 135,
        "start_time": "2022-08-27T19:15:41.676Z"
      },
      {
        "duration": 17,
        "start_time": "2022-08-27T19:15:41.813Z"
      },
      {
        "duration": 22,
        "start_time": "2022-08-27T19:15:41.831Z"
      },
      {
        "duration": 4,
        "start_time": "2022-08-27T19:15:41.855Z"
      },
      {
        "duration": 59,
        "start_time": "2022-08-27T19:15:41.860Z"
      },
      {
        "duration": 204,
        "start_time": "2022-08-27T19:15:41.921Z"
      },
      {
        "duration": 198,
        "start_time": "2022-08-27T19:15:42.127Z"
      },
      {
        "duration": 84,
        "start_time": "2022-08-27T19:15:42.327Z"
      },
      {
        "duration": 203,
        "start_time": "2022-08-27T19:15:42.414Z"
      },
      {
        "duration": 291,
        "start_time": "2022-08-27T19:15:42.620Z"
      },
      {
        "duration": 195,
        "start_time": "2022-08-27T19:15:42.915Z"
      },
      {
        "duration": 6,
        "start_time": "2022-08-27T19:15:43.112Z"
      },
      {
        "duration": 9,
        "start_time": "2022-08-27T19:15:43.120Z"
      },
      {
        "duration": 6,
        "start_time": "2022-08-27T19:15:43.131Z"
      },
      {
        "duration": 8,
        "start_time": "2022-08-27T19:15:43.140Z"
      },
      {
        "duration": 23,
        "start_time": "2022-08-27T19:15:43.150Z"
      },
      {
        "duration": 128,
        "start_time": "2022-08-27T19:15:43.175Z"
      },
      {
        "duration": 14,
        "start_time": "2022-08-27T19:16:13.777Z"
      },
      {
        "duration": 5,
        "start_time": "2022-08-27T19:20:50.314Z"
      },
      {
        "duration": 15,
        "start_time": "2022-08-27T19:21:09.955Z"
      },
      {
        "duration": 1323,
        "start_time": "2022-08-27T19:22:47.129Z"
      },
      {
        "duration": 3,
        "start_time": "2022-08-27T19:22:48.455Z"
      },
      {
        "duration": 181,
        "start_time": "2022-08-27T19:22:48.460Z"
      },
      {
        "duration": 140,
        "start_time": "2022-08-27T19:22:48.643Z"
      },
      {
        "duration": 137,
        "start_time": "2022-08-27T19:22:48.785Z"
      },
      {
        "duration": 4,
        "start_time": "2022-08-27T19:22:48.923Z"
      },
      {
        "duration": 94,
        "start_time": "2022-08-27T19:22:48.928Z"
      },
      {
        "duration": 85,
        "start_time": "2022-08-27T19:22:49.024Z"
      },
      {
        "duration": 103,
        "start_time": "2022-08-27T19:22:49.110Z"
      },
      {
        "duration": 17,
        "start_time": "2022-08-27T19:22:49.214Z"
      },
      {
        "duration": 6,
        "start_time": "2022-08-27T19:22:49.233Z"
      },
      {
        "duration": 436,
        "start_time": "2022-08-27T19:22:49.240Z"
      },
      {
        "duration": 245,
        "start_time": "2022-08-27T19:22:49.678Z"
      },
      {
        "duration": 324,
        "start_time": "2022-08-27T19:22:49.927Z"
      },
      {
        "duration": 7,
        "start_time": "2022-08-27T19:22:50.253Z"
      },
      {
        "duration": 16,
        "start_time": "2022-08-27T19:22:50.262Z"
      },
      {
        "duration": 4,
        "start_time": "2022-08-27T19:22:50.279Z"
      },
      {
        "duration": 40,
        "start_time": "2022-08-27T19:22:50.285Z"
      },
      {
        "duration": 19,
        "start_time": "2022-08-27T19:22:50.327Z"
      },
      {
        "duration": 17,
        "start_time": "2022-08-27T19:22:50.348Z"
      },
      {
        "duration": 4,
        "start_time": "2022-08-27T19:22:50.367Z"
      },
      {
        "duration": 137,
        "start_time": "2022-08-27T19:22:50.372Z"
      },
      {
        "duration": 197,
        "start_time": "2022-08-27T19:22:50.512Z"
      },
      {
        "duration": 203,
        "start_time": "2022-08-27T19:22:50.712Z"
      },
      {
        "duration": 92,
        "start_time": "2022-08-27T19:22:50.917Z"
      },
      {
        "duration": 2,
        "start_time": "2022-08-27T19:22:51.011Z"
      },
      {
        "duration": 7,
        "start_time": "2022-08-27T19:22:51.015Z"
      },
      {
        "duration": 8,
        "start_time": "2022-08-27T19:22:51.024Z"
      },
      {
        "duration": 127,
        "start_time": "2022-08-27T19:22:51.033Z"
      },
      {
        "duration": 0,
        "start_time": "2022-08-27T19:22:51.161Z"
      },
      {
        "duration": 1327,
        "start_time": "2022-08-27T19:42:09.387Z"
      },
      {
        "duration": 3,
        "start_time": "2022-08-27T19:42:10.716Z"
      },
      {
        "duration": 176,
        "start_time": "2022-08-27T19:42:10.720Z"
      },
      {
        "duration": 138,
        "start_time": "2022-08-27T19:42:10.898Z"
      },
      {
        "duration": 136,
        "start_time": "2022-08-27T19:42:11.038Z"
      },
      {
        "duration": 3,
        "start_time": "2022-08-27T19:42:11.176Z"
      },
      {
        "duration": 98,
        "start_time": "2022-08-27T19:42:11.181Z"
      },
      {
        "duration": 86,
        "start_time": "2022-08-27T19:42:11.281Z"
      },
      {
        "duration": 102,
        "start_time": "2022-08-27T19:42:11.369Z"
      },
      {
        "duration": 17,
        "start_time": "2022-08-27T19:42:11.474Z"
      },
      {
        "duration": 18,
        "start_time": "2022-08-27T19:42:11.493Z"
      },
      {
        "duration": 440,
        "start_time": "2022-08-27T19:42:11.512Z"
      },
      {
        "duration": 237,
        "start_time": "2022-08-27T19:42:11.954Z"
      },
      {
        "duration": 310,
        "start_time": "2022-08-27T19:42:12.193Z"
      },
      {
        "duration": 7,
        "start_time": "2022-08-27T19:42:12.508Z"
      },
      {
        "duration": 14,
        "start_time": "2022-08-27T19:42:12.517Z"
      },
      {
        "duration": 3,
        "start_time": "2022-08-27T19:42:12.532Z"
      },
      {
        "duration": 25,
        "start_time": "2022-08-27T19:42:12.537Z"
      },
      {
        "duration": 47,
        "start_time": "2022-08-27T19:42:12.564Z"
      },
      {
        "duration": 22,
        "start_time": "2022-08-27T19:42:12.613Z"
      },
      {
        "duration": 4,
        "start_time": "2022-08-27T19:42:12.637Z"
      },
      {
        "duration": 74,
        "start_time": "2022-08-27T19:42:12.643Z"
      },
      {
        "duration": 194,
        "start_time": "2022-08-27T19:42:12.719Z"
      },
      {
        "duration": 197,
        "start_time": "2022-08-27T19:42:12.916Z"
      },
      {
        "duration": 95,
        "start_time": "2022-08-27T19:42:13.116Z"
      },
      {
        "duration": 10,
        "start_time": "2022-08-27T19:42:13.212Z"
      },
      {
        "duration": 11,
        "start_time": "2022-08-27T19:42:13.224Z"
      },
      {
        "duration": 10,
        "start_time": "2022-08-27T19:42:13.239Z"
      },
      {
        "duration": 121,
        "start_time": "2022-08-27T19:42:13.251Z"
      },
      {
        "duration": 0,
        "start_time": "2022-08-27T19:42:13.373Z"
      },
      {
        "duration": 5,
        "start_time": "2022-08-27T19:51:15.666Z"
      },
      {
        "duration": 13,
        "start_time": "2022-08-27T19:51:31.987Z"
      },
      {
        "duration": 5,
        "start_time": "2022-08-27T19:55:46.299Z"
      },
      {
        "duration": 12,
        "start_time": "2022-08-27T19:55:48.465Z"
      },
      {
        "duration": 3,
        "start_time": "2022-08-27T20:00:11.983Z"
      },
      {
        "duration": 6,
        "start_time": "2022-08-27T20:03:59.215Z"
      },
      {
        "duration": 15,
        "start_time": "2022-08-27T20:04:03.509Z"
      },
      {
        "duration": 46,
        "start_time": "2022-08-27T20:07:54.308Z"
      },
      {
        "duration": 44,
        "start_time": "2022-08-27T20:09:23.672Z"
      },
      {
        "duration": 46,
        "start_time": "2022-08-27T20:09:32.780Z"
      },
      {
        "duration": 49,
        "start_time": "2022-08-27T20:09:42.525Z"
      },
      {
        "duration": 5,
        "start_time": "2022-08-27T20:09:49.420Z"
      },
      {
        "duration": 12,
        "start_time": "2022-08-27T20:09:52.452Z"
      },
      {
        "duration": 5,
        "start_time": "2022-08-27T20:10:39.361Z"
      },
      {
        "duration": 10,
        "start_time": "2022-08-27T20:10:41.242Z"
      },
      {
        "duration": 13,
        "start_time": "2022-08-27T20:11:01.670Z"
      },
      {
        "duration": 5,
        "start_time": "2022-08-27T20:14:04.339Z"
      },
      {
        "duration": 15,
        "start_time": "2022-08-27T20:14:05.888Z"
      },
      {
        "duration": 18,
        "start_time": "2022-08-27T20:14:10.247Z"
      },
      {
        "duration": 5,
        "start_time": "2022-08-27T20:14:38.931Z"
      },
      {
        "duration": 12,
        "start_time": "2022-08-27T20:14:45.045Z"
      },
      {
        "duration": 4,
        "start_time": "2022-08-27T20:15:58.096Z"
      },
      {
        "duration": 6,
        "start_time": "2022-08-27T20:16:19.516Z"
      },
      {
        "duration": 14,
        "start_time": "2022-08-27T20:16:21.678Z"
      },
      {
        "duration": 5,
        "start_time": "2022-08-27T20:17:09.080Z"
      },
      {
        "duration": 43,
        "start_time": "2022-08-27T20:17:30.271Z"
      },
      {
        "duration": 115,
        "start_time": "2022-08-27T20:17:37.194Z"
      },
      {
        "duration": 111,
        "start_time": "2022-08-27T20:17:41.000Z"
      },
      {
        "duration": 1407,
        "start_time": "2022-08-27T20:18:00.274Z"
      },
      {
        "duration": 5,
        "start_time": "2022-08-27T20:18:01.683Z"
      },
      {
        "duration": 183,
        "start_time": "2022-08-27T20:18:01.690Z"
      },
      {
        "duration": 147,
        "start_time": "2022-08-27T20:18:01.875Z"
      },
      {
        "duration": 149,
        "start_time": "2022-08-27T20:18:02.024Z"
      },
      {
        "duration": 4,
        "start_time": "2022-08-27T20:18:02.174Z"
      },
      {
        "duration": 98,
        "start_time": "2022-08-27T20:18:02.180Z"
      },
      {
        "duration": 98,
        "start_time": "2022-08-27T20:18:02.280Z"
      },
      {
        "duration": 98,
        "start_time": "2022-08-27T20:18:02.380Z"
      },
      {
        "duration": 34,
        "start_time": "2022-08-27T20:18:02.481Z"
      },
      {
        "duration": 7,
        "start_time": "2022-08-27T20:18:02.516Z"
      },
      {
        "duration": 445,
        "start_time": "2022-08-27T20:18:02.525Z"
      },
      {
        "duration": 244,
        "start_time": "2022-08-27T20:18:02.972Z"
      },
      {
        "duration": 327,
        "start_time": "2022-08-27T20:18:03.219Z"
      },
      {
        "duration": 8,
        "start_time": "2022-08-27T20:18:03.547Z"
      },
      {
        "duration": 13,
        "start_time": "2022-08-27T20:18:03.557Z"
      },
      {
        "duration": 3,
        "start_time": "2022-08-27T20:18:03.572Z"
      },
      {
        "duration": 138,
        "start_time": "2022-08-27T20:18:03.576Z"
      },
      {
        "duration": 16,
        "start_time": "2022-08-27T20:18:03.716Z"
      },
      {
        "duration": 20,
        "start_time": "2022-08-27T20:18:03.734Z"
      },
      {
        "duration": 5,
        "start_time": "2022-08-27T20:18:03.755Z"
      },
      {
        "duration": 149,
        "start_time": "2022-08-27T20:18:03.762Z"
      },
      {
        "duration": 199,
        "start_time": "2022-08-27T20:18:03.912Z"
      },
      {
        "duration": 197,
        "start_time": "2022-08-27T20:18:04.114Z"
      },
      {
        "duration": 97,
        "start_time": "2022-08-27T20:18:04.313Z"
      },
      {
        "duration": 2,
        "start_time": "2022-08-27T20:18:04.412Z"
      },
      {
        "duration": 13,
        "start_time": "2022-08-27T20:18:04.416Z"
      },
      {
        "duration": 7,
        "start_time": "2022-08-27T20:18:04.433Z"
      },
      {
        "duration": 124,
        "start_time": "2022-08-27T20:18:04.442Z"
      },
      {
        "duration": 0,
        "start_time": "2022-08-27T20:18:04.568Z"
      },
      {
        "duration": 5,
        "start_time": "2022-08-27T20:19:27.682Z"
      },
      {
        "duration": 12,
        "start_time": "2022-08-27T20:19:29.448Z"
      },
      {
        "duration": 13,
        "start_time": "2022-08-27T20:20:18.237Z"
      },
      {
        "duration": 8,
        "start_time": "2022-08-27T20:23:29.749Z"
      },
      {
        "duration": 13,
        "start_time": "2022-08-27T20:23:31.231Z"
      },
      {
        "duration": 5,
        "start_time": "2022-08-27T20:24:24.720Z"
      },
      {
        "duration": 15,
        "start_time": "2022-08-27T20:24:25.585Z"
      },
      {
        "duration": 8,
        "start_time": "2022-08-27T20:24:44.383Z"
      },
      {
        "duration": 10,
        "start_time": "2022-08-27T20:24:45.253Z"
      },
      {
        "duration": 8,
        "start_time": "2022-08-27T20:27:15.731Z"
      },
      {
        "duration": 10,
        "start_time": "2022-08-27T20:27:17.572Z"
      },
      {
        "duration": 5,
        "start_time": "2022-08-27T20:32:21.631Z"
      },
      {
        "duration": 5,
        "start_time": "2022-08-27T20:32:52.911Z"
      },
      {
        "duration": 9,
        "start_time": "2022-08-27T20:32:54.247Z"
      },
      {
        "duration": 6,
        "start_time": "2022-08-27T20:33:04.139Z"
      },
      {
        "duration": 15,
        "start_time": "2022-08-27T20:33:05.383Z"
      },
      {
        "duration": 1307,
        "start_time": "2022-08-27T20:33:39.102Z"
      },
      {
        "duration": 3,
        "start_time": "2022-08-27T20:33:40.411Z"
      },
      {
        "duration": 176,
        "start_time": "2022-08-27T20:33:40.415Z"
      },
      {
        "duration": 136,
        "start_time": "2022-08-27T20:33:40.593Z"
      },
      {
        "duration": 139,
        "start_time": "2022-08-27T20:33:40.731Z"
      },
      {
        "duration": 3,
        "start_time": "2022-08-27T20:33:40.872Z"
      },
      {
        "duration": 99,
        "start_time": "2022-08-27T20:33:40.877Z"
      },
      {
        "duration": 86,
        "start_time": "2022-08-27T20:33:40.978Z"
      },
      {
        "duration": 92,
        "start_time": "2022-08-27T20:33:41.066Z"
      },
      {
        "duration": 21,
        "start_time": "2022-08-27T20:33:41.160Z"
      },
      {
        "duration": 6,
        "start_time": "2022-08-27T20:33:41.183Z"
      },
      {
        "duration": 409,
        "start_time": "2022-08-27T20:33:41.209Z"
      },
      {
        "duration": 244,
        "start_time": "2022-08-27T20:33:41.620Z"
      },
      {
        "duration": 308,
        "start_time": "2022-08-27T20:33:41.866Z"
      },
      {
        "duration": 8,
        "start_time": "2022-08-27T20:33:42.176Z"
      },
      {
        "duration": 32,
        "start_time": "2022-08-27T20:33:42.185Z"
      },
      {
        "duration": 4,
        "start_time": "2022-08-27T20:33:42.218Z"
      },
      {
        "duration": 118,
        "start_time": "2022-08-27T20:33:42.224Z"
      },
      {
        "duration": 16,
        "start_time": "2022-08-27T20:33:42.344Z"
      },
      {
        "duration": 19,
        "start_time": "2022-08-27T20:33:42.362Z"
      },
      {
        "duration": 26,
        "start_time": "2022-08-27T20:33:42.383Z"
      },
      {
        "duration": 104,
        "start_time": "2022-08-27T20:33:42.410Z"
      },
      {
        "duration": 194,
        "start_time": "2022-08-27T20:33:42.516Z"
      },
      {
        "duration": 114,
        "start_time": "2022-08-27T20:33:42.717Z"
      },
      {
        "duration": 78,
        "start_time": "2022-08-27T20:33:42.834Z"
      },
      {
        "duration": 102,
        "start_time": "2022-08-27T20:33:42.914Z"
      },
      {
        "duration": 6,
        "start_time": "2022-08-27T20:33:43.018Z"
      },
      {
        "duration": 119,
        "start_time": "2022-08-27T20:33:43.027Z"
      },
      {
        "duration": 0,
        "start_time": "2022-08-27T20:33:43.148Z"
      },
      {
        "duration": 0,
        "start_time": "2022-08-27T20:33:43.149Z"
      },
      {
        "duration": 71,
        "start_time": "2022-08-27T20:35:40.677Z"
      },
      {
        "duration": 1228,
        "start_time": "2022-08-27T20:36:43.357Z"
      },
      {
        "duration": 4,
        "start_time": "2022-08-27T20:36:44.587Z"
      },
      {
        "duration": 165,
        "start_time": "2022-08-27T20:36:44.592Z"
      },
      {
        "duration": 134,
        "start_time": "2022-08-27T20:36:44.759Z"
      },
      {
        "duration": 137,
        "start_time": "2022-08-27T20:36:44.894Z"
      },
      {
        "duration": 4,
        "start_time": "2022-08-27T20:36:45.033Z"
      },
      {
        "duration": 99,
        "start_time": "2022-08-27T20:36:45.038Z"
      },
      {
        "duration": 91,
        "start_time": "2022-08-27T20:36:45.139Z"
      },
      {
        "duration": 96,
        "start_time": "2022-08-27T20:36:45.231Z"
      },
      {
        "duration": 18,
        "start_time": "2022-08-27T20:36:45.330Z"
      },
      {
        "duration": 8,
        "start_time": "2022-08-27T20:36:45.350Z"
      },
      {
        "duration": 442,
        "start_time": "2022-08-27T20:36:45.360Z"
      },
      {
        "duration": 267,
        "start_time": "2022-08-27T20:36:45.804Z"
      },
      {
        "duration": 330,
        "start_time": "2022-08-27T20:36:46.073Z"
      },
      {
        "duration": 9,
        "start_time": "2022-08-27T20:36:46.404Z"
      },
      {
        "duration": 13,
        "start_time": "2022-08-27T20:36:46.414Z"
      },
      {
        "duration": 3,
        "start_time": "2022-08-27T20:36:46.429Z"
      },
      {
        "duration": 122,
        "start_time": "2022-08-27T20:36:46.433Z"
      },
      {
        "duration": 15,
        "start_time": "2022-08-27T20:36:46.557Z"
      },
      {
        "duration": 18,
        "start_time": "2022-08-27T20:36:46.574Z"
      },
      {
        "duration": 5,
        "start_time": "2022-08-27T20:36:46.608Z"
      },
      {
        "duration": 101,
        "start_time": "2022-08-27T20:36:46.614Z"
      },
      {
        "duration": 196,
        "start_time": "2022-08-27T20:36:46.717Z"
      },
      {
        "duration": 199,
        "start_time": "2022-08-27T20:36:46.915Z"
      },
      {
        "duration": 94,
        "start_time": "2022-08-27T20:36:47.117Z"
      },
      {
        "duration": 2,
        "start_time": "2022-08-27T20:36:47.214Z"
      },
      {
        "duration": 8,
        "start_time": "2022-08-27T20:36:47.218Z"
      },
      {
        "duration": 137,
        "start_time": "2022-08-27T20:36:47.229Z"
      },
      {
        "duration": 0,
        "start_time": "2022-08-27T20:36:47.368Z"
      },
      {
        "duration": 1298,
        "start_time": "2022-08-27T20:37:08.195Z"
      },
      {
        "duration": 3,
        "start_time": "2022-08-27T20:37:09.495Z"
      },
      {
        "duration": 174,
        "start_time": "2022-08-27T20:37:09.499Z"
      },
      {
        "duration": 145,
        "start_time": "2022-08-27T20:37:09.675Z"
      },
      {
        "duration": 144,
        "start_time": "2022-08-27T20:37:09.822Z"
      },
      {
        "duration": 3,
        "start_time": "2022-08-27T20:37:09.968Z"
      },
      {
        "duration": 100,
        "start_time": "2022-08-27T20:37:09.973Z"
      },
      {
        "duration": 100,
        "start_time": "2022-08-27T20:37:10.075Z"
      },
      {
        "duration": 105,
        "start_time": "2022-08-27T20:37:10.177Z"
      },
      {
        "duration": 38,
        "start_time": "2022-08-27T20:37:10.285Z"
      },
      {
        "duration": 17,
        "start_time": "2022-08-27T20:37:10.325Z"
      },
      {
        "duration": 429,
        "start_time": "2022-08-27T20:37:10.343Z"
      },
      {
        "duration": 242,
        "start_time": "2022-08-27T20:37:10.773Z"
      },
      {
        "duration": 310,
        "start_time": "2022-08-27T20:37:11.017Z"
      },
      {
        "duration": 8,
        "start_time": "2022-08-27T20:37:11.329Z"
      },
      {
        "duration": 14,
        "start_time": "2022-08-27T20:37:11.338Z"
      },
      {
        "duration": 3,
        "start_time": "2022-08-27T20:37:11.354Z"
      },
      {
        "duration": 125,
        "start_time": "2022-08-27T20:37:11.359Z"
      },
      {
        "duration": 33,
        "start_time": "2022-08-27T20:37:11.485Z"
      },
      {
        "duration": 19,
        "start_time": "2022-08-27T20:37:11.519Z"
      },
      {
        "duration": 8,
        "start_time": "2022-08-27T20:37:11.540Z"
      },
      {
        "duration": 66,
        "start_time": "2022-08-27T20:37:11.550Z"
      },
      {
        "duration": 193,
        "start_time": "2022-08-27T20:37:11.618Z"
      },
      {
        "duration": 204,
        "start_time": "2022-08-27T20:37:11.814Z"
      },
      {
        "duration": 5,
        "start_time": "2022-08-27T20:37:12.110Z"
      },
      {
        "duration": 18,
        "start_time": "2022-08-27T20:37:12.116Z"
      },
      {
        "duration": 16,
        "start_time": "2022-08-27T20:37:12.136Z"
      },
      {
        "duration": 122,
        "start_time": "2022-08-27T20:37:12.155Z"
      },
      {
        "duration": 49,
        "start_time": "2022-08-27T20:38:07.059Z"
      },
      {
        "duration": 1535,
        "start_time": "2022-08-28T01:04:23.344Z"
      },
      {
        "duration": 4,
        "start_time": "2022-08-28T01:04:24.881Z"
      },
      {
        "duration": 544,
        "start_time": "2022-08-28T01:04:24.886Z"
      },
      {
        "duration": 629,
        "start_time": "2022-08-28T01:04:25.433Z"
      },
      {
        "duration": 595,
        "start_time": "2022-08-28T01:04:26.064Z"
      },
      {
        "duration": 3,
        "start_time": "2022-08-28T01:04:26.661Z"
      },
      {
        "duration": 116,
        "start_time": "2022-08-28T01:04:26.666Z"
      },
      {
        "duration": 125,
        "start_time": "2022-08-28T01:04:26.784Z"
      },
      {
        "duration": 111,
        "start_time": "2022-08-28T01:04:26.911Z"
      },
      {
        "duration": 20,
        "start_time": "2022-08-28T01:04:27.024Z"
      },
      {
        "duration": 7,
        "start_time": "2022-08-28T01:04:27.045Z"
      },
      {
        "duration": 460,
        "start_time": "2022-08-28T01:04:27.054Z"
      },
      {
        "duration": 243,
        "start_time": "2022-08-28T01:04:27.516Z"
      },
      {
        "duration": 339,
        "start_time": "2022-08-28T01:04:27.760Z"
      },
      {
        "duration": 8,
        "start_time": "2022-08-28T01:04:28.102Z"
      },
      {
        "duration": 15,
        "start_time": "2022-08-28T01:04:28.112Z"
      },
      {
        "duration": 9,
        "start_time": "2022-08-28T01:04:28.129Z"
      },
      {
        "duration": 28,
        "start_time": "2022-08-28T01:04:28.139Z"
      },
      {
        "duration": 40,
        "start_time": "2022-08-28T01:04:28.170Z"
      },
      {
        "duration": 24,
        "start_time": "2022-08-28T01:04:28.213Z"
      },
      {
        "duration": 6,
        "start_time": "2022-08-28T01:04:28.239Z"
      },
      {
        "duration": 131,
        "start_time": "2022-08-28T01:04:28.247Z"
      },
      {
        "duration": 0,
        "start_time": "2022-08-28T01:04:28.380Z"
      },
      {
        "duration": 0,
        "start_time": "2022-08-28T01:04:28.381Z"
      },
      {
        "duration": 0,
        "start_time": "2022-08-28T01:04:28.383Z"
      },
      {
        "duration": 0,
        "start_time": "2022-08-28T01:04:28.384Z"
      },
      {
        "duration": 0,
        "start_time": "2022-08-28T01:04:28.392Z"
      },
      {
        "duration": 0,
        "start_time": "2022-08-28T01:04:28.393Z"
      },
      {
        "duration": 0,
        "start_time": "2022-08-28T01:04:28.395Z"
      },
      {
        "duration": 57,
        "start_time": "2022-08-28T01:04:36.443Z"
      },
      {
        "duration": 10,
        "start_time": "2022-08-28T01:04:40.584Z"
      },
      {
        "duration": 102,
        "start_time": "2022-08-28T01:05:10.791Z"
      },
      {
        "duration": 91,
        "start_time": "2022-08-28T01:05:13.708Z"
      },
      {
        "duration": 5,
        "start_time": "2022-08-28T01:06:22.504Z"
      },
      {
        "duration": 6,
        "start_time": "2022-08-28T01:07:06.845Z"
      },
      {
        "duration": 16,
        "start_time": "2022-08-28T01:07:08.447Z"
      },
      {
        "duration": 6,
        "start_time": "2022-08-28T01:07:42.426Z"
      },
      {
        "duration": 17,
        "start_time": "2022-08-28T01:07:43.844Z"
      },
      {
        "duration": 6,
        "start_time": "2022-08-28T01:07:53.964Z"
      },
      {
        "duration": 1896,
        "start_time": "2022-08-28T01:07:56.344Z"
      },
      {
        "duration": 4,
        "start_time": "2022-08-28T01:09:27.981Z"
      },
      {
        "duration": 5,
        "start_time": "2022-08-28T01:09:35.017Z"
      },
      {
        "duration": 3,
        "start_time": "2022-08-28T01:09:46.095Z"
      },
      {
        "duration": 4,
        "start_time": "2022-08-28T01:09:48.854Z"
      },
      {
        "duration": 6,
        "start_time": "2022-08-28T01:10:42.615Z"
      },
      {
        "duration": 5,
        "start_time": "2022-08-28T01:10:44.254Z"
      },
      {
        "duration": 1724,
        "start_time": "2022-08-28T01:10:47.054Z"
      },
      {
        "duration": 5,
        "start_time": "2022-08-28T01:11:42.406Z"
      },
      {
        "duration": 1643,
        "start_time": "2022-08-28T01:11:53.574Z"
      },
      {
        "duration": 16,
        "start_time": "2022-08-28T01:11:56.926Z"
      },
      {
        "duration": 7,
        "start_time": "2022-08-28T01:12:02.614Z"
      },
      {
        "duration": 5,
        "start_time": "2022-08-28T01:17:36.814Z"
      },
      {
        "duration": 1394,
        "start_time": "2022-08-28T01:17:38.522Z"
      },
      {
        "duration": 5,
        "start_time": "2022-08-28T01:19:50.822Z"
      },
      {
        "duration": 1364,
        "start_time": "2022-08-28T01:19:53.263Z"
      },
      {
        "duration": 4,
        "start_time": "2022-08-28T01:20:23.915Z"
      },
      {
        "duration": 2,
        "start_time": "2022-08-28T01:21:30.555Z"
      },
      {
        "duration": 11,
        "start_time": "2022-08-28T01:21:57.974Z"
      },
      {
        "duration": 5,
        "start_time": "2022-08-28T01:22:08.815Z"
      },
      {
        "duration": 12,
        "start_time": "2022-08-28T01:22:16.023Z"
      },
      {
        "duration": 15,
        "start_time": "2022-08-28T01:22:35.854Z"
      },
      {
        "duration": 6,
        "start_time": "2022-08-28T01:22:40.383Z"
      },
      {
        "duration": 5,
        "start_time": "2022-08-28T01:22:43.394Z"
      },
      {
        "duration": 3,
        "start_time": "2022-08-28T01:23:07.654Z"
      },
      {
        "duration": 6,
        "start_time": "2022-08-28T01:23:11.254Z"
      },
      {
        "duration": 6,
        "start_time": "2022-08-28T01:23:19.974Z"
      },
      {
        "duration": 3,
        "start_time": "2022-08-28T01:23:35.013Z"
      },
      {
        "duration": 6,
        "start_time": "2022-08-28T01:23:37.782Z"
      },
      {
        "duration": 6,
        "start_time": "2022-08-28T01:23:46.234Z"
      },
      {
        "duration": 9,
        "start_time": "2022-08-28T01:23:49.315Z"
      },
      {
        "duration": 5,
        "start_time": "2022-08-28T01:25:22.456Z"
      },
      {
        "duration": 17,
        "start_time": "2022-08-28T01:25:25.582Z"
      },
      {
        "duration": 5,
        "start_time": "2022-08-28T01:25:56.624Z"
      },
      {
        "duration": 61,
        "start_time": "2022-08-28T01:25:58.835Z"
      },
      {
        "duration": 5,
        "start_time": "2022-08-28T01:26:13.270Z"
      },
      {
        "duration": 5,
        "start_time": "2022-08-28T01:27:07.876Z"
      },
      {
        "duration": 1362,
        "start_time": "2022-08-28T01:27:09.653Z"
      },
      {
        "duration": 1384,
        "start_time": "2022-08-28T01:27:21.102Z"
      },
      {
        "duration": 1563,
        "start_time": "2022-08-28T15:56:05.131Z"
      },
      {
        "duration": 3,
        "start_time": "2022-08-28T15:56:06.696Z"
      },
      {
        "duration": 539,
        "start_time": "2022-08-28T15:56:06.702Z"
      },
      {
        "duration": 261,
        "start_time": "2022-08-28T15:56:07.244Z"
      },
      {
        "duration": 225,
        "start_time": "2022-08-28T15:56:07.507Z"
      },
      {
        "duration": 3,
        "start_time": "2022-08-28T15:56:07.735Z"
      },
      {
        "duration": 84,
        "start_time": "2022-08-28T15:56:07.739Z"
      },
      {
        "duration": 85,
        "start_time": "2022-08-28T15:56:07.825Z"
      },
      {
        "duration": 102,
        "start_time": "2022-08-28T15:56:07.912Z"
      },
      {
        "duration": 16,
        "start_time": "2022-08-28T15:56:08.018Z"
      },
      {
        "duration": 8,
        "start_time": "2022-08-28T15:56:08.036Z"
      },
      {
        "duration": 465,
        "start_time": "2022-08-28T15:56:08.046Z"
      },
      {
        "duration": 262,
        "start_time": "2022-08-28T15:56:08.513Z"
      },
      {
        "duration": 337,
        "start_time": "2022-08-28T15:56:08.778Z"
      },
      {
        "duration": 7,
        "start_time": "2022-08-28T15:56:09.117Z"
      },
      {
        "duration": 16,
        "start_time": "2022-08-28T15:56:09.126Z"
      },
      {
        "duration": 3,
        "start_time": "2022-08-28T15:56:09.144Z"
      },
      {
        "duration": 25,
        "start_time": "2022-08-28T15:56:09.149Z"
      },
      {
        "duration": 45,
        "start_time": "2022-08-28T15:56:09.176Z"
      },
      {
        "duration": 20,
        "start_time": "2022-08-28T15:56:09.223Z"
      },
      {
        "duration": 5,
        "start_time": "2022-08-28T15:56:09.244Z"
      },
      {
        "duration": 168,
        "start_time": "2022-08-28T15:56:09.251Z"
      },
      {
        "duration": 189,
        "start_time": "2022-08-28T15:56:09.421Z"
      },
      {
        "duration": 120,
        "start_time": "2022-08-28T15:56:09.612Z"
      },
      {
        "duration": 11,
        "start_time": "2022-08-28T15:56:09.810Z"
      },
      {
        "duration": 8,
        "start_time": "2022-08-28T15:56:09.908Z"
      },
      {
        "duration": 9,
        "start_time": "2022-08-28T15:56:09.917Z"
      },
      {
        "duration": 122,
        "start_time": "2022-08-28T15:56:09.929Z"
      },
      {
        "duration": 65,
        "start_time": "2022-08-28T15:58:26.356Z"
      },
      {
        "duration": 3,
        "start_time": "2022-08-28T16:08:35.556Z"
      },
      {
        "duration": 1336,
        "start_time": "2022-08-28T16:08:47.273Z"
      },
      {
        "duration": 4,
        "start_time": "2022-08-28T16:08:48.611Z"
      },
      {
        "duration": 178,
        "start_time": "2022-08-28T16:08:48.616Z"
      },
      {
        "duration": 135,
        "start_time": "2022-08-28T16:08:48.797Z"
      },
      {
        "duration": 156,
        "start_time": "2022-08-28T16:08:48.934Z"
      },
      {
        "duration": 4,
        "start_time": "2022-08-28T16:08:49.091Z"
      },
      {
        "duration": 94,
        "start_time": "2022-08-28T16:08:49.096Z"
      },
      {
        "duration": 92,
        "start_time": "2022-08-28T16:08:49.192Z"
      },
      {
        "duration": 98,
        "start_time": "2022-08-28T16:08:49.286Z"
      },
      {
        "duration": 30,
        "start_time": "2022-08-28T16:08:49.386Z"
      },
      {
        "duration": 8,
        "start_time": "2022-08-28T16:08:49.418Z"
      },
      {
        "duration": 464,
        "start_time": "2022-08-28T16:08:49.428Z"
      },
      {
        "duration": 252,
        "start_time": "2022-08-28T16:08:49.894Z"
      },
      {
        "duration": 312,
        "start_time": "2022-08-28T16:08:50.147Z"
      },
      {
        "duration": 9,
        "start_time": "2022-08-28T16:08:50.461Z"
      },
      {
        "duration": 36,
        "start_time": "2022-08-28T16:08:50.472Z"
      },
      {
        "duration": 2,
        "start_time": "2022-08-28T16:08:50.511Z"
      },
      {
        "duration": 14,
        "start_time": "2022-08-28T16:08:50.515Z"
      },
      {
        "duration": 25,
        "start_time": "2022-08-28T16:08:50.531Z"
      },
      {
        "duration": 19,
        "start_time": "2022-08-28T16:08:50.558Z"
      },
      {
        "duration": 34,
        "start_time": "2022-08-28T16:08:50.579Z"
      },
      {
        "duration": 4,
        "start_time": "2022-08-28T16:08:50.615Z"
      },
      {
        "duration": 95,
        "start_time": "2022-08-28T16:08:50.621Z"
      },
      {
        "duration": 192,
        "start_time": "2022-08-28T16:08:50.718Z"
      },
      {
        "duration": 206,
        "start_time": "2022-08-28T16:08:50.912Z"
      },
      {
        "duration": 91,
        "start_time": "2022-08-28T16:08:51.120Z"
      },
      {
        "duration": 8,
        "start_time": "2022-08-28T16:08:51.213Z"
      },
      {
        "duration": 7,
        "start_time": "2022-08-28T16:08:51.225Z"
      },
      {
        "duration": 121,
        "start_time": "2022-08-28T16:08:51.234Z"
      },
      {
        "duration": 9,
        "start_time": "2022-08-28T16:10:22.784Z"
      },
      {
        "duration": 4,
        "start_time": "2022-08-28T16:10:27.469Z"
      },
      {
        "duration": 15,
        "start_time": "2022-08-28T16:10:28.325Z"
      },
      {
        "duration": 3,
        "start_time": "2022-08-28T16:11:35.261Z"
      },
      {
        "duration": 16,
        "start_time": "2022-08-28T16:11:36.101Z"
      },
      {
        "duration": 1269,
        "start_time": "2022-08-28T16:11:48.229Z"
      },
      {
        "duration": 3,
        "start_time": "2022-08-28T16:11:49.500Z"
      },
      {
        "duration": 166,
        "start_time": "2022-08-28T16:11:49.505Z"
      },
      {
        "duration": 147,
        "start_time": "2022-08-28T16:11:49.673Z"
      },
      {
        "duration": 143,
        "start_time": "2022-08-28T16:11:49.822Z"
      },
      {
        "duration": 4,
        "start_time": "2022-08-28T16:11:49.966Z"
      },
      {
        "duration": 100,
        "start_time": "2022-08-28T16:11:49.971Z"
      },
      {
        "duration": 94,
        "start_time": "2022-08-28T16:11:50.072Z"
      },
      {
        "duration": 98,
        "start_time": "2022-08-28T16:11:50.167Z"
      },
      {
        "duration": 3,
        "start_time": "2022-08-28T16:11:50.268Z"
      },
      {
        "duration": 51,
        "start_time": "2022-08-28T16:11:50.272Z"
      },
      {
        "duration": 23,
        "start_time": "2022-08-28T16:11:50.325Z"
      },
      {
        "duration": 26,
        "start_time": "2022-08-28T16:11:50.350Z"
      },
      {
        "duration": 42,
        "start_time": "2022-08-28T16:11:50.378Z"
      },
      {
        "duration": 7,
        "start_time": "2022-08-28T16:11:50.422Z"
      },
      {
        "duration": 475,
        "start_time": "2022-08-28T16:11:50.431Z"
      },
      {
        "duration": 241,
        "start_time": "2022-08-28T16:11:50.909Z"
      },
      {
        "duration": 315,
        "start_time": "2022-08-28T16:11:51.152Z"
      },
      {
        "duration": 8,
        "start_time": "2022-08-28T16:11:51.469Z"
      },
      {
        "duration": 31,
        "start_time": "2022-08-28T16:11:51.479Z"
      },
      {
        "duration": 4,
        "start_time": "2022-08-28T16:11:51.512Z"
      },
      {
        "duration": 117,
        "start_time": "2022-08-28T16:11:51.518Z"
      },
      {
        "duration": 16,
        "start_time": "2022-08-28T16:11:51.636Z"
      },
      {
        "duration": 21,
        "start_time": "2022-08-28T16:11:51.654Z"
      },
      {
        "duration": 5,
        "start_time": "2022-08-28T16:11:51.677Z"
      },
      {
        "duration": 131,
        "start_time": "2022-08-28T16:11:51.684Z"
      },
      {
        "duration": 197,
        "start_time": "2022-08-28T16:11:51.817Z"
      },
      {
        "duration": 200,
        "start_time": "2022-08-28T16:11:52.109Z"
      },
      {
        "duration": 4,
        "start_time": "2022-08-28T16:11:52.311Z"
      },
      {
        "duration": 7,
        "start_time": "2022-08-28T16:11:52.317Z"
      },
      {
        "duration": 8,
        "start_time": "2022-08-28T16:11:52.326Z"
      },
      {
        "duration": 124,
        "start_time": "2022-08-28T16:11:52.337Z"
      },
      {
        "duration": 3,
        "start_time": "2022-08-28T16:14:11.331Z"
      },
      {
        "duration": 22,
        "start_time": "2022-08-28T16:14:49.593Z"
      },
      {
        "duration": 1294,
        "start_time": "2022-08-28T16:15:37.732Z"
      },
      {
        "duration": 4,
        "start_time": "2022-08-28T16:15:39.027Z"
      },
      {
        "duration": 176,
        "start_time": "2022-08-28T16:15:39.035Z"
      },
      {
        "duration": 141,
        "start_time": "2022-08-28T16:15:39.213Z"
      },
      {
        "duration": 141,
        "start_time": "2022-08-28T16:15:39.356Z"
      },
      {
        "duration": 3,
        "start_time": "2022-08-28T16:15:39.499Z"
      },
      {
        "duration": 88,
        "start_time": "2022-08-28T16:15:39.503Z"
      },
      {
        "duration": 84,
        "start_time": "2022-08-28T16:15:39.592Z"
      },
      {
        "duration": 93,
        "start_time": "2022-08-28T16:15:39.679Z"
      },
      {
        "duration": 3,
        "start_time": "2022-08-28T16:15:39.774Z"
      },
      {
        "duration": 53,
        "start_time": "2022-08-28T16:15:39.778Z"
      },
      {
        "duration": 25,
        "start_time": "2022-08-28T16:15:39.833Z"
      },
      {
        "duration": 49,
        "start_time": "2022-08-28T16:15:39.860Z"
      },
      {
        "duration": 3,
        "start_time": "2022-08-28T16:15:39.911Z"
      },
      {
        "duration": 63,
        "start_time": "2022-08-28T16:15:39.915Z"
      },
      {
        "duration": 75,
        "start_time": "2022-08-28T16:15:39.979Z"
      },
      {
        "duration": 83,
        "start_time": "2022-08-28T16:15:40.055Z"
      },
      {
        "duration": 19,
        "start_time": "2022-08-28T16:15:40.140Z"
      },
      {
        "duration": 8,
        "start_time": "2022-08-28T16:15:40.161Z"
      },
      {
        "duration": 476,
        "start_time": "2022-08-28T16:15:40.171Z"
      },
      {
        "duration": 254,
        "start_time": "2022-08-28T16:15:40.649Z"
      },
      {
        "duration": 324,
        "start_time": "2022-08-28T16:15:40.904Z"
      },
      {
        "duration": 7,
        "start_time": "2022-08-28T16:15:41.229Z"
      },
      {
        "duration": 16,
        "start_time": "2022-08-28T16:15:41.238Z"
      },
      {
        "duration": 4,
        "start_time": "2022-08-28T16:15:41.256Z"
      },
      {
        "duration": 127,
        "start_time": "2022-08-28T16:15:41.262Z"
      },
      {
        "duration": 25,
        "start_time": "2022-08-28T16:15:41.393Z"
      },
      {
        "duration": 18,
        "start_time": "2022-08-28T16:15:41.420Z"
      },
      {
        "duration": 5,
        "start_time": "2022-08-28T16:15:41.439Z"
      },
      {
        "duration": 66,
        "start_time": "2022-08-28T16:15:41.446Z"
      },
      {
        "duration": 204,
        "start_time": "2022-08-28T16:15:41.514Z"
      },
      {
        "duration": 102,
        "start_time": "2022-08-28T16:15:41.809Z"
      },
      {
        "duration": 96,
        "start_time": "2022-08-28T16:15:41.915Z"
      },
      {
        "duration": 4,
        "start_time": "2022-08-28T16:15:42.013Z"
      },
      {
        "duration": 8,
        "start_time": "2022-08-28T16:15:42.019Z"
      },
      {
        "duration": 122,
        "start_time": "2022-08-28T16:15:42.028Z"
      },
      {
        "duration": 1420,
        "start_time": "2022-08-28T16:23:38.720Z"
      },
      {
        "duration": 4,
        "start_time": "2022-08-28T16:23:40.142Z"
      },
      {
        "duration": 193,
        "start_time": "2022-08-28T16:23:40.149Z"
      },
      {
        "duration": 148,
        "start_time": "2022-08-28T16:23:40.345Z"
      },
      {
        "duration": 141,
        "start_time": "2022-08-28T16:23:40.495Z"
      },
      {
        "duration": 4,
        "start_time": "2022-08-28T16:23:40.638Z"
      },
      {
        "duration": 101,
        "start_time": "2022-08-28T16:23:40.644Z"
      },
      {
        "duration": 99,
        "start_time": "2022-08-28T16:23:40.748Z"
      },
      {
        "duration": 110,
        "start_time": "2022-08-28T16:23:40.849Z"
      },
      {
        "duration": 3,
        "start_time": "2022-08-28T16:23:40.962Z"
      },
      {
        "duration": 55,
        "start_time": "2022-08-28T16:23:40.966Z"
      },
      {
        "duration": 25,
        "start_time": "2022-08-28T16:23:41.023Z"
      },
      {
        "duration": 28,
        "start_time": "2022-08-28T16:23:41.050Z"
      },
      {
        "duration": 30,
        "start_time": "2022-08-28T16:23:41.079Z"
      },
      {
        "duration": 61,
        "start_time": "2022-08-28T16:23:41.111Z"
      },
      {
        "duration": 83,
        "start_time": "2022-08-28T16:23:41.174Z"
      },
      {
        "duration": 89,
        "start_time": "2022-08-28T16:23:41.259Z"
      },
      {
        "duration": 18,
        "start_time": "2022-08-28T16:23:41.350Z"
      },
      {
        "duration": 9,
        "start_time": "2022-08-28T16:23:41.370Z"
      },
      {
        "duration": 495,
        "start_time": "2022-08-28T16:23:41.381Z"
      },
      {
        "duration": 257,
        "start_time": "2022-08-28T16:23:41.877Z"
      },
      {
        "duration": 344,
        "start_time": "2022-08-28T16:23:42.136Z"
      },
      {
        "duration": 8,
        "start_time": "2022-08-28T16:23:42.483Z"
      },
      {
        "duration": 31,
        "start_time": "2022-08-28T16:23:42.494Z"
      },
      {
        "duration": 3,
        "start_time": "2022-08-28T16:23:42.527Z"
      },
      {
        "duration": 129,
        "start_time": "2022-08-28T16:23:42.532Z"
      },
      {
        "duration": 18,
        "start_time": "2022-08-28T16:23:42.663Z"
      },
      {
        "duration": 43,
        "start_time": "2022-08-28T16:23:42.686Z"
      },
      {
        "duration": 4,
        "start_time": "2022-08-28T16:23:42.733Z"
      },
      {
        "duration": 175,
        "start_time": "2022-08-28T16:23:42.740Z"
      },
      {
        "duration": 197,
        "start_time": "2022-08-28T16:23:42.917Z"
      },
      {
        "duration": 196,
        "start_time": "2022-08-28T16:23:43.115Z"
      },
      {
        "duration": 5,
        "start_time": "2022-08-28T16:23:43.313Z"
      },
      {
        "duration": 6,
        "start_time": "2022-08-28T16:23:43.320Z"
      },
      {
        "duration": 10,
        "start_time": "2022-08-28T16:23:43.328Z"
      },
      {
        "duration": 130,
        "start_time": "2022-08-28T16:23:43.340Z"
      },
      {
        "duration": 49,
        "start_time": "2022-08-28T16:29:40.533Z"
      },
      {
        "duration": 73,
        "start_time": "2022-08-28T16:29:58.762Z"
      },
      {
        "duration": 760,
        "start_time": "2022-08-28T16:33:10.734Z"
      },
      {
        "duration": 1266,
        "start_time": "2022-08-28T16:33:33.516Z"
      },
      {
        "duration": 3,
        "start_time": "2022-08-28T16:33:34.784Z"
      },
      {
        "duration": 168,
        "start_time": "2022-08-28T16:33:34.792Z"
      },
      {
        "duration": 146,
        "start_time": "2022-08-28T16:33:34.963Z"
      },
      {
        "duration": 144,
        "start_time": "2022-08-28T16:33:35.110Z"
      },
      {
        "duration": 3,
        "start_time": "2022-08-28T16:33:35.256Z"
      },
      {
        "duration": 91,
        "start_time": "2022-08-28T16:33:35.261Z"
      },
      {
        "duration": 96,
        "start_time": "2022-08-28T16:33:35.354Z"
      },
      {
        "duration": 90,
        "start_time": "2022-08-28T16:33:35.452Z"
      },
      {
        "duration": 3,
        "start_time": "2022-08-28T16:33:35.543Z"
      },
      {
        "duration": 29,
        "start_time": "2022-08-28T16:33:35.547Z"
      },
      {
        "duration": 40,
        "start_time": "2022-08-28T16:33:35.578Z"
      },
      {
        "duration": 24,
        "start_time": "2022-08-28T16:33:35.619Z"
      },
      {
        "duration": 4,
        "start_time": "2022-08-28T16:33:35.644Z"
      },
      {
        "duration": 95,
        "start_time": "2022-08-28T16:33:35.649Z"
      },
      {
        "duration": 75,
        "start_time": "2022-08-28T16:33:35.746Z"
      },
      {
        "duration": 61,
        "start_time": "2022-08-28T16:33:35.822Z"
      },
      {
        "duration": 187,
        "start_time": "2022-08-28T16:33:35.885Z"
      },
      {
        "duration": 151,
        "start_time": "2022-08-28T16:33:36.074Z"
      },
      {
        "duration": 17,
        "start_time": "2022-08-28T16:33:36.227Z"
      },
      {
        "duration": 17,
        "start_time": "2022-08-28T16:33:36.246Z"
      },
      {
        "duration": 6,
        "start_time": "2022-08-28T16:33:36.265Z"
      },
      {
        "duration": 450,
        "start_time": "2022-08-28T16:33:36.272Z"
      },
      {
        "duration": 239,
        "start_time": "2022-08-28T16:33:36.723Z"
      },
      {
        "duration": 345,
        "start_time": "2022-08-28T16:33:36.964Z"
      },
      {
        "duration": 9,
        "start_time": "2022-08-28T16:33:37.311Z"
      },
      {
        "duration": 17,
        "start_time": "2022-08-28T16:33:37.325Z"
      },
      {
        "duration": 4,
        "start_time": "2022-08-28T16:33:37.345Z"
      },
      {
        "duration": 32,
        "start_time": "2022-08-28T16:33:37.351Z"
      },
      {
        "duration": 43,
        "start_time": "2022-08-28T16:33:37.385Z"
      },
      {
        "duration": 115,
        "start_time": "2022-08-28T16:33:37.430Z"
      },
      {
        "duration": 4,
        "start_time": "2022-08-28T16:33:37.546Z"
      },
      {
        "duration": 61,
        "start_time": "2022-08-28T16:33:37.552Z"
      },
      {
        "duration": 197,
        "start_time": "2022-08-28T16:33:37.615Z"
      },
      {
        "duration": 197,
        "start_time": "2022-08-28T16:33:37.815Z"
      },
      {
        "duration": 95,
        "start_time": "2022-08-28T16:33:38.015Z"
      },
      {
        "duration": 8,
        "start_time": "2022-08-28T16:33:38.112Z"
      },
      {
        "duration": 7,
        "start_time": "2022-08-28T16:33:38.122Z"
      },
      {
        "duration": 121,
        "start_time": "2022-08-28T16:33:38.131Z"
      },
      {
        "duration": 765,
        "start_time": "2022-08-28T16:35:06.390Z"
      },
      {
        "duration": 1325,
        "start_time": "2022-08-28T16:35:18.011Z"
      },
      {
        "duration": 3,
        "start_time": "2022-08-28T16:35:19.338Z"
      },
      {
        "duration": 170,
        "start_time": "2022-08-28T16:35:19.343Z"
      },
      {
        "duration": 139,
        "start_time": "2022-08-28T16:35:19.515Z"
      },
      {
        "duration": 145,
        "start_time": "2022-08-28T16:35:19.656Z"
      },
      {
        "duration": 8,
        "start_time": "2022-08-28T16:35:19.802Z"
      },
      {
        "duration": 79,
        "start_time": "2022-08-28T16:35:19.811Z"
      },
      {
        "duration": 81,
        "start_time": "2022-08-28T16:35:19.892Z"
      },
      {
        "duration": 94,
        "start_time": "2022-08-28T16:35:19.975Z"
      },
      {
        "duration": 16,
        "start_time": "2022-08-28T16:35:20.071Z"
      },
      {
        "duration": 40,
        "start_time": "2022-08-28T16:35:20.089Z"
      },
      {
        "duration": 23,
        "start_time": "2022-08-28T16:35:20.131Z"
      },
      {
        "duration": 24,
        "start_time": "2022-08-28T16:35:20.156Z"
      },
      {
        "duration": 29,
        "start_time": "2022-08-28T16:35:20.181Z"
      },
      {
        "duration": 64,
        "start_time": "2022-08-28T16:35:20.211Z"
      },
      {
        "duration": 70,
        "start_time": "2022-08-28T16:35:20.277Z"
      },
      {
        "duration": 80,
        "start_time": "2022-08-28T16:35:20.349Z"
      },
      {
        "duration": 157,
        "start_time": "2022-08-28T16:35:20.430Z"
      },
      {
        "duration": 55,
        "start_time": "2022-08-28T16:35:20.588Z"
      },
      {
        "duration": 18,
        "start_time": "2022-08-28T16:35:20.645Z"
      },
      {
        "duration": 12,
        "start_time": "2022-08-28T16:35:20.665Z"
      },
      {
        "duration": 431,
        "start_time": "2022-08-28T16:35:20.678Z"
      },
      {
        "duration": 237,
        "start_time": "2022-08-28T16:35:21.111Z"
      },
      {
        "duration": 307,
        "start_time": "2022-08-28T16:35:21.350Z"
      },
      {
        "duration": 7,
        "start_time": "2022-08-28T16:35:21.660Z"
      },
      {
        "duration": 14,
        "start_time": "2022-08-28T16:35:21.669Z"
      },
      {
        "duration": 24,
        "start_time": "2022-08-28T16:35:21.685Z"
      },
      {
        "duration": 30,
        "start_time": "2022-08-28T16:35:21.712Z"
      },
      {
        "duration": 22,
        "start_time": "2022-08-28T16:35:21.743Z"
      },
      {
        "duration": 22,
        "start_time": "2022-08-28T16:35:21.766Z"
      },
      {
        "duration": 119,
        "start_time": "2022-08-28T16:35:21.790Z"
      },
      {
        "duration": 98,
        "start_time": "2022-08-28T16:35:21.912Z"
      },
      {
        "duration": 198,
        "start_time": "2022-08-28T16:35:22.013Z"
      },
      {
        "duration": 198,
        "start_time": "2022-08-28T16:35:22.213Z"
      },
      {
        "duration": 95,
        "start_time": "2022-08-28T16:35:22.414Z"
      },
      {
        "duration": 6,
        "start_time": "2022-08-28T16:35:22.511Z"
      },
      {
        "duration": 7,
        "start_time": "2022-08-28T16:35:22.519Z"
      },
      {
        "duration": 121,
        "start_time": "2022-08-28T16:35:22.527Z"
      },
      {
        "duration": 1499,
        "start_time": "2022-08-28T16:40:56.887Z"
      },
      {
        "duration": 3,
        "start_time": "2022-08-28T16:40:58.388Z"
      },
      {
        "duration": 171,
        "start_time": "2022-08-28T16:40:58.392Z"
      },
      {
        "duration": 138,
        "start_time": "2022-08-28T16:40:58.565Z"
      },
      {
        "duration": 147,
        "start_time": "2022-08-28T16:40:58.705Z"
      },
      {
        "duration": 4,
        "start_time": "2022-08-28T16:40:58.853Z"
      },
      {
        "duration": 91,
        "start_time": "2022-08-28T16:40:58.859Z"
      },
      {
        "duration": 86,
        "start_time": "2022-08-28T16:40:58.952Z"
      },
      {
        "duration": 93,
        "start_time": "2022-08-28T16:40:59.039Z"
      },
      {
        "duration": 3,
        "start_time": "2022-08-28T16:40:59.134Z"
      },
      {
        "duration": 29,
        "start_time": "2022-08-28T16:40:59.138Z"
      },
      {
        "duration": 51,
        "start_time": "2022-08-28T16:40:59.169Z"
      },
      {
        "duration": 28,
        "start_time": "2022-08-28T16:40:59.222Z"
      },
      {
        "duration": 3,
        "start_time": "2022-08-28T16:40:59.252Z"
      },
      {
        "duration": 85,
        "start_time": "2022-08-28T16:40:59.257Z"
      },
      {
        "duration": 79,
        "start_time": "2022-08-28T16:40:59.344Z"
      },
      {
        "duration": 60,
        "start_time": "2022-08-28T16:40:59.425Z"
      },
      {
        "duration": 157,
        "start_time": "2022-08-28T16:40:59.509Z"
      },
      {
        "duration": 60,
        "start_time": "2022-08-28T16:40:59.667Z"
      },
      {
        "duration": 19,
        "start_time": "2022-08-28T16:40:59.729Z"
      },
      {
        "duration": 9,
        "start_time": "2022-08-28T16:40:59.750Z"
      },
      {
        "duration": 442,
        "start_time": "2022-08-28T16:40:59.760Z"
      },
      {
        "duration": 244,
        "start_time": "2022-08-28T16:41:00.204Z"
      },
      {
        "duration": 428,
        "start_time": "2022-08-28T16:41:00.450Z"
      },
      {
        "duration": 8,
        "start_time": "2022-08-28T16:41:00.881Z"
      },
      {
        "duration": 51,
        "start_time": "2022-08-28T16:41:00.891Z"
      },
      {
        "duration": 35,
        "start_time": "2022-08-28T16:41:00.944Z"
      },
      {
        "duration": 82,
        "start_time": "2022-08-28T16:41:00.983Z"
      },
      {
        "duration": 60,
        "start_time": "2022-08-28T16:41:01.067Z"
      },
      {
        "duration": 44,
        "start_time": "2022-08-28T16:41:01.129Z"
      },
      {
        "duration": 60,
        "start_time": "2022-08-28T16:41:01.175Z"
      },
      {
        "duration": 178,
        "start_time": "2022-08-28T16:41:01.236Z"
      },
      {
        "duration": 194,
        "start_time": "2022-08-28T16:41:01.416Z"
      },
      {
        "duration": 198,
        "start_time": "2022-08-28T16:41:01.613Z"
      },
      {
        "duration": 103,
        "start_time": "2022-08-28T16:41:01.814Z"
      },
      {
        "duration": 46,
        "start_time": "2022-08-28T16:41:01.919Z"
      },
      {
        "duration": 73,
        "start_time": "2022-08-28T16:41:01.967Z"
      },
      {
        "duration": 172,
        "start_time": "2022-08-28T16:41:02.042Z"
      },
      {
        "duration": 3,
        "start_time": "2022-08-28T17:00:18.414Z"
      },
      {
        "duration": 1417,
        "start_time": "2022-08-28T17:01:00.977Z"
      },
      {
        "duration": 3,
        "start_time": "2022-08-28T17:01:02.396Z"
      },
      {
        "duration": 172,
        "start_time": "2022-08-28T17:01:02.401Z"
      },
      {
        "duration": 141,
        "start_time": "2022-08-28T17:01:02.575Z"
      },
      {
        "duration": 144,
        "start_time": "2022-08-28T17:01:02.718Z"
      },
      {
        "duration": 4,
        "start_time": "2022-08-28T17:01:02.864Z"
      },
      {
        "duration": 96,
        "start_time": "2022-08-28T17:01:02.870Z"
      },
      {
        "duration": 91,
        "start_time": "2022-08-28T17:01:02.967Z"
      },
      {
        "duration": 101,
        "start_time": "2022-08-28T17:01:03.060Z"
      },
      {
        "duration": 3,
        "start_time": "2022-08-28T17:01:03.165Z"
      },
      {
        "duration": 49,
        "start_time": "2022-08-28T17:01:03.169Z"
      },
      {
        "duration": 27,
        "start_time": "2022-08-28T17:01:03.219Z"
      },
      {
        "duration": 27,
        "start_time": "2022-08-28T17:01:03.248Z"
      },
      {
        "duration": 3,
        "start_time": "2022-08-28T17:01:03.277Z"
      },
      {
        "duration": 60,
        "start_time": "2022-08-28T17:01:03.310Z"
      },
      {
        "duration": 80,
        "start_time": "2022-08-28T17:01:03.372Z"
      },
      {
        "duration": 86,
        "start_time": "2022-08-28T17:01:03.453Z"
      },
      {
        "duration": 175,
        "start_time": "2022-08-28T17:01:03.541Z"
      },
      {
        "duration": 47,
        "start_time": "2022-08-28T17:01:03.718Z"
      },
      {
        "duration": 4,
        "start_time": "2022-08-28T17:01:03.767Z"
      },
      {
        "duration": 372,
        "start_time": "2022-08-28T17:01:03.773Z"
      },
      {
        "duration": 294,
        "start_time": "2022-08-28T17:01:04.147Z"
      },
      {
        "duration": 295,
        "start_time": "2022-08-28T17:01:04.443Z"
      },
      {
        "duration": 19,
        "start_time": "2022-08-28T17:01:04.740Z"
      },
      {
        "duration": 6,
        "start_time": "2022-08-28T17:01:04.761Z"
      },
      {
        "duration": 528,
        "start_time": "2022-08-28T17:01:04.768Z"
      },
      {
        "duration": 261,
        "start_time": "2022-08-28T17:01:05.298Z"
      },
      {
        "duration": 328,
        "start_time": "2022-08-28T17:01:05.562Z"
      },
      {
        "duration": 7,
        "start_time": "2022-08-28T17:01:05.892Z"
      },
      {
        "duration": 27,
        "start_time": "2022-08-28T17:01:05.901Z"
      },
      {
        "duration": 3,
        "start_time": "2022-08-28T17:01:05.930Z"
      },
      {
        "duration": 28,
        "start_time": "2022-08-28T17:01:05.935Z"
      },
      {
        "duration": 22,
        "start_time": "2022-08-28T17:01:05.966Z"
      },
      {
        "duration": 40,
        "start_time": "2022-08-28T17:01:05.990Z"
      },
      {
        "duration": 57,
        "start_time": "2022-08-28T17:01:06.032Z"
      },
      {
        "duration": 121,
        "start_time": "2022-08-28T17:01:06.091Z"
      },
      {
        "duration": 200,
        "start_time": "2022-08-28T17:01:06.217Z"
      },
      {
        "duration": 195,
        "start_time": "2022-08-28T17:01:06.419Z"
      },
      {
        "duration": 95,
        "start_time": "2022-08-28T17:01:06.617Z"
      },
      {
        "duration": 14,
        "start_time": "2022-08-28T17:01:06.713Z"
      },
      {
        "duration": 7,
        "start_time": "2022-08-28T17:01:06.729Z"
      },
      {
        "duration": 116,
        "start_time": "2022-08-28T17:01:06.738Z"
      },
      {
        "duration": 3,
        "start_time": "2022-08-28T17:01:40.252Z"
      },
      {
        "duration": 279,
        "start_time": "2022-08-28T17:01:41.045Z"
      },
      {
        "duration": 305,
        "start_time": "2022-08-28T17:02:09.497Z"
      },
      {
        "duration": 317,
        "start_time": "2022-08-28T17:02:13.065Z"
      },
      {
        "duration": 3,
        "start_time": "2022-08-28T17:02:21.273Z"
      },
      {
        "duration": 329,
        "start_time": "2022-08-28T17:02:22.207Z"
      },
      {
        "duration": 313,
        "start_time": "2022-08-28T17:03:13.796Z"
      },
      {
        "duration": 311,
        "start_time": "2022-08-28T17:03:16.908Z"
      },
      {
        "duration": 1452,
        "start_time": "2022-08-28T17:04:52.322Z"
      },
      {
        "duration": 3,
        "start_time": "2022-08-28T17:04:53.776Z"
      },
      {
        "duration": 167,
        "start_time": "2022-08-28T17:04:53.781Z"
      },
      {
        "duration": 134,
        "start_time": "2022-08-28T17:04:53.951Z"
      },
      {
        "duration": 139,
        "start_time": "2022-08-28T17:04:54.088Z"
      },
      {
        "duration": 4,
        "start_time": "2022-08-28T17:04:54.229Z"
      },
      {
        "duration": 88,
        "start_time": "2022-08-28T17:04:54.234Z"
      },
      {
        "duration": 67,
        "start_time": "2022-08-28T17:04:54.323Z"
      },
      {
        "duration": 98,
        "start_time": "2022-08-28T17:04:54.392Z"
      },
      {
        "duration": 17,
        "start_time": "2022-08-28T17:04:54.492Z"
      },
      {
        "duration": 30,
        "start_time": "2022-08-28T17:04:54.511Z"
      },
      {
        "duration": 24,
        "start_time": "2022-08-28T17:04:54.542Z"
      },
      {
        "duration": 46,
        "start_time": "2022-08-28T17:04:54.568Z"
      },
      {
        "duration": 3,
        "start_time": "2022-08-28T17:04:54.615Z"
      },
      {
        "duration": 65,
        "start_time": "2022-08-28T17:04:54.620Z"
      },
      {
        "duration": 75,
        "start_time": "2022-08-28T17:04:54.687Z"
      },
      {
        "duration": 95,
        "start_time": "2022-08-28T17:04:54.764Z"
      },
      {
        "duration": 178,
        "start_time": "2022-08-28T17:04:54.861Z"
      },
      {
        "duration": 49,
        "start_time": "2022-08-28T17:04:55.041Z"
      },
      {
        "duration": 19,
        "start_time": "2022-08-28T17:04:55.091Z"
      },
      {
        "duration": 313,
        "start_time": "2022-08-28T17:04:55.112Z"
      },
      {
        "duration": 300,
        "start_time": "2022-08-28T17:04:55.427Z"
      },
      {
        "duration": 324,
        "start_time": "2022-08-28T17:04:55.729Z"
      },
      {
        "duration": 20,
        "start_time": "2022-08-28T17:04:56.055Z"
      },
      {
        "duration": 7,
        "start_time": "2022-08-28T17:04:56.077Z"
      },
      {
        "duration": 514,
        "start_time": "2022-08-28T17:04:56.086Z"
      },
      {
        "duration": 245,
        "start_time": "2022-08-28T17:04:56.601Z"
      },
      {
        "duration": 308,
        "start_time": "2022-08-28T17:04:56.850Z"
      },
      {
        "duration": 8,
        "start_time": "2022-08-28T17:04:57.160Z"
      },
      {
        "duration": 28,
        "start_time": "2022-08-28T17:04:57.169Z"
      },
      {
        "duration": 13,
        "start_time": "2022-08-28T17:04:57.199Z"
      },
      {
        "duration": 28,
        "start_time": "2022-08-28T17:04:57.214Z"
      },
      {
        "duration": 24,
        "start_time": "2022-08-28T17:04:57.244Z"
      },
      {
        "duration": 44,
        "start_time": "2022-08-28T17:04:57.270Z"
      },
      {
        "duration": 5,
        "start_time": "2022-08-28T17:04:57.317Z"
      },
      {
        "duration": 87,
        "start_time": "2022-08-28T17:04:57.324Z"
      },
      {
        "duration": 197,
        "start_time": "2022-08-28T17:04:57.414Z"
      },
      {
        "duration": 197,
        "start_time": "2022-08-28T17:04:57.615Z"
      },
      {
        "duration": 95,
        "start_time": "2022-08-28T17:04:57.814Z"
      },
      {
        "duration": 4,
        "start_time": "2022-08-28T17:04:57.911Z"
      },
      {
        "duration": 6,
        "start_time": "2022-08-28T17:04:57.917Z"
      },
      {
        "duration": 129,
        "start_time": "2022-08-28T17:04:57.925Z"
      },
      {
        "duration": 5,
        "start_time": "2022-08-28T17:35:27.465Z"
      },
      {
        "duration": 47,
        "start_time": "2022-08-28T17:37:00.592Z"
      },
      {
        "duration": 1432,
        "start_time": "2022-08-28T17:40:54.990Z"
      },
      {
        "duration": 7,
        "start_time": "2022-08-28T17:40:56.424Z"
      },
      {
        "duration": 176,
        "start_time": "2022-08-28T17:40:56.433Z"
      },
      {
        "duration": 143,
        "start_time": "2022-08-28T17:40:56.611Z"
      },
      {
        "duration": 138,
        "start_time": "2022-08-28T17:40:56.756Z"
      },
      {
        "duration": 3,
        "start_time": "2022-08-28T17:40:56.895Z"
      },
      {
        "duration": 88,
        "start_time": "2022-08-28T17:40:56.900Z"
      },
      {
        "duration": 86,
        "start_time": "2022-08-28T17:40:56.990Z"
      },
      {
        "duration": 101,
        "start_time": "2022-08-28T17:40:57.077Z"
      },
      {
        "duration": 3,
        "start_time": "2022-08-28T17:40:57.180Z"
      },
      {
        "duration": 58,
        "start_time": "2022-08-28T17:40:57.185Z"
      },
      {
        "duration": 39,
        "start_time": "2022-08-28T17:40:57.245Z"
      },
      {
        "duration": 42,
        "start_time": "2022-08-28T17:40:57.286Z"
      },
      {
        "duration": 8,
        "start_time": "2022-08-28T17:40:57.330Z"
      },
      {
        "duration": 100,
        "start_time": "2022-08-28T17:40:57.341Z"
      },
      {
        "duration": 96,
        "start_time": "2022-08-28T17:40:57.443Z"
      },
      {
        "duration": 84,
        "start_time": "2022-08-28T17:40:57.541Z"
      },
      {
        "duration": 170,
        "start_time": "2022-08-28T17:40:57.627Z"
      },
      {
        "duration": 61,
        "start_time": "2022-08-28T17:40:57.799Z"
      },
      {
        "duration": 3,
        "start_time": "2022-08-28T17:40:57.862Z"
      },
      {
        "duration": 390,
        "start_time": "2022-08-28T17:40:57.867Z"
      },
      {
        "duration": 334,
        "start_time": "2022-08-28T17:40:58.259Z"
      },
      {
        "duration": 340,
        "start_time": "2022-08-28T17:40:58.595Z"
      },
      {
        "duration": 19,
        "start_time": "2022-08-28T17:40:58.937Z"
      },
      {
        "duration": 6,
        "start_time": "2022-08-28T17:40:58.958Z"
      },
      {
        "duration": 551,
        "start_time": "2022-08-28T17:40:58.966Z"
      },
      {
        "duration": 254,
        "start_time": "2022-08-28T17:40:59.519Z"
      },
      {
        "duration": 347,
        "start_time": "2022-08-28T17:40:59.776Z"
      },
      {
        "duration": 10,
        "start_time": "2022-08-28T17:41:00.125Z"
      },
      {
        "duration": 18,
        "start_time": "2022-08-28T17:41:00.137Z"
      },
      {
        "duration": 5,
        "start_time": "2022-08-28T17:41:00.157Z"
      },
      {
        "duration": 10,
        "start_time": "2022-08-28T17:41:00.164Z"
      },
      {
        "duration": 39,
        "start_time": "2022-08-28T17:41:00.175Z"
      },
      {
        "duration": 20,
        "start_time": "2022-08-28T17:41:00.216Z"
      },
      {
        "duration": 24,
        "start_time": "2022-08-28T17:41:00.238Z"
      },
      {
        "duration": 5,
        "start_time": "2022-08-28T17:41:00.264Z"
      },
      {
        "duration": 148,
        "start_time": "2022-08-28T17:41:00.270Z"
      },
      {
        "duration": 188,
        "start_time": "2022-08-28T17:41:00.426Z"
      },
      {
        "duration": 205,
        "start_time": "2022-08-28T17:41:00.619Z"
      },
      {
        "duration": 100,
        "start_time": "2022-08-28T17:41:00.829Z"
      },
      {
        "duration": 18,
        "start_time": "2022-08-28T17:41:00.932Z"
      },
      {
        "duration": 18,
        "start_time": "2022-08-28T17:41:00.952Z"
      },
      {
        "duration": 175,
        "start_time": "2022-08-28T17:41:00.972Z"
      },
      {
        "duration": 5,
        "start_time": "2022-08-28T17:45:53.887Z"
      },
      {
        "duration": 1347,
        "start_time": "2022-08-28T17:45:58.278Z"
      },
      {
        "duration": 1366,
        "start_time": "2022-08-28T17:48:13.048Z"
      },
      {
        "duration": 1392,
        "start_time": "2022-08-28T17:48:16.930Z"
      },
      {
        "duration": 1393,
        "start_time": "2022-08-28T17:54:36.527Z"
      },
      {
        "duration": 3,
        "start_time": "2022-08-28T17:54:37.922Z"
      },
      {
        "duration": 164,
        "start_time": "2022-08-28T17:54:37.926Z"
      },
      {
        "duration": 133,
        "start_time": "2022-08-28T17:54:38.092Z"
      },
      {
        "duration": 137,
        "start_time": "2022-08-28T17:54:38.227Z"
      },
      {
        "duration": 3,
        "start_time": "2022-08-28T17:54:38.366Z"
      },
      {
        "duration": 104,
        "start_time": "2022-08-28T17:54:38.371Z"
      },
      {
        "duration": 85,
        "start_time": "2022-08-28T17:54:38.477Z"
      },
      {
        "duration": 95,
        "start_time": "2022-08-28T17:54:38.564Z"
      },
      {
        "duration": 3,
        "start_time": "2022-08-28T17:54:38.661Z"
      },
      {
        "duration": 49,
        "start_time": "2022-08-28T17:54:38.666Z"
      },
      {
        "duration": 24,
        "start_time": "2022-08-28T17:54:38.717Z"
      },
      {
        "duration": 25,
        "start_time": "2022-08-28T17:54:38.742Z"
      },
      {
        "duration": 4,
        "start_time": "2022-08-28T17:54:38.769Z"
      },
      {
        "duration": 91,
        "start_time": "2022-08-28T17:54:38.774Z"
      },
      {
        "duration": 67,
        "start_time": "2022-08-28T17:54:38.867Z"
      },
      {
        "duration": 76,
        "start_time": "2022-08-28T17:54:38.936Z"
      },
      {
        "duration": 149,
        "start_time": "2022-08-28T17:54:39.014Z"
      },
      {
        "duration": 57,
        "start_time": "2022-08-28T17:54:39.165Z"
      },
      {
        "duration": 3,
        "start_time": "2022-08-28T17:54:39.224Z"
      },
      {
        "duration": 309,
        "start_time": "2022-08-28T17:54:39.228Z"
      },
      {
        "duration": 275,
        "start_time": "2022-08-28T17:54:39.538Z"
      },
      {
        "duration": 309,
        "start_time": "2022-08-28T17:54:39.814Z"
      },
      {
        "duration": 19,
        "start_time": "2022-08-28T17:54:40.125Z"
      },
      {
        "duration": 10,
        "start_time": "2022-08-28T17:54:40.145Z"
      },
      {
        "duration": 504,
        "start_time": "2022-08-28T17:54:40.156Z"
      },
      {
        "duration": 231,
        "start_time": "2022-08-28T17:54:40.661Z"
      },
      {
        "duration": 310,
        "start_time": "2022-08-28T17:54:40.896Z"
      },
      {
        "duration": 7,
        "start_time": "2022-08-28T17:54:41.208Z"
      },
      {
        "duration": 13,
        "start_time": "2022-08-28T17:54:41.217Z"
      },
      {
        "duration": 4,
        "start_time": "2022-08-28T17:54:41.231Z"
      },
      {
        "duration": 6,
        "start_time": "2022-08-28T17:54:41.237Z"
      },
      {
        "duration": 19,
        "start_time": "2022-08-28T17:54:41.244Z"
      },
      {
        "duration": 44,
        "start_time": "2022-08-28T17:54:41.265Z"
      },
      {
        "duration": 19,
        "start_time": "2022-08-28T17:54:41.311Z"
      },
      {
        "duration": 5,
        "start_time": "2022-08-28T17:54:41.331Z"
      },
      {
        "duration": 77,
        "start_time": "2022-08-28T17:54:41.337Z"
      },
      {
        "duration": 201,
        "start_time": "2022-08-28T17:54:41.416Z"
      },
      {
        "duration": 195,
        "start_time": "2022-08-28T17:54:41.619Z"
      },
      {
        "duration": 94,
        "start_time": "2022-08-28T17:54:41.817Z"
      },
      {
        "duration": 3,
        "start_time": "2022-08-28T17:54:41.912Z"
      },
      {
        "duration": 7,
        "start_time": "2022-08-28T17:54:41.916Z"
      },
      {
        "duration": 1337,
        "start_time": "2022-08-28T17:54:41.925Z"
      },
      {
        "duration": 1314,
        "start_time": "2022-08-28T17:54:43.264Z"
      },
      {
        "duration": 1311,
        "start_time": "2022-08-28T17:54:44.580Z"
      },
      {
        "duration": 1385,
        "start_time": "2022-08-28T17:56:16.425Z"
      },
      {
        "duration": 3,
        "start_time": "2022-08-28T17:56:17.812Z"
      },
      {
        "duration": 168,
        "start_time": "2022-08-28T17:56:17.817Z"
      },
      {
        "duration": 139,
        "start_time": "2022-08-28T17:56:17.988Z"
      },
      {
        "duration": 139,
        "start_time": "2022-08-28T17:56:18.128Z"
      },
      {
        "duration": 3,
        "start_time": "2022-08-28T17:56:18.269Z"
      },
      {
        "duration": 85,
        "start_time": "2022-08-28T17:56:18.274Z"
      },
      {
        "duration": 87,
        "start_time": "2022-08-28T17:56:18.361Z"
      },
      {
        "duration": 91,
        "start_time": "2022-08-28T17:56:18.450Z"
      },
      {
        "duration": 3,
        "start_time": "2022-08-28T17:56:18.543Z"
      },
      {
        "duration": 33,
        "start_time": "2022-08-28T17:56:18.547Z"
      },
      {
        "duration": 42,
        "start_time": "2022-08-28T17:56:18.581Z"
      },
      {
        "duration": 27,
        "start_time": "2022-08-28T17:56:18.625Z"
      },
      {
        "duration": 4,
        "start_time": "2022-08-28T17:56:18.654Z"
      },
      {
        "duration": 87,
        "start_time": "2022-08-28T17:56:18.659Z"
      },
      {
        "duration": 74,
        "start_time": "2022-08-28T17:56:18.747Z"
      },
      {
        "duration": 55,
        "start_time": "2022-08-28T17:56:18.823Z"
      },
      {
        "duration": 169,
        "start_time": "2022-08-28T17:56:18.880Z"
      },
      {
        "duration": 63,
        "start_time": "2022-08-28T17:56:19.051Z"
      },
      {
        "duration": 3,
        "start_time": "2022-08-28T17:56:19.117Z"
      },
      {
        "duration": 307,
        "start_time": "2022-08-28T17:56:19.122Z"
      },
      {
        "duration": 284,
        "start_time": "2022-08-28T17:56:19.431Z"
      },
      {
        "duration": 312,
        "start_time": "2022-08-28T17:56:19.717Z"
      },
      {
        "duration": 19,
        "start_time": "2022-08-28T17:56:20.031Z"
      },
      {
        "duration": 6,
        "start_time": "2022-08-28T17:56:20.053Z"
      },
      {
        "duration": 495,
        "start_time": "2022-08-28T17:56:20.061Z"
      },
      {
        "duration": 244,
        "start_time": "2022-08-28T17:56:20.559Z"
      },
      {
        "duration": 316,
        "start_time": "2022-08-28T17:56:20.808Z"
      },
      {
        "duration": 8,
        "start_time": "2022-08-28T17:56:21.126Z"
      },
      {
        "duration": 12,
        "start_time": "2022-08-28T17:56:21.136Z"
      },
      {
        "duration": 4,
        "start_time": "2022-08-28T17:56:21.150Z"
      },
      {
        "duration": 5,
        "start_time": "2022-08-28T17:56:21.155Z"
      },
      {
        "duration": 21,
        "start_time": "2022-08-28T17:56:21.162Z"
      },
      {
        "duration": 42,
        "start_time": "2022-08-28T17:56:21.184Z"
      },
      {
        "duration": 19,
        "start_time": "2022-08-28T17:56:21.227Z"
      },
      {
        "duration": 4,
        "start_time": "2022-08-28T17:56:21.248Z"
      },
      {
        "duration": 59,
        "start_time": "2022-08-28T17:56:21.253Z"
      },
      {
        "duration": 202,
        "start_time": "2022-08-28T17:56:21.314Z"
      },
      {
        "duration": 115,
        "start_time": "2022-08-28T17:56:21.518Z"
      },
      {
        "duration": 8,
        "start_time": "2022-08-28T17:56:21.710Z"
      },
      {
        "duration": 7,
        "start_time": "2022-08-28T17:56:21.809Z"
      },
      {
        "duration": 9,
        "start_time": "2022-08-28T17:56:21.817Z"
      },
      {
        "duration": 1343,
        "start_time": "2022-08-28T17:56:21.827Z"
      },
      {
        "duration": 1279,
        "start_time": "2022-08-28T17:56:23.173Z"
      },
      {
        "duration": 1285,
        "start_time": "2022-08-28T17:56:24.454Z"
      },
      {
        "duration": 50,
        "start_time": "2022-08-28T17:57:36.049Z"
      },
      {
        "duration": 46,
        "start_time": "2022-08-28T18:01:31.240Z"
      },
      {
        "duration": 44,
        "start_time": "2022-08-28T18:26:28.895Z"
      },
      {
        "duration": 1573,
        "start_time": "2022-08-28T18:26:42.529Z"
      },
      {
        "duration": 1317,
        "start_time": "2022-08-28T18:27:43.165Z"
      },
      {
        "duration": 3,
        "start_time": "2022-08-28T18:27:44.484Z"
      },
      {
        "duration": 176,
        "start_time": "2022-08-28T18:27:44.489Z"
      },
      {
        "duration": 139,
        "start_time": "2022-08-28T18:27:44.667Z"
      },
      {
        "duration": 141,
        "start_time": "2022-08-28T18:27:44.809Z"
      },
      {
        "duration": 3,
        "start_time": "2022-08-28T18:27:44.952Z"
      },
      {
        "duration": 100,
        "start_time": "2022-08-28T18:27:44.957Z"
      },
      {
        "duration": 109,
        "start_time": "2022-08-28T18:27:45.058Z"
      },
      {
        "duration": 105,
        "start_time": "2022-08-28T18:27:45.169Z"
      },
      {
        "duration": 3,
        "start_time": "2022-08-28T18:27:45.278Z"
      },
      {
        "duration": 49,
        "start_time": "2022-08-28T18:27:45.283Z"
      },
      {
        "duration": 27,
        "start_time": "2022-08-28T18:27:45.334Z"
      },
      {
        "duration": 55,
        "start_time": "2022-08-28T18:27:45.362Z"
      },
      {
        "duration": 4,
        "start_time": "2022-08-28T18:27:45.419Z"
      },
      {
        "duration": 66,
        "start_time": "2022-08-28T18:27:45.425Z"
      },
      {
        "duration": 61,
        "start_time": "2022-08-28T18:27:45.509Z"
      },
      {
        "duration": 84,
        "start_time": "2022-08-28T18:27:45.572Z"
      },
      {
        "duration": 180,
        "start_time": "2022-08-28T18:27:45.658Z"
      },
      {
        "duration": 51,
        "start_time": "2022-08-28T18:27:45.839Z"
      },
      {
        "duration": 5,
        "start_time": "2022-08-28T18:27:45.908Z"
      },
      {
        "duration": 336,
        "start_time": "2022-08-28T18:27:45.915Z"
      },
      {
        "duration": 308,
        "start_time": "2022-08-28T18:27:46.252Z"
      },
      {
        "duration": 337,
        "start_time": "2022-08-28T18:27:46.562Z"
      },
      {
        "duration": 23,
        "start_time": "2022-08-28T18:27:46.901Z"
      },
      {
        "duration": 22,
        "start_time": "2022-08-28T18:27:46.926Z"
      },
      {
        "duration": 617,
        "start_time": "2022-08-28T18:27:46.950Z"
      },
      {
        "duration": 245,
        "start_time": "2022-08-28T18:27:47.569Z"
      },
      {
        "duration": 313,
        "start_time": "2022-08-28T18:27:47.818Z"
      },
      {
        "duration": 8,
        "start_time": "2022-08-28T18:27:48.132Z"
      },
      {
        "duration": 18,
        "start_time": "2022-08-28T18:27:48.141Z"
      },
      {
        "duration": 4,
        "start_time": "2022-08-28T18:27:48.161Z"
      },
      {
        "duration": 19,
        "start_time": "2022-08-28T18:27:48.167Z"
      },
      {
        "duration": 43,
        "start_time": "2022-08-28T18:27:48.188Z"
      },
      {
        "duration": 18,
        "start_time": "2022-08-28T18:27:48.232Z"
      },
      {
        "duration": 29,
        "start_time": "2022-08-28T18:27:48.252Z"
      },
      {
        "duration": 4,
        "start_time": "2022-08-28T18:27:48.284Z"
      },
      {
        "duration": 120,
        "start_time": "2022-08-28T18:27:48.290Z"
      },
      {
        "duration": 199,
        "start_time": "2022-08-28T18:27:48.412Z"
      },
      {
        "duration": 198,
        "start_time": "2022-08-28T18:27:48.613Z"
      },
      {
        "duration": 8,
        "start_time": "2022-08-28T18:27:48.814Z"
      },
      {
        "duration": 22,
        "start_time": "2022-08-28T18:27:48.910Z"
      },
      {
        "duration": 23,
        "start_time": "2022-08-28T18:27:48.933Z"
      },
      {
        "duration": 1380,
        "start_time": "2022-08-28T18:27:48.958Z"
      },
      {
        "duration": 1320,
        "start_time": "2022-08-28T18:27:50.339Z"
      },
      {
        "duration": 1335,
        "start_time": "2022-08-28T18:27:51.661Z"
      },
      {
        "duration": 1597,
        "start_time": "2022-08-28T22:44:09.780Z"
      },
      {
        "duration": 4,
        "start_time": "2022-08-28T22:44:11.379Z"
      },
      {
        "duration": 389,
        "start_time": "2022-08-28T22:44:11.385Z"
      },
      {
        "duration": 201,
        "start_time": "2022-08-28T22:44:11.776Z"
      },
      {
        "duration": 218,
        "start_time": "2022-08-28T22:44:11.979Z"
      },
      {
        "duration": 3,
        "start_time": "2022-08-28T22:44:12.199Z"
      },
      {
        "duration": 85,
        "start_time": "2022-08-28T22:44:12.204Z"
      },
      {
        "duration": 73,
        "start_time": "2022-08-28T22:44:12.291Z"
      },
      {
        "duration": 124,
        "start_time": "2022-08-28T22:44:12.366Z"
      },
      {
        "duration": 3,
        "start_time": "2022-08-28T22:44:12.493Z"
      },
      {
        "duration": 28,
        "start_time": "2022-08-28T22:44:12.498Z"
      },
      {
        "duration": 22,
        "start_time": "2022-08-28T22:44:12.528Z"
      },
      {
        "duration": 46,
        "start_time": "2022-08-28T22:44:12.551Z"
      },
      {
        "duration": 4,
        "start_time": "2022-08-28T22:44:12.598Z"
      },
      {
        "duration": 53,
        "start_time": "2022-08-28T22:44:12.604Z"
      },
      {
        "duration": 54,
        "start_time": "2022-08-28T22:44:12.685Z"
      },
      {
        "duration": 83,
        "start_time": "2022-08-28T22:44:12.741Z"
      },
      {
        "duration": 197,
        "start_time": "2022-08-28T22:44:12.827Z"
      },
      {
        "duration": 64,
        "start_time": "2022-08-28T22:44:13.026Z"
      },
      {
        "duration": 5,
        "start_time": "2022-08-28T22:44:13.092Z"
      },
      {
        "duration": 316,
        "start_time": "2022-08-28T22:44:13.099Z"
      },
      {
        "duration": 271,
        "start_time": "2022-08-28T22:44:13.417Z"
      },
      {
        "duration": 279,
        "start_time": "2022-08-28T22:44:13.690Z"
      },
      {
        "duration": 27,
        "start_time": "2022-08-28T22:44:13.971Z"
      },
      {
        "duration": 8,
        "start_time": "2022-08-28T22:44:14.002Z"
      },
      {
        "duration": 527,
        "start_time": "2022-08-28T22:44:14.012Z"
      },
      {
        "duration": 220,
        "start_time": "2022-08-28T22:44:14.541Z"
      },
      {
        "duration": 296,
        "start_time": "2022-08-28T22:44:14.764Z"
      },
      {
        "duration": 7,
        "start_time": "2022-08-28T22:44:15.062Z"
      },
      {
        "duration": 28,
        "start_time": "2022-08-28T22:44:15.070Z"
      },
      {
        "duration": 6,
        "start_time": "2022-08-28T22:44:15.100Z"
      },
      {
        "duration": 7,
        "start_time": "2022-08-28T22:44:15.108Z"
      },
      {
        "duration": 26,
        "start_time": "2022-08-28T22:44:15.117Z"
      },
      {
        "duration": 53,
        "start_time": "2022-08-28T22:44:15.145Z"
      },
      {
        "duration": 25,
        "start_time": "2022-08-28T22:44:15.200Z"
      },
      {
        "duration": 4,
        "start_time": "2022-08-28T22:44:15.226Z"
      },
      {
        "duration": 62,
        "start_time": "2022-08-28T22:44:15.233Z"
      },
      {
        "duration": 189,
        "start_time": "2022-08-28T22:44:15.297Z"
      },
      {
        "duration": 203,
        "start_time": "2022-08-28T22:44:15.487Z"
      },
      {
        "duration": 91,
        "start_time": "2022-08-28T22:44:15.693Z"
      },
      {
        "duration": 8,
        "start_time": "2022-08-28T22:44:15.786Z"
      },
      {
        "duration": 6,
        "start_time": "2022-08-28T22:44:15.796Z"
      },
      {
        "duration": 1290,
        "start_time": "2022-08-28T22:44:15.803Z"
      },
      {
        "duration": 1284,
        "start_time": "2022-08-28T22:44:17.095Z"
      },
      {
        "duration": 1231,
        "start_time": "2022-08-28T22:44:18.380Z"
      },
      {
        "duration": 1443,
        "start_time": "2022-08-29T12:58:45.030Z"
      },
      {
        "duration": 2,
        "start_time": "2022-08-29T12:58:46.475Z"
      },
      {
        "duration": 520,
        "start_time": "2022-08-29T12:58:46.479Z"
      },
      {
        "duration": 563,
        "start_time": "2022-08-29T12:58:47.001Z"
      },
      {
        "duration": 550,
        "start_time": "2022-08-29T12:58:47.566Z"
      },
      {
        "duration": 3,
        "start_time": "2022-08-29T12:58:48.117Z"
      },
      {
        "duration": 62,
        "start_time": "2022-08-29T12:58:48.122Z"
      },
      {
        "duration": 62,
        "start_time": "2022-08-29T12:58:48.186Z"
      },
      {
        "duration": 59,
        "start_time": "2022-08-29T12:58:48.250Z"
      },
      {
        "duration": 3,
        "start_time": "2022-08-29T12:58:48.311Z"
      },
      {
        "duration": 38,
        "start_time": "2022-08-29T12:58:48.315Z"
      },
      {
        "duration": 21,
        "start_time": "2022-08-29T12:58:48.354Z"
      },
      {
        "duration": 23,
        "start_time": "2022-08-29T12:58:48.376Z"
      },
      {
        "duration": 3,
        "start_time": "2022-08-29T12:58:48.400Z"
      },
      {
        "duration": 51,
        "start_time": "2022-08-29T12:58:48.431Z"
      },
      {
        "duration": 62,
        "start_time": "2022-08-29T12:58:48.483Z"
      },
      {
        "duration": 51,
        "start_time": "2022-08-29T12:58:48.546Z"
      },
      {
        "duration": 146,
        "start_time": "2022-08-29T12:58:48.599Z"
      },
      {
        "duration": 37,
        "start_time": "2022-08-29T12:58:48.746Z"
      },
      {
        "duration": 2,
        "start_time": "2022-08-29T12:58:48.785Z"
      },
      {
        "duration": 369,
        "start_time": "2022-08-29T12:58:48.788Z"
      },
      {
        "duration": 262,
        "start_time": "2022-08-29T12:58:49.158Z"
      },
      {
        "duration": 298,
        "start_time": "2022-08-29T12:58:49.422Z"
      },
      {
        "duration": 21,
        "start_time": "2022-08-29T12:58:49.722Z"
      },
      {
        "duration": 5,
        "start_time": "2022-08-29T12:58:49.745Z"
      },
      {
        "duration": 423,
        "start_time": "2022-08-29T12:58:49.751Z"
      },
      {
        "duration": 207,
        "start_time": "2022-08-29T12:58:50.175Z"
      },
      {
        "duration": 285,
        "start_time": "2022-08-29T12:58:50.385Z"
      },
      {
        "duration": 7,
        "start_time": "2022-08-29T12:58:50.671Z"
      },
      {
        "duration": 12,
        "start_time": "2022-08-29T12:58:50.679Z"
      },
      {
        "duration": 6,
        "start_time": "2022-08-29T12:58:50.693Z"
      },
      {
        "duration": 7,
        "start_time": "2022-08-29T12:58:50.700Z"
      },
      {
        "duration": 35,
        "start_time": "2022-08-29T12:58:50.708Z"
      },
      {
        "duration": 14,
        "start_time": "2022-08-29T12:58:50.744Z"
      },
      {
        "duration": 16,
        "start_time": "2022-08-29T12:58:50.759Z"
      },
      {
        "duration": 3,
        "start_time": "2022-08-29T12:58:50.777Z"
      },
      {
        "duration": 58,
        "start_time": "2022-08-29T12:58:50.782Z"
      },
      {
        "duration": 106,
        "start_time": "2022-08-29T12:58:50.932Z"
      },
      {
        "duration": 292,
        "start_time": "2022-08-29T12:58:51.040Z"
      },
      {
        "duration": 4,
        "start_time": "2022-08-29T12:58:51.334Z"
      },
      {
        "duration": 7,
        "start_time": "2022-08-29T12:58:51.339Z"
      },
      {
        "duration": 8,
        "start_time": "2022-08-29T12:58:51.348Z"
      },
      {
        "duration": 1276,
        "start_time": "2022-08-29T12:58:51.357Z"
      },
      {
        "duration": 1193,
        "start_time": "2022-08-29T12:58:52.634Z"
      },
      {
        "duration": 1135,
        "start_time": "2022-08-29T12:58:53.830Z"
      },
      {
        "duration": 1292,
        "start_time": "2022-08-29T13:05:45.765Z"
      },
      {
        "duration": 2,
        "start_time": "2022-08-29T13:05:47.059Z"
      },
      {
        "duration": 134,
        "start_time": "2022-08-29T13:05:47.062Z"
      },
      {
        "duration": 113,
        "start_time": "2022-08-29T13:05:47.198Z"
      },
      {
        "duration": 119,
        "start_time": "2022-08-29T13:05:47.313Z"
      },
      {
        "duration": 3,
        "start_time": "2022-08-29T13:05:47.434Z"
      },
      {
        "duration": 74,
        "start_time": "2022-08-29T13:05:47.438Z"
      },
      {
        "duration": 73,
        "start_time": "2022-08-29T13:05:47.513Z"
      },
      {
        "duration": 107,
        "start_time": "2022-08-29T13:05:47.587Z"
      },
      {
        "duration": 4,
        "start_time": "2022-08-29T13:05:47.697Z"
      },
      {
        "duration": 47,
        "start_time": "2022-08-29T13:05:47.702Z"
      },
      {
        "duration": 26,
        "start_time": "2022-08-29T13:05:47.751Z"
      },
      {
        "duration": 58,
        "start_time": "2022-08-29T13:05:47.779Z"
      },
      {
        "duration": 4,
        "start_time": "2022-08-29T13:05:47.839Z"
      },
      {
        "duration": 57,
        "start_time": "2022-08-29T13:05:47.845Z"
      },
      {
        "duration": 60,
        "start_time": "2022-08-29T13:05:47.903Z"
      },
      {
        "duration": 66,
        "start_time": "2022-08-29T13:05:47.965Z"
      },
      {
        "duration": 125,
        "start_time": "2022-08-29T13:05:48.032Z"
      },
      {
        "duration": 39,
        "start_time": "2022-08-29T13:05:48.159Z"
      },
      {
        "duration": 2,
        "start_time": "2022-08-29T13:05:48.200Z"
      },
      {
        "duration": 332,
        "start_time": "2022-08-29T13:05:48.203Z"
      },
      {
        "duration": 264,
        "start_time": "2022-08-29T13:05:48.537Z"
      },
      {
        "duration": 316,
        "start_time": "2022-08-29T13:05:48.803Z"
      },
      {
        "duration": 21,
        "start_time": "2022-08-29T13:05:49.121Z"
      },
      {
        "duration": 12,
        "start_time": "2022-08-29T13:05:49.143Z"
      },
      {
        "duration": 451,
        "start_time": "2022-08-29T13:05:49.156Z"
      },
      {
        "duration": 225,
        "start_time": "2022-08-29T13:05:49.609Z"
      },
      {
        "duration": 295,
        "start_time": "2022-08-29T13:05:49.839Z"
      },
      {
        "duration": 9,
        "start_time": "2022-08-29T13:05:50.135Z"
      },
      {
        "duration": 18,
        "start_time": "2022-08-29T13:05:50.146Z"
      },
      {
        "duration": 4,
        "start_time": "2022-08-29T13:05:50.165Z"
      },
      {
        "duration": 19,
        "start_time": "2022-08-29T13:05:50.170Z"
      },
      {
        "duration": 41,
        "start_time": "2022-08-29T13:05:50.191Z"
      },
      {
        "duration": 18,
        "start_time": "2022-08-29T13:05:50.234Z"
      },
      {
        "duration": 5,
        "start_time": "2022-08-29T13:05:50.253Z"
      },
      {
        "duration": 76,
        "start_time": "2022-08-29T13:05:50.260Z"
      },
      {
        "duration": 115,
        "start_time": "2022-08-29T13:05:50.338Z"
      },
      {
        "duration": 277,
        "start_time": "2022-08-29T13:05:50.455Z"
      },
      {
        "duration": 8,
        "start_time": "2022-08-29T13:05:50.734Z"
      },
      {
        "duration": 93,
        "start_time": "2022-08-29T13:05:50.743Z"
      },
      {
        "duration": 6,
        "start_time": "2022-08-29T13:05:50.838Z"
      },
      {
        "duration": 1276,
        "start_time": "2022-08-29T13:05:50.845Z"
      },
      {
        "duration": 1222,
        "start_time": "2022-08-29T13:05:52.122Z"
      },
      {
        "duration": 1165,
        "start_time": "2022-08-29T13:05:53.345Z"
      },
      {
        "duration": 1280,
        "start_time": "2022-08-29T15:47:48.956Z"
      },
      {
        "duration": 3,
        "start_time": "2022-08-29T15:47:50.238Z"
      },
      {
        "duration": 136,
        "start_time": "2022-08-29T15:47:50.242Z"
      },
      {
        "duration": 129,
        "start_time": "2022-08-29T15:47:50.381Z"
      },
      {
        "duration": 118,
        "start_time": "2022-08-29T15:47:50.512Z"
      },
      {
        "duration": 2,
        "start_time": "2022-08-29T15:47:50.632Z"
      },
      {
        "duration": 74,
        "start_time": "2022-08-29T15:47:50.636Z"
      },
      {
        "duration": 83,
        "start_time": "2022-08-29T15:47:50.712Z"
      },
      {
        "duration": 82,
        "start_time": "2022-08-29T15:47:50.796Z"
      },
      {
        "duration": 3,
        "start_time": "2022-08-29T15:47:50.880Z"
      },
      {
        "duration": 53,
        "start_time": "2022-08-29T15:47:50.884Z"
      },
      {
        "duration": 23,
        "start_time": "2022-08-29T15:47:50.939Z"
      },
      {
        "duration": 24,
        "start_time": "2022-08-29T15:47:50.964Z"
      },
      {
        "duration": 4,
        "start_time": "2022-08-29T15:47:50.989Z"
      },
      {
        "duration": 90,
        "start_time": "2022-08-29T15:47:50.994Z"
      },
      {
        "duration": 76,
        "start_time": "2022-08-29T15:47:51.086Z"
      },
      {
        "duration": 73,
        "start_time": "2022-08-29T15:47:51.164Z"
      },
      {
        "duration": 192,
        "start_time": "2022-08-29T15:47:51.239Z"
      },
      {
        "duration": 46,
        "start_time": "2022-08-29T15:47:51.433Z"
      },
      {
        "duration": 3,
        "start_time": "2022-08-29T15:47:51.482Z"
      },
      {
        "duration": 373,
        "start_time": "2022-08-29T15:47:51.487Z"
      },
      {
        "duration": 378,
        "start_time": "2022-08-29T15:47:51.863Z"
      },
      {
        "duration": 299,
        "start_time": "2022-08-29T15:47:52.242Z"
      },
      {
        "duration": 16,
        "start_time": "2022-08-29T15:47:52.543Z"
      },
      {
        "duration": 16,
        "start_time": "2022-08-29T15:47:52.561Z"
      },
      {
        "duration": 510,
        "start_time": "2022-08-29T15:47:52.578Z"
      },
      {
        "duration": 250,
        "start_time": "2022-08-29T15:47:53.090Z"
      },
      {
        "duration": 339,
        "start_time": "2022-08-29T15:47:53.343Z"
      },
      {
        "duration": 8,
        "start_time": "2022-08-29T15:47:53.684Z"
      },
      {
        "duration": 14,
        "start_time": "2022-08-29T15:47:53.694Z"
      },
      {
        "duration": 3,
        "start_time": "2022-08-29T15:47:53.710Z"
      },
      {
        "duration": 30,
        "start_time": "2022-08-29T15:47:53.732Z"
      },
      {
        "duration": 20,
        "start_time": "2022-08-29T15:47:53.763Z"
      },
      {
        "duration": 56,
        "start_time": "2022-08-29T15:47:53.785Z"
      },
      {
        "duration": 8,
        "start_time": "2022-08-29T15:47:53.846Z"
      },
      {
        "duration": 176,
        "start_time": "2022-08-29T15:47:53.855Z"
      },
      {
        "duration": 97,
        "start_time": "2022-08-29T15:47:54.034Z"
      },
      {
        "duration": 198,
        "start_time": "2022-08-29T15:47:54.134Z"
      },
      {
        "duration": 4,
        "start_time": "2022-08-29T15:47:54.334Z"
      },
      {
        "duration": 94,
        "start_time": "2022-08-29T15:47:54.340Z"
      },
      {
        "duration": 7,
        "start_time": "2022-08-29T15:47:54.436Z"
      },
      {
        "duration": 1254,
        "start_time": "2022-08-29T15:47:54.445Z"
      },
      {
        "duration": 1230,
        "start_time": "2022-08-29T15:47:55.701Z"
      },
      {
        "duration": 1335,
        "start_time": "2022-08-29T15:47:56.932Z"
      },
      {
        "duration": 176,
        "start_time": "2022-08-29T15:53:07.286Z"
      },
      {
        "duration": 240,
        "start_time": "2022-08-29T16:05:02.776Z"
      }
    ],
    "kernelspec": {
      "display_name": "Python 3 (ipykernel)",
      "language": "python",
      "name": "python3"
    },
    "language_info": {
      "codemirror_mode": {
        "name": "ipython",
        "version": 3
      },
      "file_extension": ".py",
      "mimetype": "text/x-python",
      "name": "python",
      "nbconvert_exporter": "python",
      "pygments_lexer": "ipython3",
      "version": "3.9.5"
    },
    "toc": {
      "base_numbering": 1,
      "nav_menu": {},
      "number_sections": true,
      "sideBar": true,
      "skip_h1_title": true,
      "title_cell": "Table of Contents",
      "title_sidebar": "Contents",
      "toc_cell": false,
      "toc_position": {},
      "toc_section_display": true,
      "toc_window_display": false
    },
    "colab": {
      "provenance": []
    }
  },
  "nbformat": 4,
  "nbformat_minor": 0
}